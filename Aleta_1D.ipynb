{
  "cells": [
    {
      "cell_type": "markdown",
      "metadata": {
        "id": "oPxUl9B_6iTL"
      },
      "source": [
        "#TRANSFERENCIA DE CALOR DESDE SUPERFICIES CON ALETAS"
      ]
    },
    {
      "cell_type": "markdown",
      "metadata": {
        "id": "yAPAnGWO7iAU"
      },
      "source": [
        "La razón de la transferencia de calor desde una superficie que está a una temperatura $T_s$ hacia el medio circundante que está a $T_{\\infty}$ se expresa por la ley de Newton del enfriamiento como:\n",
        "\n",
        "<center>$\\dot Q_{conv} = h A_s (T_s-T_{\\infty}) \\hspace{1cm} (1)$</center>\n",
        "\n",
        "donde $A_s$ es el área superficial de transferencia de calor y $h$ es el coeficiente de transferencia de calor por convección.\n",
        "\n",
        "* Las aletas mejoran la transferencia de calor desde una superficieal exponer un área más grande a la convección y la radiación\n",
        "\n",
        "* Las superficies con aletas son de uso común en la práctica para  mejorar la transferencia de calor y a  menudo incrementan la razón de esa transferencia desde una superficie varias veces.\n",
        "\n",
        "* En el análisis de las aletas, se considera operación estacionaria sin generación de calor en la aleta y se supone que la condcutividad térmica k del material permanece constante.\n",
        "\n",
        "* Los científicos pensaron que estas formaciones eran algún tipo de armadura que los protegía de los depredadores carnívoros, ahora sabemos que por esas placas fluían grandes cantidades de sangre y que quizá tenían la misma función que un radiador de automóvil. El corazón bombeaba sangre hacia esas placas y éstas funcioinaban como aletas refrigerantes para envair sangre fresca de regreso al corazón."
      ]
    },
    {
      "cell_type": "code",
      "execution_count": null,
      "metadata": {
        "cellView": "form",
        "colab": {
          "base_uri": "https://localhost:8080/",
          "height": 359
        },
        "id": "9UTbA61Y30Wj",
        "outputId": "0bec1806-dfd9-452c-f7bb-9c62d0e75d0d"
      },
      "outputs": [
        {
          "data": {
            "text/html": [
              "<style>\n",
              "  img {\n",
              "    display: block;\n",
              "    margin-left: auto;\n",
              "    margin-right: auto;\n",
              "    border: 10px solid #ddd;\n",
              "    border-radius: 5px;\n",
              "    filter: saturate(4);\n",
              "  } \n",
              "</style>\n",
              "<img src=\"http://2.bp.blogspot.com/-fber27pcXMc/VqUhGPKyTGI/AAAAAAAAAZU/BlG9RQuXLdk/s1600/2.52.jpg\">"
            ],
            "text/plain": [
              "<IPython.core.display.HTML object>"
            ]
          },
          "metadata": {},
          "output_type": "display_data"
        }
      ],
      "source": [
        "#@title \n",
        "%%html\n",
        "<style>\n",
        "  img {\n",
        "    display: block;\n",
        "    margin-left: auto;\n",
        "    margin-right: auto;\n",
        "    border: 10px solid #ddd;\n",
        "    border-radius: 5px;\n",
        "    filter: saturate(4);\n",
        "  } \n",
        "</style>\n",
        "<img src=\"http://2.bp.blogspot.com/-fber27pcXMc/VqUhGPKyTGI/AAAAAAAAAZU/BlG9RQuXLdk/s1600/2.52.jpg\">"
      ]
    },
    {
      "cell_type": "markdown",
      "metadata": {
        "id": "iwhAE6jVC-gF"
      },
      "source": [
        "#Ecuación de la aleta"
      ]
    },
    {
      "cell_type": "markdown",
      "metadata": {
        "id": "a3mZiAKlDCjk"
      },
      "source": [
        "Considere un elemento de volumen en una aleta, en la ubicación $x$, que tiene una longitud $\\Delta x$, un área de sección transversal de $A_c$ y un perímetro de $p$, como se muestra en la `figura 3-36`. En condiciones estacionarias, el balance de energía sobre este elemento de volumen se puede expresar como:\n",
        "\n",
        "<center>$\\displaystyle \\frac{d}{dx} \\left(k A_c \\frac{dT}{dx}\\right)-hp(T-T_{\\infty}) = 0 \\hspace{1cm} (2)$</center>\n",
        "\n",
        "En el caso especial de una sección transversal constante y conductividad térmica constante, la ecuación diferencial se reduce a:\n",
        "\n",
        "<center>$\\displaystyle \\frac{d^2T}{dx^2} - \\frac{hp}{kA_c}(T-T_{\\infty}) = 0 \\hspace{1cm} (3)$</center>\n",
        "\n",
        "Adimensionalizando:\n",
        "\n",
        "<center>$\\displaystyle \\theta=\\frac{T-T_{\\infty}}{T_{b}-T_{\\infty}} \\hspace{1cm} \\rightarrow \\hspace{1cm} (T_{b}-T_{\\infty})d\\theta=dT$</center>\n",
        "<center>$ $</center>\n",
        "<center>$\\displaystyle X = x/L \\hspace{1cm} \\rightarrow \\hspace{1cm} dx = LdX$</center>\n",
        "<center>$ $</center>\n",
        "<center>$\\displaystyle \\frac{d}{LdX}\\left[\\frac{T_{b}-T_{\\infty}}{L}\\ \\frac{d\\theta}{dX}\\right]-\\frac{hp}{kA_{c}}\\left(T_{b}-T_{\\infty}\\right)\\theta=0$</center>\n",
        "<center>$ $</center>\n",
        "\n",
        "Considerando $\\displaystyle \\hspace{0.3cm} T_{b} \\ne T_{\\infty} \\hspace{0.3cm},\\hspace{0.3cm} \\beta^{2}=\\frac{hpL^{2}\\ }{kA_{c}}$:\n",
        "\n",
        "<center>$ $</center>\n",
        "<center>$\\displaystyle \\frac{d^2\\theta}{dX^2}-\\beta^{2}\\theta=0 \\hspace{1cm} (4)$</center>\n",
        "\n",
        "Con condiciones de frontera:\n",
        "<center>$\\displaystyle X = 0 \\hspace{1cm} \\rightarrow \\hspace{1cm} \\theta=1$</center>\n",
        "<center>$\\displaystyle$</center>\n",
        "<center>$\\displaystyle X = 1 \\hspace{1cm} \\rightarrow \\hspace{1cm} \\frac{d\\theta}{dX}=0$</center>"
      ]
    },
    {
      "cell_type": "code",
      "execution_count": null,
      "metadata": {
        "cellView": "form",
        "colab": {
          "base_uri": "https://localhost:8080/",
          "height": 454
        },
        "id": "oVbQocl_HZ8G",
        "outputId": "65347985-4089-4986-b88c-5165124e3ffc"
      },
      "outputs": [
        {
          "data": {
            "text/html": [
              "<style>\n",
              "  img {\n",
              "    display: block;\n",
              "    margin-left: auto;\n",
              "    margin-right: auto;\n",
              "    border: 10px solid #ddd;\n",
              "    border-radius: 5px;\n",
              "    filter: saturate(4);\n",
              "  } \n",
              "</style>\n",
              "<img src=\"https://drive.google.com/uc?id=1E7t_xvWWi5a3VW6bbPCweZp0QoyB9IaO\">"
            ],
            "text/plain": [
              "<IPython.core.display.HTML object>"
            ]
          },
          "metadata": {},
          "output_type": "display_data"
        }
      ],
      "source": [
        "#@title \n",
        "%%html\n",
        "<style>\n",
        "  img {\n",
        "    display: block;\n",
        "    margin-left: auto;\n",
        "    margin-right: auto;\n",
        "    border: 10px solid #ddd;\n",
        "    border-radius: 5px;\n",
        "    filter: saturate(4);\n",
        "  } \n",
        "</style>\n",
        "<img src=\"https://drive.google.com/uc?id=1E7t_xvWWi5a3VW6bbPCweZp0QoyB9IaO\">"
      ]
    },
    {
      "cell_type": "markdown",
      "metadata": {
        "id": "08mVPdGtJ5il"
      },
      "source": [
        "#Desarrollo"
      ]
    },
    {
      "cell_type": "markdown",
      "metadata": {
        "id": "sI73BqrxKBUl"
      },
      "source": [
        "##Consideraciones y Datos:"
      ]
    },
    {
      "cell_type": "markdown",
      "metadata": {
        "id": "SV7T8eq0NdW1"
      },
      "source": [
        "Se considerara que la punta de la aleta esta aislada para el desarrollo del problema, entonces las ecuacion analitica para la temperatura de la aleta es:\n",
        "\n",
        "<center>$\\displaystyle T(x)= (T_b-T_{\\infty})\\frac{\\cosh(m(L-x))}{\\cosh(mL)}+T_{\\infty} \\hspace{1cm}$</center>\n",
        "\n",
        "donde $\\hspace{0.3cm} m = \\frac{\\beta}{L}$, adimensionalizando:\n",
        "\n",
        "<center>$\\displaystyle \\theta\\left(X\\right)= \\frac{\\cosh(\\beta(1-X))}{\\cosh(\\beta)} \\hspace{1cm} (5)$</center>\n",
        "\n",
        "y para la *razón de transferencia de calor* es:\n",
        "\n",
        "<center>$\\displaystyle \\dot Q(x)= -k A_c \\frac{dT}{dx}$</center>\n",
        "<center>$\\displaystyle $</center>\n",
        "<center>$\\displaystyle \\dot Q(x)= \\sqrt{hpkA_c}(T_b-T_{\\infty})\\frac{\\sinh\\left(m(L-x)\\right)}{\\cosh(mL)}$</center>\n",
        "<center>$\\displaystyle $</center>\n",
        "<center>$\\displaystyle \\dot Q(X)= \\sqrt{hpkA_c}(T_b-T_{\\infty})\\frac{\\sinh\\left(\\beta(1-X)\\right)}{\\cosh(\\beta)} \\hspace{1cm} (6)$</center>"
      ]
    },
    {
      "cell_type": "code",
      "execution_count": null,
      "metadata": {
        "cellView": "form",
        "colab": {
          "base_uri": "https://localhost:8080/",
          "height": 170
        },
        "id": "7Z1O0I82G6lj",
        "outputId": "41a89520-f2b8-41b9-ec86-31f3407844db"
      },
      "outputs": [
        {
          "data": {
            "text/html": [
              "<head>\n",
              "  <style>\n",
              "    img {\n",
              "      display: block;\n",
              "      margin-left: auto;\n",
              "      margin-right: auto;\n",
              "      margin-top: 40px;\n",
              "      margin-bottom: 20px;\n",
              "      width: 350px;\n",
              "      border: 10px solid #ddd;\n",
              "      border-radius: 5px;\n",
              "      filter: saturate(4);\n",
              "    }\n",
              "    table {\n",
              "      border-collapse: collapse;\n",
              "      border-spacing: 0;\n",
              "      margin-left: auto;\n",
              "      margin-right: auto;\n",
              "      font-size:15px;\n",
              "    }\n",
              "    th, td {\n",
              "      text-align: center;\n",
              "      padding: 12px;\n",
              "      width: 100px;\n",
              "    }\n",
              "    tr:nth-child(even) {\n",
              "      background-color: #525252;\n",
              "    } \n",
              "    .td2 {\n",
              "      border: 3px solid #666666;\n",
              "    }\n",
              "    .td1 {\n",
              "      border: 3px solid #545454;\n",
              "    } \n",
              "  </style>\n",
              "  <script src=\"https://polyfill.io/v3/polyfill.min.js?features=es6\"></script>\n",
              "  <script id=\"MathJax-script\" async\n",
              "          src=\"https://cdn.jsdelivr.net/npm/mathjax@3.0.1/es5/tex-mml-chtml.js\">\n",
              "  </script>\n",
              "</head>\n",
              "<body>\n",
              "  <p style=\"font-size:16px; margin-bottom: 30px;\">\n",
              "    para el desarrollo del problema se han propuesto los siguientes parametros:\n",
              "  </p>\n",
              "  <table>\n",
              "    <tr>\n",
              "      <td class = \"td1\">\\(k~(W/m.K)\\)</td>\n",
              "      <td class = \"td1\">\\(L~(mm)\\)</td>\n",
              "      <td class = \"td1\">\\(W~(mm)\\)</td>\n",
              "      <td class = \"td1\">\\(t~(mm)\\)</td>\n",
              "      <td class = \"td1\">\\(h~(W/m^2.K)\\)</td>\n",
              "      <td class = \"td1\">\\(T_b~(°C)\\)</td>\n",
              "      <td class = \"td1\">\\(T_{\\infty}~(°C)\\)</td>\n",
              "    </tr>\n",
              "    <tr>\n",
              "      <td class = \"td2\">\\(150-300\\)</td>\n",
              "      <td class = \"td2\">\\(8-500\\)</td>\n",
              "      <td class = \"td2\">\\(10-200\\)</td>\n",
              "      <td class = \"td2\">\\(1-20\\)</td>\n",
              "      <td class = \"td2\">\\(50-400\\)</td>\n",
              "      <td class = \"td2\">\\(100-400\\)</td>\n",
              "      <td class = \"td2\">\\(10-30\\)</td>\n",
              "    </tr>\n",
              "  </table>\n",
              "</body>"
            ],
            "text/plain": [
              "<IPython.core.display.HTML object>"
            ]
          },
          "metadata": {},
          "output_type": "display_data"
        }
      ],
      "source": [
        "#@title\n",
        "%%html\n",
        "<head>\n",
        "  <style>\n",
        "    img {\n",
        "      display: block;\n",
        "      margin-left: auto;\n",
        "      margin-right: auto;\n",
        "      margin-top: 40px;\n",
        "      margin-bottom: 20px;\n",
        "      width: 350px;\n",
        "      border: 10px solid #ddd;\n",
        "      border-radius: 5px;\n",
        "      filter: saturate(4);\n",
        "    }\n",
        "    table {\n",
        "      border-collapse: collapse;\n",
        "      border-spacing: 0;\n",
        "      margin-left: auto;\n",
        "      margin-right: auto;\n",
        "      font-size:15px;\n",
        "    }\n",
        "    th, td {\n",
        "      text-align: center;\n",
        "      padding: 12px;\n",
        "      width: 100px;\n",
        "    }\n",
        "    tr:nth-child(even) {\n",
        "      background-color: #525252;\n",
        "    } \n",
        "    .td2 {\n",
        "      border: 3px solid #666666;\n",
        "    }\n",
        "    .td1 {\n",
        "      border: 3px solid #545454;\n",
        "    } \n",
        "  </style>\n",
        "  <script src=\"https://polyfill.io/v3/polyfill.min.js?features=es6\"></script>\n",
        "  <script id=\"MathJax-script\" async\n",
        "          src=\"https://cdn.jsdelivr.net/npm/mathjax@3.0.1/es5/tex-mml-chtml.js\">\n",
        "  </script>\n",
        "</head>\n",
        "<body>\n",
        "  <p style=\"font-size:16px; margin-bottom: 30px;\">\n",
        "    para el desarrollo del problema se han propuesto los siguientes parametros:\n",
        "  </p>\n",
        "  <table>\n",
        "    <tr>\n",
        "      <td class = \"td1\">\\(k~(W/m.K)\\)</td>\n",
        "      <td class = \"td1\">\\(L~(mm)\\)</td>\n",
        "      <td class = \"td1\">\\(W~(mm)\\)</td>\n",
        "      <td class = \"td1\">\\(t~(mm)\\)</td>\n",
        "      <td class = \"td1\">\\(h~(W/m^2.K)\\)</td>\n",
        "      <td class = \"td1\">\\(T_b~(°C)\\)</td>\n",
        "      <td class = \"td1\">\\(T_{\\infty}~(°C)\\)</td>\n",
        "    </tr>\n",
        "    <tr>\n",
        "      <td class = \"td2\">\\(150-300\\)</td>\n",
        "      <td class = \"td2\">\\(8-500\\)</td>\n",
        "      <td class = \"td2\">\\(10-200\\)</td>\n",
        "      <td class = \"td2\">\\(1-20\\)</td>\n",
        "      <td class = \"td2\">\\(50-400\\)</td>\n",
        "      <td class = \"td2\">\\(100-400\\)</td>\n",
        "      <td class = \"td2\">\\(10-30\\)</td>\n",
        "    </tr>\n",
        "  </table>\n",
        "</body>"
      ]
    },
    {
      "cell_type": "markdown",
      "metadata": {
        "id": "RoEaPxYAKEmM"
      },
      "source": [
        "##Solucion numerica:"
      ]
    },
    {
      "cell_type": "markdown",
      "metadata": {
        "id": "QY_yZGcBdGzQ"
      },
      "source": [
        "###Método de volumenes finitos"
      ]
    },
    {
      "cell_type": "markdown",
      "metadata": {
        "id": "V4oBfv8SuDj_"
      },
      "source": [
        "El metodo de los volumenes de control finitos permite discretizar y resolver numericamente ecuaciones diferenciales. Es un metodo alternativo a los de diferencias finitas y elementos finitos.\n",
        "Consideremos una malla de discretizacion del espacio fluido. En torno a cada punto de esta malla se construye un volumen de control que no se traslapa con los de los puntos vecinos. De esta forma el volumen total de fluido resulta ser igual a la suma de los volumenes de control considerados. La ecuacion diferencial a resolver se integra sobre cada volumen de control, lo cual entrega como resultado una version discretizada de dicha ecuacion. Para realizar la integracion se\n",
        "requiere especificar perfiles de variacion de la variable dependiente entre los puntos de la malla, de modo de poder evaluar las integrales resultantes. La principal propiedad del sistema de ecuaciones\n",
        "discretizadas resultante, es que la solucion obtenida satisface en forma exacta las ecuaciones de conservacion consideradas, independientemente del tamaño de la malla. "
      ]
    },
    {
      "cell_type": "code",
      "execution_count": null,
      "metadata": {
        "cellView": "form",
        "colab": {
          "base_uri": "https://localhost:8080/",
          "height": 180
        },
        "id": "L30v_8wkuGaf",
        "outputId": "fcef758a-4310-4fb4-9269-b11e6d0d6a20"
      },
      "outputs": [
        {
          "data": {
            "text/html": [
              "<style>\n",
              "  img {\n",
              "    display: block;\n",
              "    margin-left: auto;\n",
              "    margin-right: auto;\n",
              "    border: 10px solid #ddd;\n",
              "    border-radius: 5px;\n",
              "    filter: saturate(4);\n",
              "  } \n",
              "</style>\n",
              "<img src=\"data:image/png;base64,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\">"
            ],
            "text/plain": [
              "<IPython.core.display.HTML object>"
            ]
          },
          "metadata": {},
          "output_type": "display_data"
        }
      ],
      "source": [
        "#@title \n",
        "%%html\n",
        "<style>\n",
        "  img {\n",
        "    display: block;\n",
        "    margin-left: auto;\n",
        "    margin-right: auto;\n",
        "    border: 10px solid #ddd;\n",
        "    border-radius: 5px;\n",
        "    filter: saturate(4);\n",
        "  } \n",
        "</style>\n",
        "<img src=\"data:image/png;base64,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\">"
      ]
    },
    {
      "cell_type": "markdown",
      "metadata": {
        "id": "7eCINvfKrnMJ"
      },
      "source": [
        "En el caso de la ecuacion (4), a travez del metodo de volumenes finitos integramos:\n",
        "\n",
        "<center>$\\displaystyle \\int_{w}^{e}\\frac{d}{dX}\\left(\\frac{d\\theta}{dX}\\right)dX-\\int_{w}^{e}\\beta^{2}\\theta dX=0$</center>\n",
        "\n",
        "<center>$\\displaystyle $</center>\n",
        "\n",
        "<center>$\\displaystyle \\rightarrow \\left(\\frac{d\\theta}{dX}\\right)_{e}-\\left(\\frac{d\\theta}{dX}\\right)_{w}-\\beta^{2}\\int_{w}^{e}\\theta dX=0$</center>\n",
        "\n",
        "<center>$\\displaystyle $</center>\n",
        "\n",
        "<center>$\\displaystyle \\rightarrow \\frac{\\theta_{E}-\\theta_{P}}{δX_{e}}-\\frac{\\theta_{P}-\\theta_{W}}{δX_{w}}-\\beta^{2}\\theta_{P}ΔX=0$</center>\n",
        "\n",
        "Agrupando términos se tiene:\n",
        "\n",
        "<center>$\\displaystyle $</center>\n",
        "\n",
        "<center>$\\displaystyle \\theta_{E}\\left(\\frac{1}{δX_{e}}\\right)+\\theta_{W}\\left(\\frac{1}{δX_{w}}\\right)=\\theta_{P}\\left(\\frac{1}{δX_{e}}+\\frac{1}{δX_{w}}+\\beta^{2}ΔX\\right) \\hspace{1cm} (6)$</center>\n",
        "\n",
        "<center>$\\displaystyle $</center>\n"
      ]
    },
    {
      "cell_type": "markdown",
      "metadata": {
        "id": "duDCbdYP6HdI"
      },
      "source": [
        "###Algoritmo para matrices tridiagonales (TDMA)"
      ]
    },
    {
      "cell_type": "markdown",
      "metadata": {
        "id": "UxqAO0b26QH5"
      },
      "source": [
        "El algoritmo para matrices tridiagonales o algoritmo de Thomas es un algoritmo del álgebra lineal numérica para resolver matrices tridiagonales de forma eficiente. Una matriz tridiagonal se corresponde a un sistema de ecuaciones de la forma: $a_i x_{i-1}+b_i x_i + c_i x_{i+1}=d_i$ , donde $a_1 = 0$ y $c_n=0$, lo que se puede representar matricialmente como:"
      ]
    },
    {
      "cell_type": "code",
      "execution_count": null,
      "metadata": {
        "cellView": "form",
        "colab": {
          "base_uri": "https://localhost:8080/",
          "height": 184
        },
        "id": "lV3FZFHf6yvP",
        "outputId": "2985a39a-9e0c-49cd-b198-f505bf868401"
      },
      "outputs": [
        {
          "data": {
            "text/html": [
              "<style>\n",
              "  img {\n",
              "    display: block;\n",
              "    margin-left: auto;\n",
              "    margin-right: auto;\n",
              "    border: 10px solid #ddd;\n",
              "    border-radius: 5px;\n",
              "    filter: saturate(4);\n",
              "  } \n",
              "</style>\n",
              "<img src=\"data:image/png;base64,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\">"
            ],
            "text/plain": [
              "<IPython.core.display.HTML object>"
            ]
          },
          "metadata": {},
          "output_type": "display_data"
        }
      ],
      "source": [
        "#@title \n",
        "%%html\n",
        "<style>\n",
        "  img {\n",
        "    display: block;\n",
        "    margin-left: auto;\n",
        "    margin-right: auto;\n",
        "    border: 10px solid #ddd;\n",
        "    border-radius: 5px;\n",
        "    filter: saturate(4);\n",
        "  } \n",
        "</style>\n",
        "<img src=\"data:image/png;base64,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\">"
      ]
    },
    {
      "cell_type": "markdown",
      "metadata": {
        "id": "mtKPmAP86FzY"
      },
      "source": [
        "Reformulamos y generalizamos para aplicar el algoritmo TDMA\n",
        "\n",
        "<center>$\\displaystyle a_{i}\\theta_{i-1}+b_{i}\\theta_{i}+c_{i}\\theta_{i+1}=d_{i}$</center>\n",
        "\n",
        "Donde:\n",
        "\n",
        "<center>$\\displaystyle a_{i}=\\frac{1}{δX_{w}}\\ \\ \\ b_{i}=-\\left(\\frac{1}{δX_{e}}+\\frac{1}{δX_{w}}+\\beta^{2}ΔX_{P}\\right)\\ \\ c_{i}=\\frac{1}{δX_{e}}\\ \\ d_{i}=0$</center>\n",
        "\n",
        "<center>$\\displaystyle $</center>\n",
        "\n",
        "<center>$\\displaystyle \\rightarrow a_{i}=\\frac{1}{δX_{i-1}}\\ \\ \\ b_{i}=-\\left(\\frac{1}{δX_{i}}+\\frac{1}{δX_{i-1}}+\\beta^{2}ΔX_{i}\\right)\\ \\ c_{i}=\\frac{1}{δX_{i}}\\ \\ d_{i}=0$</center>\n",
        "\n",
        "Para $i=1$:\n",
        "\n",
        "<center>$\\displaystyle a_{1}\\theta_{0}+b_{1}\\theta_{1}+c_{1}\\theta_{2}=d_{1}\\ \\ \\ ,\\ \\ \\ \\theta_{1} = 1$</center>\n",
        "\n",
        "<center>$\\displaystyle $</center>\n",
        "\n",
        "<center>$\\displaystyle \\rightarrow a_{1}=0\\ \\ ,\\ \\ b_{1}=1\\ \\ ,\\ \\ c_{1}=0\\ \\ ,\\ \\ d_{1}=1$</center>\n",
        "\n",
        "Para $i=n$:\n",
        "\n",
        "<center>$\\displaystyle \\theta_{n-1}\\left(\\frac{1}{δX_{n-1}}\\right)=\\theta_{n}\\left(\\frac{1}{δX_{n-1}}+\\beta^{2}ΔX_{n}\\right)$</center>\n",
        "\n",
        "<center>$\\displaystyle $</center>\n",
        "\n",
        "<center>$\\displaystyle \\rightarrow a_{n}=\\frac{1}{δX_{n-1}}\\ \\ ,\\ \\ b_{n}=-\\left(\\frac{1}{δX_{n-1}}+\\beta^{2}ΔX_{n}\\right)\\ \\ ,\\ \\ c_{n}=0\\ \\ ,\\ \\ d_{n}=0$</center>\n"
      ]
    },
    {
      "cell_type": "markdown",
      "metadata": {
        "id": "jRlu82sO1yEa"
      },
      "source": [
        "###Extrapolación de Richardson"
      ]
    },
    {
      "cell_type": "markdown",
      "metadata": {
        "id": "fqVyjl9W11xp"
      },
      "source": [
        "El método de extrapolación de Richardson, desarrollado por Lewis Fry Richardson (1881-1953), permite construir a partir de una secuencia convergente otra secuencia más rápidamente convergente. Esta técnica se usa frecuentemente para mejorar los resultados de métodos numéricos a partir de una estimación previa, de igual forma mejora la precisión en el cálculo numérico de la derivada de una función, partiendo de la base de la serie de Taylor. Este proceso es especialmente utilizado para definir un método de integración: el método de Romberg.\n",
        "Aunque el metodo aplicado se usa para la integración de Romberg, puede aplicarse perfectamente a este caso de estudio. Este método dos estimaciones de una integral (o en este caso dos estimaciones de la temperatura) para calcular una tercera más exacta\n",
        "La estimación y el error correspondiente a la regla del trapecio de aplicación múltiple se representa de manera general como:\n",
        "\n",
        "<center>$\\displaystyle I=I(h)+E(h)$</center>\n",
        "\n",
        "donde $I$ = el valor exacto de la integral, $I(h)$ = la aproximación obtenida de una aplicación con n segmentos de la regla del trapecio, con un tamaño de paso $h = (b – a)/n$, y $E(h)$ = el error de truncamiento. Si hacemos, por separado, dos estimaciones usando tamaños de paso $h_1$ y $h_2$ y tenemos valores exactos del error,\n",
        "\n",
        "<center>$\\displaystyle I(h_1)+E(h_1) = I(h_2)+E(h_2)$</center>\n",
        "\n",
        "se puede determinar la razon entre los errores, que será\n",
        "\n",
        "<center>$\\displaystyle \\frac {E(h_1)}{E(h_2)} \\cong \\frac {h_1^2}{h_2^2}$</center>\n",
        "\n",
        "De esta realcion se puede determinar una mejor estimacion de la integral:\n",
        "\n",
        "<center>$\\displaystyle I \\cong I(h_2)+\\frac {1}{(h_1/h_2)^2-1}[I(h_2)-I(h_1)]$</center>\n",
        "\n",
        "Se puede demostrar (Ralston y Rabinowitz, 1978) que el error de esta estimación es $O(h^4)$. Así, hemos combinado dos estimaciones con la regla del trapecio de $O(h^2)$ para obtener una nueva estimación de $O(h^4)$. En el caso especial donde el intervalo es dividido a la mitad $(h2 = h1/2)$, esta ecuación se convierte en:\n",
        "\n",
        "<center>$\\displaystyle I \\cong \\frac {4I(h_2)-I(h_1)}{3}$</center>\n",
        "\n",
        "Se puede generar otra estimación $O(h^4)$ usando $(h2 = h1/2)$ y $(h3 = h1/4)$ y de esta y la anterior estimacion generar un valor aún mejor con $O(h^6)$ mediante la siguiente ecuación:\n",
        "\n",
        "<center>$\\displaystyle I \\cong \\frac {16I_m-I_l}{15}$</center>\n",
        "\n",
        "Estas formulaciones se expresan en una forma general muy adecuada para la implementación en computadora:\n",
        "\n",
        "<center>$\\displaystyle I_{j,k} \\cong \\frac {4^{k-1}I_{j+1,k-1}-I_{j,k-1}}{4^{k-1}-1}$</center>"
      ]
    },
    {
      "cell_type": "markdown",
      "metadata": {
        "id": "pk9A5vKC1FnS"
      },
      "source": [
        "##Implementación"
      ]
    },
    {
      "cell_type": "markdown",
      "metadata": {
        "id": "E5NgrzRHGT8B"
      },
      "source": [
        "Instrucciones:\n",
        "* Modifique los parametros de la siguiente celda.\n",
        "* Ejecute todas las celdas siguientes."
      ]
    },
    {
      "cell_type": "code",
      "execution_count": null,
      "metadata": {
        "cellView": "form",
        "id": "nfGx7zep1LdQ"
      },
      "outputs": [],
      "source": [
        "#@title Datos del modelo\n",
        "#Datos\n",
        "k = 235 #@param {type:\"slider\", min:150, max:400, step:1}\n",
        "L = 109 #@param {type:\"slider\", min:8, max:120, step:1}\n",
        "W = 100 #@param {type:\"slider\", min:10, max:200, step:1}\n",
        "t = 5 #@param {type:\"slider\", min:1, max:20, step:1}\n",
        "h = 154 #@param {type:\"slider\", min:50, max:400, step:1}\n",
        "Tb = 300 #@param {type:\"slider\", min:100, max:400, step:1}\n",
        "Tinf = 25 #@param {type:\"slider\", min:10, max:30, step:1}\n",
        "\n",
        "L = L/1000 # en metros\n",
        "W = W/1000 # en metros\n",
        "t = t/1000 # en metros\n",
        "\n",
        "Ac = W*t\n",
        "p = 2*(W+t)\n",
        "beta2 = (h*p*L**2)/(k*Ac)\n",
        "beta = beta2**0.5\n",
        "n =  10 #@param {type:\"integer\"}\n",
        "alpha = 1 #@param {type:\"slider\", min:0.1, max:10, step:0.1}\n",
        "n = n-1"
      ]
    },
    {
      "cell_type": "markdown",
      "metadata": {
        "id": "sWY8N-euZqIE"
      },
      "source": [
        "Donde \n",
        "* L: longitud de la aleta\n",
        "* n: numero de volumenes para el modelo\n",
        "* $\\alpha$: distribucion de puntos para el modelo"
      ]
    },
    {
      "cell_type": "code",
      "execution_count": null,
      "metadata": {
        "cellView": "form",
        "colab": {
          "base_uri": "https://localhost:8080/"
        },
        "id": "z49oQGjR4QfS",
        "outputId": "57889699-6c56-4351-aefc-22bcad18f0d1"
      },
      "outputs": [
        {
          "name": "stdout",
          "output_type": "stream",
          "text": [
            "La temperatura en la punta de la aleta de manera analitica es: 0.3193°\n",
            "La tasa de transferencia de calor en la base de la aleta de manera analitica es: 508.0132\n"
          ]
        }
      ],
      "source": [
        "#@title Solución Analitica\n",
        "import numpy as np\n",
        "import matplotlib.pyplot as plt\n",
        "\n",
        "def Tf(x):\n",
        "  return np.cosh(beta*(1-x))/np.cosh(beta)\n",
        "\n",
        "def dQf(x):\n",
        "  return np.sqrt(h*p*k*Ac)*(Tb-Tinf)*(np.sinh(beta*(1-x))/np.cosh(beta)) \n",
        "\n",
        "dx = 1/n\n",
        "x = (np.arange(0,n+1,1)/n)**alpha\n",
        "T1 = Tf(x)\n",
        "dQ1 = dQf(x)\n",
        "\n",
        "print(f\"La temperatura en la punta de la aleta de manera analitica es: {round(T1[-1],4)}°\")\n",
        "print(f\"La tasa de transferencia de calor en la base de la aleta de manera analitica es: {round(dQ1[0],4)}\")"
      ]
    },
    {
      "cell_type": "code",
      "execution_count": null,
      "metadata": {
        "cellView": "form",
        "id": "21z8LMPJOXA7"
      },
      "outputs": [],
      "source": [
        "#@title TDMA\n",
        "import numpy as np\n",
        "\n",
        "def TDMASolve(a, b, c, d):\n",
        "    n = len(d)  # número de filas\n",
        "\n",
        "    # Modifica los coeficientes de la primera fila\n",
        "    c[0] /= b[0]  # Posible división por cero\n",
        "    d[0] /= b[0]\n",
        "\n",
        "    for i in range(1, n):\n",
        "        ptemp = b[i] - (a[i] * c[i-1])\n",
        "        c[i] /= ptemp\n",
        "        d[i] = (d[i] - a[i] * d[i-1])/ptemp\n",
        "\n",
        "    # Sustitución hacia atrás\n",
        "    x = [0 for i in range(n)]\n",
        "    x[-1] = d[-1]\n",
        "\n",
        "    for i in range(-2, -n-1, -1):\n",
        "        x[i] = d[i] - c[i] * x[i+1]\n",
        "\n",
        "    return np.array(x)"
      ]
    },
    {
      "cell_type": "code",
      "execution_count": null,
      "metadata": {
        "cellView": "form",
        "colab": {
          "base_uri": "https://localhost:8080/"
        },
        "id": "vUOIEKV68EA7",
        "outputId": "832d785c-a2fb-4bb7-a0f3-270a3f480290"
      },
      "outputs": [
        {
          "name": "stdout",
          "output_type": "stream",
          "text": [
            "La temperatura en la punta de la aleta de manera numerica es: 0.3193\n",
            "La tasa de transferencia de calor en la base de la aleta de manera numerica es: 507.608\n"
          ]
        }
      ],
      "source": [
        "#@title Solucion Numerica\n",
        "import numpy as np\n",
        "\n",
        "def Tn(n):\n",
        "  #mesh\n",
        "  xp = (np.arange(n+1)/n)**alpha\n",
        "  n = n+1\n",
        "  xface = (xp[1:]+xp[:-1])*0.5\n",
        "  xdelta = xp[1:]-xp[:-1]\n",
        "  xddelta = np.concatenate(([xface[0]-xp[0]],xface[1:]-xface[:-1],[xp[-1]-xface[-1]]), axis=0)\n",
        "  \n",
        "  #coeficientes TDMA\n",
        "  d = np.concatenate(([1],np.zeros(n-1)),axis=0)\n",
        "  c = np.concatenate(([0],1/xdelta[1:],[0]),axis=0)\n",
        "  a = np.concatenate(([0],1/xdelta),axis=0)\n",
        "  b = -(a+c+beta**2*xddelta)\n",
        "  b[0] = 1\n",
        "\n",
        "  Tx = TDMASolve(a,b,c,d)\n",
        "  return Tx\n",
        "\n",
        "def dQn(n):\n",
        "  xp = (np.arange(n+1)/n)**alpha\n",
        "  xdelta = xp[2:]-xp[:-2]\n",
        "  T = Tn(n)\n",
        "\n",
        "  xip = xp[2:]\n",
        "  xim = xp[:-2]\n",
        "  xi = xp[1:-1]\n",
        "\n",
        "  dT = T[:-2]*(xi-xip)/((xim-xi)*(xim-xip)) + T[1:-1]*(2*xi-xim-xip)/((xi-xim)*(xi-xip)) + T[2:]*(xi-xim)/((xip-xim)*(xip-xi))\n",
        "  dT0= T[0]*(2*xp[0]-xp[1]-xp[2])/((xp[0]-xp[1])*(xp[0]-xp[2])) + T[1]*(xp[0]-xp[2])/((xp[1]-xp[0])*(xp[1]-xp[2])) + T[2]*(xp[0]-xp[1])/((xp[2]-xp[0])*(xp[2]-xp[1]))\n",
        "  dT = np.concatenate(([dT0],dT,[0]),axis=0)\n",
        "  dQx = -k*Ac*(Tb-Tinf)/L*dT\n",
        "  return dQx\n",
        "\n",
        "T2 = Tn(n)\n",
        "dQ2 = dQn(n)\n",
        "print(f\"La temperatura en la punta de la aleta de manera numerica es: {round(T2[-1],4)}\")\n",
        "print(f\"La tasa de transferencia de calor en la base de la aleta de manera numerica es: {round(dQ2[0],4)}\")"
      ]
    },
    {
      "cell_type": "code",
      "execution_count": null,
      "metadata": {
        "cellView": "form",
        "colab": {
          "base_uri": "https://localhost:8080/"
        },
        "id": "0Q58FNVnLmkj",
        "outputId": "96708f93-a0bc-4408-ce08-6de97459ccd5"
      },
      "outputs": [
        {
          "name": "stdout",
          "output_type": "stream",
          "text": [
            "La temperatura en la punta de la aleta de manera numerica es: 0.3193\n",
            "La tasa de transferencia de calor en la base de la aleta de manera numerica es: 508.0131\n"
          ]
        }
      ],
      "source": [
        "#@title Extrapolacion de Richardson\n",
        "import numpy as np\n",
        "\n",
        "def Richardson(f,n,num):\n",
        "  data = []\n",
        "  for k in range(num):\n",
        "    layer = []\n",
        "    for j in range(num-k):\n",
        "      if k==0:\n",
        "        Te = f(n*(2**j))\n",
        "        index = np.arange(Te.size)\n",
        "        Te = np.extract(np.mod(index, 2**j)==0, Te)\n",
        "        layer.append(Te)\n",
        "      else:\n",
        "        Te = (4**((k)*1)*data[k-1][j+1]-data[k-1][j])/(4**((k)*1)-1)\n",
        "        layer.append(Te)\n",
        "    data.append(layer)\n",
        "  return data[-1][-1]\n",
        "\n",
        "numero_extrapolaciones = \"3\" #@param [1,2,3,4,5,6]\n",
        "num_ext = int(numero_extrapolaciones)\n",
        "Tr = Richardson(Tn,n,num_ext)\n",
        "dQr = Richardson(dQn,n,num_ext)\n",
        "print(f\"La temperatura en la punta de la aleta de manera numerica es: {round(Tr[-1],4)}\")\n",
        "print(f\"La tasa de transferencia de calor en la base de la aleta de manera numerica es: {round(dQr[0],4)}\")"
      ]
    },
    {
      "cell_type": "code",
      "execution_count": null,
      "metadata": {
        "cellView": "form",
        "colab": {
          "base_uri": "https://localhost:8080/",
          "height": 1000
        },
        "id": "kdDrlQfFb67-",
        "outputId": "0ed9b829-f6b8-4aaa-8ed4-945f87b02a6d"
      },
      "outputs": [
        {
          "name": "stdout",
          "output_type": "stream",
          "text": [
            "error absoluto porcentual numerico en la temperatura: 0.0153\n",
            "error absoluto porcentual extrapolado 3 veces en la temperatura: 0.0\n",
            "\n"
          ]
        },
        {
          "data": {
            "text/html": [
              "<div>\n",
              "<style scoped>\n",
              "    .dataframe tbody tr th:only-of-type {\n",
              "        vertical-align: middle;\n",
              "    }\n",
              "\n",
              "    .dataframe tbody tr th {\n",
              "        vertical-align: top;\n",
              "    }\n",
              "\n",
              "    .dataframe thead th {\n",
              "        text-align: right;\n",
              "    }\n",
              "</style>\n",
              "<table border=\"1\" class=\"dataframe\">\n",
              "  <thead>\n",
              "    <tr style=\"text-align: right;\">\n",
              "      <th></th>\n",
              "      <th>T Analitico</th>\n",
              "      <th>T Numerico</th>\n",
              "      <th>T Extrapolado</th>\n",
              "      <th>error absoluto % numerico</th>\n",
              "      <th>error absoluto % extrapolado</th>\n",
              "    </tr>\n",
              "  </thead>\n",
              "  <tbody>\n",
              "    <tr>\n",
              "      <th>0</th>\n",
              "      <td>1.0000</td>\n",
              "      <td>1.0000</td>\n",
              "      <td>1.0000</td>\n",
              "      <td>0.0000</td>\n",
              "      <td>0.0</td>\n",
              "    </tr>\n",
              "    <tr>\n",
              "      <th>1</th>\n",
              "      <td>0.9571</td>\n",
              "      <td>0.9571</td>\n",
              "      <td>0.9571</td>\n",
              "      <td>0.0005</td>\n",
              "      <td>0.0</td>\n",
              "    </tr>\n",
              "    <tr>\n",
              "      <th>2</th>\n",
              "      <td>0.9163</td>\n",
              "      <td>0.9163</td>\n",
              "      <td>0.9163</td>\n",
              "      <td>0.0009</td>\n",
              "      <td>0.0</td>\n",
              "    </tr>\n",
              "    <tr>\n",
              "      <th>3</th>\n",
              "      <td>0.8774</td>\n",
              "      <td>0.8775</td>\n",
              "      <td>0.8774</td>\n",
              "      <td>0.0014</td>\n",
              "      <td>0.0</td>\n",
              "    </tr>\n",
              "    <tr>\n",
              "      <th>4</th>\n",
              "      <td>0.8405</td>\n",
              "      <td>0.8405</td>\n",
              "      <td>0.8405</td>\n",
              "      <td>0.0019</td>\n",
              "      <td>0.0</td>\n",
              "    </tr>\n",
              "    <tr>\n",
              "      <th>5</th>\n",
              "      <td>0.8053</td>\n",
              "      <td>0.8053</td>\n",
              "      <td>0.8053</td>\n",
              "      <td>0.0024</td>\n",
              "      <td>0.0</td>\n",
              "    </tr>\n",
              "    <tr>\n",
              "      <th>6</th>\n",
              "      <td>0.7719</td>\n",
              "      <td>0.7719</td>\n",
              "      <td>0.7719</td>\n",
              "      <td>0.0029</td>\n",
              "      <td>0.0</td>\n",
              "    </tr>\n",
              "    <tr>\n",
              "      <th>7</th>\n",
              "      <td>0.7401</td>\n",
              "      <td>0.7401</td>\n",
              "      <td>0.7401</td>\n",
              "      <td>0.0034</td>\n",
              "      <td>0.0</td>\n",
              "    </tr>\n",
              "    <tr>\n",
              "      <th>8</th>\n",
              "      <td>0.7099</td>\n",
              "      <td>0.7100</td>\n",
              "      <td>0.7099</td>\n",
              "      <td>0.0038</td>\n",
              "      <td>0.0</td>\n",
              "    </tr>\n",
              "    <tr>\n",
              "      <th>9</th>\n",
              "      <td>0.6813</td>\n",
              "      <td>0.6813</td>\n",
              "      <td>0.6813</td>\n",
              "      <td>0.0043</td>\n",
              "      <td>0.0</td>\n",
              "    </tr>\n",
              "    <tr>\n",
              "      <th>10</th>\n",
              "      <td>0.6541</td>\n",
              "      <td>0.6541</td>\n",
              "      <td>0.6541</td>\n",
              "      <td>0.0048</td>\n",
              "      <td>0.0</td>\n",
              "    </tr>\n",
              "    <tr>\n",
              "      <th>11</th>\n",
              "      <td>0.6283</td>\n",
              "      <td>0.6284</td>\n",
              "      <td>0.6283</td>\n",
              "      <td>0.0053</td>\n",
              "      <td>0.0</td>\n",
              "    </tr>\n",
              "    <tr>\n",
              "      <th>12</th>\n",
              "      <td>0.6039</td>\n",
              "      <td>0.6039</td>\n",
              "      <td>0.6039</td>\n",
              "      <td>0.0058</td>\n",
              "      <td>0.0</td>\n",
              "    </tr>\n",
              "    <tr>\n",
              "      <th>13</th>\n",
              "      <td>0.5808</td>\n",
              "      <td>0.5808</td>\n",
              "      <td>0.5808</td>\n",
              "      <td>0.0063</td>\n",
              "      <td>0.0</td>\n",
              "    </tr>\n",
              "    <tr>\n",
              "      <th>14</th>\n",
              "      <td>0.5589</td>\n",
              "      <td>0.5589</td>\n",
              "      <td>0.5589</td>\n",
              "      <td>0.0068</td>\n",
              "      <td>0.0</td>\n",
              "    </tr>\n",
              "    <tr>\n",
              "      <th>15</th>\n",
              "      <td>0.5382</td>\n",
              "      <td>0.5383</td>\n",
              "      <td>0.5382</td>\n",
              "      <td>0.0073</td>\n",
              "      <td>0.0</td>\n",
              "    </tr>\n",
              "    <tr>\n",
              "      <th>16</th>\n",
              "      <td>0.5187</td>\n",
              "      <td>0.5187</td>\n",
              "      <td>0.5187</td>\n",
              "      <td>0.0078</td>\n",
              "      <td>0.0</td>\n",
              "    </tr>\n",
              "    <tr>\n",
              "      <th>17</th>\n",
              "      <td>0.5003</td>\n",
              "      <td>0.5003</td>\n",
              "      <td>0.5003</td>\n",
              "      <td>0.0083</td>\n",
              "      <td>0.0</td>\n",
              "    </tr>\n",
              "    <tr>\n",
              "      <th>18</th>\n",
              "      <td>0.4830</td>\n",
              "      <td>0.4830</td>\n",
              "      <td>0.4830</td>\n",
              "      <td>0.0088</td>\n",
              "      <td>0.0</td>\n",
              "    </tr>\n",
              "    <tr>\n",
              "      <th>19</th>\n",
              "      <td>0.4667</td>\n",
              "      <td>0.4667</td>\n",
              "      <td>0.4667</td>\n",
              "      <td>0.0093</td>\n",
              "      <td>0.0</td>\n",
              "    </tr>\n",
              "    <tr>\n",
              "      <th>20</th>\n",
              "      <td>0.4514</td>\n",
              "      <td>0.4514</td>\n",
              "      <td>0.4514</td>\n",
              "      <td>0.0098</td>\n",
              "      <td>0.0</td>\n",
              "    </tr>\n",
              "    <tr>\n",
              "      <th>21</th>\n",
              "      <td>0.4371</td>\n",
              "      <td>0.4371</td>\n",
              "      <td>0.4371</td>\n",
              "      <td>0.0102</td>\n",
              "      <td>0.0</td>\n",
              "    </tr>\n",
              "    <tr>\n",
              "      <th>22</th>\n",
              "      <td>0.4237</td>\n",
              "      <td>0.4238</td>\n",
              "      <td>0.4237</td>\n",
              "      <td>0.0107</td>\n",
              "      <td>0.0</td>\n",
              "    </tr>\n",
              "    <tr>\n",
              "      <th>23</th>\n",
              "      <td>0.4112</td>\n",
              "      <td>0.4113</td>\n",
              "      <td>0.4112</td>\n",
              "      <td>0.0112</td>\n",
              "      <td>0.0</td>\n",
              "    </tr>\n",
              "    <tr>\n",
              "      <th>24</th>\n",
              "      <td>0.3997</td>\n",
              "      <td>0.3997</td>\n",
              "      <td>0.3997</td>\n",
              "      <td>0.0116</td>\n",
              "      <td>0.0</td>\n",
              "    </tr>\n",
              "    <tr>\n",
              "      <th>25</th>\n",
              "      <td>0.3889</td>\n",
              "      <td>0.3890</td>\n",
              "      <td>0.3889</td>\n",
              "      <td>0.0120</td>\n",
              "      <td>0.0</td>\n",
              "    </tr>\n",
              "    <tr>\n",
              "      <th>26</th>\n",
              "      <td>0.3791</td>\n",
              "      <td>0.3791</td>\n",
              "      <td>0.3791</td>\n",
              "      <td>0.0124</td>\n",
              "      <td>0.0</td>\n",
              "    </tr>\n",
              "    <tr>\n",
              "      <th>27</th>\n",
              "      <td>0.3700</td>\n",
              "      <td>0.3700</td>\n",
              "      <td>0.3700</td>\n",
              "      <td>0.0128</td>\n",
              "      <td>0.0</td>\n",
              "    </tr>\n",
              "    <tr>\n",
              "      <th>28</th>\n",
              "      <td>0.3617</td>\n",
              "      <td>0.3618</td>\n",
              "      <td>0.3617</td>\n",
              "      <td>0.0132</td>\n",
              "      <td>0.0</td>\n",
              "    </tr>\n",
              "    <tr>\n",
              "      <th>29</th>\n",
              "      <td>0.3542</td>\n",
              "      <td>0.3543</td>\n",
              "      <td>0.3542</td>\n",
              "      <td>0.0136</td>\n",
              "      <td>0.0</td>\n",
              "    </tr>\n",
              "    <tr>\n",
              "      <th>30</th>\n",
              "      <td>0.3475</td>\n",
              "      <td>0.3475</td>\n",
              "      <td>0.3475</td>\n",
              "      <td>0.0139</td>\n",
              "      <td>0.0</td>\n",
              "    </tr>\n",
              "    <tr>\n",
              "      <th>31</th>\n",
              "      <td>0.3415</td>\n",
              "      <td>0.3415</td>\n",
              "      <td>0.3415</td>\n",
              "      <td>0.0142</td>\n",
              "      <td>0.0</td>\n",
              "    </tr>\n",
              "    <tr>\n",
              "      <th>32</th>\n",
              "      <td>0.3362</td>\n",
              "      <td>0.3363</td>\n",
              "      <td>0.3362</td>\n",
              "      <td>0.0144</td>\n",
              "      <td>0.0</td>\n",
              "    </tr>\n",
              "    <tr>\n",
              "      <th>33</th>\n",
              "      <td>0.3317</td>\n",
              "      <td>0.3318</td>\n",
              "      <td>0.3317</td>\n",
              "      <td>0.0147</td>\n",
              "      <td>0.0</td>\n",
              "    </tr>\n",
              "    <tr>\n",
              "      <th>34</th>\n",
              "      <td>0.3279</td>\n",
              "      <td>0.3279</td>\n",
              "      <td>0.3279</td>\n",
              "      <td>0.0149</td>\n",
              "      <td>0.0</td>\n",
              "    </tr>\n",
              "    <tr>\n",
              "      <th>35</th>\n",
              "      <td>0.3248</td>\n",
              "      <td>0.3248</td>\n",
              "      <td>0.3248</td>\n",
              "      <td>0.0150</td>\n",
              "      <td>0.0</td>\n",
              "    </tr>\n",
              "    <tr>\n",
              "      <th>36</th>\n",
              "      <td>0.3224</td>\n",
              "      <td>0.3224</td>\n",
              "      <td>0.3224</td>\n",
              "      <td>0.0152</td>\n",
              "      <td>0.0</td>\n",
              "    </tr>\n",
              "    <tr>\n",
              "      <th>37</th>\n",
              "      <td>0.3206</td>\n",
              "      <td>0.3207</td>\n",
              "      <td>0.3206</td>\n",
              "      <td>0.0153</td>\n",
              "      <td>0.0</td>\n",
              "    </tr>\n",
              "    <tr>\n",
              "      <th>38</th>\n",
              "      <td>0.3196</td>\n",
              "      <td>0.3197</td>\n",
              "      <td>0.3196</td>\n",
              "      <td>0.0153</td>\n",
              "      <td>0.0</td>\n",
              "    </tr>\n",
              "    <tr>\n",
              "      <th>39</th>\n",
              "      <td>0.3193</td>\n",
              "      <td>0.3193</td>\n",
              "      <td>0.3193</td>\n",
              "      <td>0.0153</td>\n",
              "      <td>0.0</td>\n",
              "    </tr>\n",
              "  </tbody>\n",
              "</table>\n",
              "</div>"
            ],
            "text/plain": [
              "     T Analitico    ...  error absoluto % extrapolado\n",
              "0           1.0000  ...                           0.0\n",
              "1           0.9571  ...                           0.0\n",
              "2           0.9163  ...                           0.0\n",
              "3           0.8774  ...                           0.0\n",
              "4           0.8405  ...                           0.0\n",
              "5           0.8053  ...                           0.0\n",
              "6           0.7719  ...                           0.0\n",
              "7           0.7401  ...                           0.0\n",
              "8           0.7099  ...                           0.0\n",
              "9           0.6813  ...                           0.0\n",
              "10          0.6541  ...                           0.0\n",
              "11          0.6283  ...                           0.0\n",
              "12          0.6039  ...                           0.0\n",
              "13          0.5808  ...                           0.0\n",
              "14          0.5589  ...                           0.0\n",
              "15          0.5382  ...                           0.0\n",
              "16          0.5187  ...                           0.0\n",
              "17          0.5003  ...                           0.0\n",
              "18          0.4830  ...                           0.0\n",
              "19          0.4667  ...                           0.0\n",
              "20          0.4514  ...                           0.0\n",
              "21          0.4371  ...                           0.0\n",
              "22          0.4237  ...                           0.0\n",
              "23          0.4112  ...                           0.0\n",
              "24          0.3997  ...                           0.0\n",
              "25          0.3889  ...                           0.0\n",
              "26          0.3791  ...                           0.0\n",
              "27          0.3700  ...                           0.0\n",
              "28          0.3617  ...                           0.0\n",
              "29          0.3542  ...                           0.0\n",
              "30          0.3475  ...                           0.0\n",
              "31          0.3415  ...                           0.0\n",
              "32          0.3362  ...                           0.0\n",
              "33          0.3317  ...                           0.0\n",
              "34          0.3279  ...                           0.0\n",
              "35          0.3248  ...                           0.0\n",
              "36          0.3224  ...                           0.0\n",
              "37          0.3206  ...                           0.0\n",
              "38          0.3196  ...                           0.0\n",
              "39          0.3193  ...                           0.0\n",
              "\n",
              "[40 rows x 5 columns]"
            ]
          },
          "execution_count": 12,
          "metadata": {},
          "output_type": "execute_result"
        }
      ],
      "source": [
        "#@title Comparacion de Datos\n",
        "import pandas as pd\n",
        "en = 100*(T2-T1)/T1\n",
        "ex = 100*(Tr-T1)/T1\n",
        "dataTemp = np.array([T1,T2,Tr,en,ex])\n",
        "dataTemp = np.transpose(dataTemp)\n",
        "dataTemp = np.round(dataTemp, 4)\n",
        " \n",
        "# Create the pandas DataFrame\n",
        "df = pd.DataFrame(dataTemp, columns = [' T Analitico  ',' T Numerico  ',' T Extrapolado  ','error absoluto % numerico','error absoluto % extrapolado'])\n",
        "\n",
        "print(\"error absoluto porcentual numerico en la temperatura:\", round(en[-1],4))\n",
        "print(f\"error absoluto porcentual extrapolado {numero_extrapolaciones} veces en la temperatura:\", round(ex[-1],4))\n",
        "print()\n",
        "\n",
        "# print dataframe.\n",
        "df"
      ]
    },
    {
      "cell_type": "markdown",
      "metadata": {
        "id": "plroGUOjvq4f"
      },
      "source": [
        "###Graficas"
      ]
    },
    {
      "cell_type": "code",
      "execution_count": null,
      "metadata": {
        "cellView": "form",
        "colab": {
          "base_uri": "https://localhost:8080/",
          "height": 542
        },
        "id": "0yTeoTF5iXEu",
        "outputId": "4cf1e327-1d36-4704-dc74-3a898a8ee4ec"
      },
      "outputs": [
        {
          "data": {
            "text/html": [
              "<html>\n",
              "<head><meta charset=\"utf-8\" /></head>\n",
              "<body>\n",
              "    <div>\n",
              "            <script src=\"https://cdnjs.cloudflare.com/ajax/libs/mathjax/2.7.5/MathJax.js?config=TeX-AMS-MML_SVG\"></script><script type=\"text/javascript\">if (window.MathJax) {MathJax.Hub.Config({SVG: {font: \"STIX-Web\"}});}</script>\n",
              "                <script type=\"text/javascript\">window.PlotlyConfig = {MathJaxConfig: 'local'};</script>\n",
              "        <script src=\"https://cdn.plot.ly/plotly-latest.min.js\"></script>    \n",
              "            <div id=\"99c8ec6d-74f3-4590-b498-72f040aa7cba\" class=\"plotly-graph-div\" style=\"height:525px; width:100%;\"></div>\n",
              "            <script type=\"text/javascript\">\n",
              "                \n",
              "                    window.PLOTLYENV=window.PLOTLYENV || {};\n",
              "                    \n",
              "                if (document.getElementById(\"99c8ec6d-74f3-4590-b498-72f040aa7cba\")) {\n",
              "                    Plotly.newPlot(\n",
              "                        '99c8ec6d-74f3-4590-b498-72f040aa7cba',\n",
              "                        [{\"cmax\": 1.0, \"cmin\": 0.2554206516065265, \"colorbar\": {\"x\": -0.07}, \"colorscale\": [[0.0, \"rgb(150,0,90)\"], [0.125, \"rgb(0,0,200)\"], [0.25, \"rgb(0,25,255)\"], [0.375, \"rgb(0,152,255)\"], [0.5, \"rgb(44,255,150)\"], [0.625, \"rgb(151,255,0)\"], [0.75, \"rgb(255,234,0)\"], [0.875, \"rgb(255,111,0)\"], [1.0, \"rgb(255,0,0)\"]], \"scene\": \"scene\", \"surfacecolor\": [[1.0, 0.9571232898818021, 0.9163043354710259, 0.8774553785474944, 0.840492896263439, 0.8053374215745566, 0.7719133723907935, 0.7401488890795404, 0.7099756799718783, 0.6813288745397271, 0.6541468839282334, 0.6283712685435525, 0.6039466124113468, 0.5808204040358779, 0.5589429235035474, 0.5382671355881673, 0.5187485886281409, 0.500345318958147, 0.48301776068986296, 0.46672866064775814, 0.4514429982770779, 0.4371279103518224, 0.4237526203208497, 0.41128837214019887, 0.39970836844937996, 0.3889877129587103, 0.37910335692383657, 0.3700340495923634, 0.36176029251605435, 0.35426429763037753, 0.3475299490112696, 0.3415427682268993, 0.3362898832099365, 0.33176000058340654, 0.3279433813806295, 0.3248318201070462, 0.322418627098914, 0.32069861414094414, 0.31966808331196117, 0.319324819034602], [1.0, 0.9571232898818021, 0.9163043354710259, 0.8774553785474944, 0.840492896263439, 0.8053374215745566, 0.7719133723907935, 0.7401488890795404, 0.7099756799718783, 0.6813288745397271, 0.6541468839282334, 0.6283712685435525, 0.6039466124113468, 0.5808204040358779, 0.5589429235035474, 0.5382671355881673, 0.5187485886281409, 0.500345318958147, 0.48301776068986296, 0.46672866064775814, 0.4514429982770779, 0.4371279103518224, 0.4237526203208497, 0.41128837214019887, 0.39970836844937996, 0.3889877129587103, 0.37910335692383657, 0.3700340495923634, 0.36176029251605435, 0.35426429763037753, 0.3475299490112696, 0.3415427682268993, 0.3362898832099365, 0.33176000058340654, 0.3279433813806295, 0.3248318201070462, 0.322418627098914, 0.32069861414094414, 0.31966808331196117, 0.319324819034602], [1.0, 0.9571232898818021, 0.9163043354710259, 0.8774553785474944, 0.840492896263439, 0.8053374215745566, 0.7719133723907935, 0.7401488890795404, 0.7099756799718783, 0.6813288745397271, 0.6541468839282334, 0.6283712685435525, 0.6039466124113468, 0.5808204040358779, 0.5589429235035474, 0.5382671355881673, 0.5187485886281409, 0.500345318958147, 0.48301776068986296, 0.46672866064775814, 0.4514429982770779, 0.4371279103518224, 0.4237526203208497, 0.41128837214019887, 0.39970836844937996, 0.3889877129587103, 0.37910335692383657, 0.3700340495923634, 0.36176029251605435, 0.35426429763037753, 0.3475299490112696, 0.3415427682268993, 0.3362898832099365, 0.33176000058340654, 0.3279433813806295, 0.3248318201070462, 0.322418627098914, 0.32069861414094414, 0.31966808331196117, 0.319324819034602], [1.0, 0.9571232898818021, 0.9163043354710259, 0.8774553785474944, 0.840492896263439, 0.8053374215745566, 0.7719133723907935, 0.7401488890795404, 0.7099756799718783, 0.6813288745397271, 0.6541468839282334, 0.6283712685435525, 0.6039466124113468, 0.5808204040358779, 0.5589429235035474, 0.5382671355881673, 0.5187485886281409, 0.500345318958147, 0.48301776068986296, 0.46672866064775814, 0.4514429982770779, 0.4371279103518224, 0.4237526203208497, 0.41128837214019887, 0.39970836844937996, 0.3889877129587103, 0.37910335692383657, 0.3700340495923634, 0.36176029251605435, 0.35426429763037753, 0.3475299490112696, 0.3415427682268993, 0.3362898832099365, 0.33176000058340654, 0.3279433813806295, 0.3248318201070462, 0.322418627098914, 0.32069861414094414, 0.31966808331196117, 0.319324819034602], [1.0, 0.9571232898818021, 0.9163043354710259, 0.8774553785474944, 0.840492896263439, 0.8053374215745566, 0.7719133723907935, 0.7401488890795404, 0.7099756799718783, 0.6813288745397271, 0.6541468839282334, 0.6283712685435525, 0.6039466124113468, 0.5808204040358779, 0.5589429235035474, 0.5382671355881673, 0.5187485886281409, 0.500345318958147, 0.48301776068986296, 0.46672866064775814, 0.4514429982770779, 0.4371279103518224, 0.4237526203208497, 0.41128837214019887, 0.39970836844937996, 0.3889877129587103, 0.37910335692383657, 0.3700340495923634, 0.36176029251605435, 0.35426429763037753, 0.3475299490112696, 0.3415427682268993, 0.3362898832099365, 0.33176000058340654, 0.3279433813806295, 0.3248318201070462, 0.322418627098914, 0.32069861414094414, 0.31966808331196117, 0.319324819034602], [1.0, 0.9571232898818021, 0.9163043354710259, 0.8774553785474944, 0.840492896263439, 0.8053374215745566, 0.7719133723907935, 0.7401488890795404, 0.7099756799718783, 0.6813288745397271, 0.6541468839282334, 0.6283712685435525, 0.6039466124113468, 0.5808204040358779, 0.5589429235035474, 0.5382671355881673, 0.5187485886281409, 0.500345318958147, 0.48301776068986296, 0.46672866064775814, 0.4514429982770779, 0.4371279103518224, 0.4237526203208497, 0.41128837214019887, 0.39970836844937996, 0.3889877129587103, 0.37910335692383657, 0.3700340495923634, 0.36176029251605435, 0.35426429763037753, 0.3475299490112696, 0.3415427682268993, 0.3362898832099365, 0.33176000058340654, 0.3279433813806295, 0.3248318201070462, 0.322418627098914, 0.32069861414094414, 0.31966808331196117, 0.319324819034602], [1.0, 0.9571232898818021, 0.9163043354710259, 0.8774553785474944, 0.840492896263439, 0.8053374215745566, 0.7719133723907935, 0.7401488890795404, 0.7099756799718783, 0.6813288745397271, 0.6541468839282334, 0.6283712685435525, 0.6039466124113468, 0.5808204040358779, 0.5589429235035474, 0.5382671355881673, 0.5187485886281409, 0.500345318958147, 0.48301776068986296, 0.46672866064775814, 0.4514429982770779, 0.4371279103518224, 0.4237526203208497, 0.41128837214019887, 0.39970836844937996, 0.3889877129587103, 0.37910335692383657, 0.3700340495923634, 0.36176029251605435, 0.35426429763037753, 0.3475299490112696, 0.3415427682268993, 0.3362898832099365, 0.33176000058340654, 0.3279433813806295, 0.3248318201070462, 0.322418627098914, 0.32069861414094414, 0.31966808331196117, 0.319324819034602], [1.0, 0.9571232898818021, 0.9163043354710259, 0.8774553785474944, 0.840492896263439, 0.8053374215745566, 0.7719133723907935, 0.7401488890795404, 0.7099756799718783, 0.6813288745397271, 0.6541468839282334, 0.6283712685435525, 0.6039466124113468, 0.5808204040358779, 0.5589429235035474, 0.5382671355881673, 0.5187485886281409, 0.500345318958147, 0.48301776068986296, 0.46672866064775814, 0.4514429982770779, 0.4371279103518224, 0.4237526203208497, 0.41128837214019887, 0.39970836844937996, 0.3889877129587103, 0.37910335692383657, 0.3700340495923634, 0.36176029251605435, 0.35426429763037753, 0.3475299490112696, 0.3415427682268993, 0.3362898832099365, 0.33176000058340654, 0.3279433813806295, 0.3248318201070462, 0.322418627098914, 0.32069861414094414, 0.31966808331196117, 0.319324819034602], [1.0, 0.9571232898818021, 0.9163043354710259, 0.8774553785474944, 0.840492896263439, 0.8053374215745566, 0.7719133723907935, 0.7401488890795404, 0.7099756799718783, 0.6813288745397271, 0.6541468839282334, 0.6283712685435525, 0.6039466124113468, 0.5808204040358779, 0.5589429235035474, 0.5382671355881673, 0.5187485886281409, 0.500345318958147, 0.48301776068986296, 0.46672866064775814, 0.4514429982770779, 0.4371279103518224, 0.4237526203208497, 0.41128837214019887, 0.39970836844937996, 0.3889877129587103, 0.37910335692383657, 0.3700340495923634, 0.36176029251605435, 0.35426429763037753, 0.3475299490112696, 0.3415427682268993, 0.3362898832099365, 0.33176000058340654, 0.3279433813806295, 0.3248318201070462, 0.322418627098914, 0.32069861414094414, 0.31966808331196117, 0.319324819034602], [1.0, 0.9571232898818021, 0.9163043354710259, 0.8774553785474944, 0.840492896263439, 0.8053374215745566, 0.7719133723907935, 0.7401488890795404, 0.7099756799718783, 0.6813288745397271, 0.6541468839282334, 0.6283712685435525, 0.6039466124113468, 0.5808204040358779, 0.5589429235035474, 0.5382671355881673, 0.5187485886281409, 0.500345318958147, 0.48301776068986296, 0.46672866064775814, 0.4514429982770779, 0.4371279103518224, 0.4237526203208497, 0.41128837214019887, 0.39970836844937996, 0.3889877129587103, 0.37910335692383657, 0.3700340495923634, 0.36176029251605435, 0.35426429763037753, 0.3475299490112696, 0.3415427682268993, 0.3362898832099365, 0.33176000058340654, 0.3279433813806295, 0.3248318201070462, 0.322418627098914, 0.32069861414094414, 0.31966808331196117, 0.319324819034602]], \"type\": \"surface\", \"x\": [[0.0, 0.02564102564102564, 0.05128205128205128, 0.07692307692307693, 0.10256410256410256, 0.1282051282051282, 0.15384615384615385, 0.1794871794871795, 0.20512820512820512, 0.23076923076923078, 0.2564102564102564, 0.28205128205128205, 0.3076923076923077, 0.3333333333333333, 0.358974358974359, 0.38461538461538464, 0.41025641025641024, 0.4358974358974359, 0.46153846153846156, 0.48717948717948717, 0.5128205128205128, 0.5384615384615384, 0.5641025641025641, 0.5897435897435898, 0.6153846153846154, 0.6410256410256411, 0.6666666666666666, 0.6923076923076923, 0.717948717948718, 0.7435897435897436, 0.7692307692307693, 0.7948717948717948, 0.8205128205128205, 0.8461538461538461, 0.8717948717948718, 0.8974358974358975, 0.9230769230769231, 0.9487179487179487, 0.9743589743589743, 1.0], [0.0, 0.02564102564102564, 0.05128205128205128, 0.07692307692307693, 0.10256410256410256, 0.1282051282051282, 0.15384615384615385, 0.1794871794871795, 0.20512820512820512, 0.23076923076923078, 0.2564102564102564, 0.28205128205128205, 0.3076923076923077, 0.3333333333333333, 0.358974358974359, 0.38461538461538464, 0.41025641025641024, 0.4358974358974359, 0.46153846153846156, 0.48717948717948717, 0.5128205128205128, 0.5384615384615384, 0.5641025641025641, 0.5897435897435898, 0.6153846153846154, 0.6410256410256411, 0.6666666666666666, 0.6923076923076923, 0.717948717948718, 0.7435897435897436, 0.7692307692307693, 0.7948717948717948, 0.8205128205128205, 0.8461538461538461, 0.8717948717948718, 0.8974358974358975, 0.9230769230769231, 0.9487179487179487, 0.9743589743589743, 1.0], [0.0, 0.02564102564102564, 0.05128205128205128, 0.07692307692307693, 0.10256410256410256, 0.1282051282051282, 0.15384615384615385, 0.1794871794871795, 0.20512820512820512, 0.23076923076923078, 0.2564102564102564, 0.28205128205128205, 0.3076923076923077, 0.3333333333333333, 0.358974358974359, 0.38461538461538464, 0.41025641025641024, 0.4358974358974359, 0.46153846153846156, 0.48717948717948717, 0.5128205128205128, 0.5384615384615384, 0.5641025641025641, 0.5897435897435898, 0.6153846153846154, 0.6410256410256411, 0.6666666666666666, 0.6923076923076923, 0.717948717948718, 0.7435897435897436, 0.7692307692307693, 0.7948717948717948, 0.8205128205128205, 0.8461538461538461, 0.8717948717948718, 0.8974358974358975, 0.9230769230769231, 0.9487179487179487, 0.9743589743589743, 1.0], [0.0, 0.02564102564102564, 0.05128205128205128, 0.07692307692307693, 0.10256410256410256, 0.1282051282051282, 0.15384615384615385, 0.1794871794871795, 0.20512820512820512, 0.23076923076923078, 0.2564102564102564, 0.28205128205128205, 0.3076923076923077, 0.3333333333333333, 0.358974358974359, 0.38461538461538464, 0.41025641025641024, 0.4358974358974359, 0.46153846153846156, 0.48717948717948717, 0.5128205128205128, 0.5384615384615384, 0.5641025641025641, 0.5897435897435898, 0.6153846153846154, 0.6410256410256411, 0.6666666666666666, 0.6923076923076923, 0.717948717948718, 0.7435897435897436, 0.7692307692307693, 0.7948717948717948, 0.8205128205128205, 0.8461538461538461, 0.8717948717948718, 0.8974358974358975, 0.9230769230769231, 0.9487179487179487, 0.9743589743589743, 1.0], [0.0, 0.02564102564102564, 0.05128205128205128, 0.07692307692307693, 0.10256410256410256, 0.1282051282051282, 0.15384615384615385, 0.1794871794871795, 0.20512820512820512, 0.23076923076923078, 0.2564102564102564, 0.28205128205128205, 0.3076923076923077, 0.3333333333333333, 0.358974358974359, 0.38461538461538464, 0.41025641025641024, 0.4358974358974359, 0.46153846153846156, 0.48717948717948717, 0.5128205128205128, 0.5384615384615384, 0.5641025641025641, 0.5897435897435898, 0.6153846153846154, 0.6410256410256411, 0.6666666666666666, 0.6923076923076923, 0.717948717948718, 0.7435897435897436, 0.7692307692307693, 0.7948717948717948, 0.8205128205128205, 0.8461538461538461, 0.8717948717948718, 0.8974358974358975, 0.9230769230769231, 0.9487179487179487, 0.9743589743589743, 1.0], [0.0, 0.02564102564102564, 0.05128205128205128, 0.07692307692307693, 0.10256410256410256, 0.1282051282051282, 0.15384615384615385, 0.1794871794871795, 0.20512820512820512, 0.23076923076923078, 0.2564102564102564, 0.28205128205128205, 0.3076923076923077, 0.3333333333333333, 0.358974358974359, 0.38461538461538464, 0.41025641025641024, 0.4358974358974359, 0.46153846153846156, 0.48717948717948717, 0.5128205128205128, 0.5384615384615384, 0.5641025641025641, 0.5897435897435898, 0.6153846153846154, 0.6410256410256411, 0.6666666666666666, 0.6923076923076923, 0.717948717948718, 0.7435897435897436, 0.7692307692307693, 0.7948717948717948, 0.8205128205128205, 0.8461538461538461, 0.8717948717948718, 0.8974358974358975, 0.9230769230769231, 0.9487179487179487, 0.9743589743589743, 1.0], [0.0, 0.02564102564102564, 0.05128205128205128, 0.07692307692307693, 0.10256410256410256, 0.1282051282051282, 0.15384615384615385, 0.1794871794871795, 0.20512820512820512, 0.23076923076923078, 0.2564102564102564, 0.28205128205128205, 0.3076923076923077, 0.3333333333333333, 0.358974358974359, 0.38461538461538464, 0.41025641025641024, 0.4358974358974359, 0.46153846153846156, 0.48717948717948717, 0.5128205128205128, 0.5384615384615384, 0.5641025641025641, 0.5897435897435898, 0.6153846153846154, 0.6410256410256411, 0.6666666666666666, 0.6923076923076923, 0.717948717948718, 0.7435897435897436, 0.7692307692307693, 0.7948717948717948, 0.8205128205128205, 0.8461538461538461, 0.8717948717948718, 0.8974358974358975, 0.9230769230769231, 0.9487179487179487, 0.9743589743589743, 1.0], [0.0, 0.02564102564102564, 0.05128205128205128, 0.07692307692307693, 0.10256410256410256, 0.1282051282051282, 0.15384615384615385, 0.1794871794871795, 0.20512820512820512, 0.23076923076923078, 0.2564102564102564, 0.28205128205128205, 0.3076923076923077, 0.3333333333333333, 0.358974358974359, 0.38461538461538464, 0.41025641025641024, 0.4358974358974359, 0.46153846153846156, 0.48717948717948717, 0.5128205128205128, 0.5384615384615384, 0.5641025641025641, 0.5897435897435898, 0.6153846153846154, 0.6410256410256411, 0.6666666666666666, 0.6923076923076923, 0.717948717948718, 0.7435897435897436, 0.7692307692307693, 0.7948717948717948, 0.8205128205128205, 0.8461538461538461, 0.8717948717948718, 0.8974358974358975, 0.9230769230769231, 0.9487179487179487, 0.9743589743589743, 1.0], [0.0, 0.02564102564102564, 0.05128205128205128, 0.07692307692307693, 0.10256410256410256, 0.1282051282051282, 0.15384615384615385, 0.1794871794871795, 0.20512820512820512, 0.23076923076923078, 0.2564102564102564, 0.28205128205128205, 0.3076923076923077, 0.3333333333333333, 0.358974358974359, 0.38461538461538464, 0.41025641025641024, 0.4358974358974359, 0.46153846153846156, 0.48717948717948717, 0.5128205128205128, 0.5384615384615384, 0.5641025641025641, 0.5897435897435898, 0.6153846153846154, 0.6410256410256411, 0.6666666666666666, 0.6923076923076923, 0.717948717948718, 0.7435897435897436, 0.7692307692307693, 0.7948717948717948, 0.8205128205128205, 0.8461538461538461, 0.8717948717948718, 0.8974358974358975, 0.9230769230769231, 0.9487179487179487, 0.9743589743589743, 1.0], [0.0, 0.02564102564102564, 0.05128205128205128, 0.07692307692307693, 0.10256410256410256, 0.1282051282051282, 0.15384615384615385, 0.1794871794871795, 0.20512820512820512, 0.23076923076923078, 0.2564102564102564, 0.28205128205128205, 0.3076923076923077, 0.3333333333333333, 0.358974358974359, 0.38461538461538464, 0.41025641025641024, 0.4358974358974359, 0.46153846153846156, 0.48717948717948717, 0.5128205128205128, 0.5384615384615384, 0.5641025641025641, 0.5897435897435898, 0.6153846153846154, 0.6410256410256411, 0.6666666666666666, 0.6923076923076923, 0.717948717948718, 0.7435897435897436, 0.7692307692307693, 0.7948717948717948, 0.8205128205128205, 0.8461538461538461, 0.8717948717948718, 0.8974358974358975, 0.9230769230769231, 0.9487179487179487, 0.9743589743589743, 1.0]], \"y\": [[0.0, 0.0, 0.0, 0.0, 0.0, 0.0, 0.0, 0.0, 0.0, 0.0, 0.0, 0.0, 0.0, 0.0, 0.0, 0.0, 0.0, 0.0, 0.0, 0.0, 0.0, 0.0, 0.0, 0.0, 0.0, 0.0, 0.0, 0.0, 0.0, 0.0, 0.0, 0.0, 0.0, 0.0, 0.0, 0.0, 0.0, 0.0, 0.0, 0.0], [0.011111111111111112, 0.011111111111111112, 0.011111111111111112, 0.011111111111111112, 0.011111111111111112, 0.011111111111111112, 0.011111111111111112, 0.011111111111111112, 0.011111111111111112, 0.011111111111111112, 0.011111111111111112, 0.011111111111111112, 0.011111111111111112, 0.011111111111111112, 0.011111111111111112, 0.011111111111111112, 0.011111111111111112, 0.011111111111111112, 0.011111111111111112, 0.011111111111111112, 0.011111111111111112, 0.011111111111111112, 0.011111111111111112, 0.011111111111111112, 0.011111111111111112, 0.011111111111111112, 0.011111111111111112, 0.011111111111111112, 0.011111111111111112, 0.011111111111111112, 0.011111111111111112, 0.011111111111111112, 0.011111111111111112, 0.011111111111111112, 0.011111111111111112, 0.011111111111111112, 0.011111111111111112, 0.011111111111111112, 0.011111111111111112, 0.011111111111111112], [0.022222222222222223, 0.022222222222222223, 0.022222222222222223, 0.022222222222222223, 0.022222222222222223, 0.022222222222222223, 0.022222222222222223, 0.022222222222222223, 0.022222222222222223, 0.022222222222222223, 0.022222222222222223, 0.022222222222222223, 0.022222222222222223, 0.022222222222222223, 0.022222222222222223, 0.022222222222222223, 0.022222222222222223, 0.022222222222222223, 0.022222222222222223, 0.022222222222222223, 0.022222222222222223, 0.022222222222222223, 0.022222222222222223, 0.022222222222222223, 0.022222222222222223, 0.022222222222222223, 0.022222222222222223, 0.022222222222222223, 0.022222222222222223, 0.022222222222222223, 0.022222222222222223, 0.022222222222222223, 0.022222222222222223, 0.022222222222222223, 0.022222222222222223, 0.022222222222222223, 0.022222222222222223, 0.022222222222222223, 0.022222222222222223, 0.022222222222222223], [0.03333333333333333, 0.03333333333333333, 0.03333333333333333, 0.03333333333333333, 0.03333333333333333, 0.03333333333333333, 0.03333333333333333, 0.03333333333333333, 0.03333333333333333, 0.03333333333333333, 0.03333333333333333, 0.03333333333333333, 0.03333333333333333, 0.03333333333333333, 0.03333333333333333, 0.03333333333333333, 0.03333333333333333, 0.03333333333333333, 0.03333333333333333, 0.03333333333333333, 0.03333333333333333, 0.03333333333333333, 0.03333333333333333, 0.03333333333333333, 0.03333333333333333, 0.03333333333333333, 0.03333333333333333, 0.03333333333333333, 0.03333333333333333, 0.03333333333333333, 0.03333333333333333, 0.03333333333333333, 0.03333333333333333, 0.03333333333333333, 0.03333333333333333, 0.03333333333333333, 0.03333333333333333, 0.03333333333333333, 0.03333333333333333, 0.03333333333333333], [0.044444444444444446, 0.044444444444444446, 0.044444444444444446, 0.044444444444444446, 0.044444444444444446, 0.044444444444444446, 0.044444444444444446, 0.044444444444444446, 0.044444444444444446, 0.044444444444444446, 0.044444444444444446, 0.044444444444444446, 0.044444444444444446, 0.044444444444444446, 0.044444444444444446, 0.044444444444444446, 0.044444444444444446, 0.044444444444444446, 0.044444444444444446, 0.044444444444444446, 0.044444444444444446, 0.044444444444444446, 0.044444444444444446, 0.044444444444444446, 0.044444444444444446, 0.044444444444444446, 0.044444444444444446, 0.044444444444444446, 0.044444444444444446, 0.044444444444444446, 0.044444444444444446, 0.044444444444444446, 0.044444444444444446, 0.044444444444444446, 0.044444444444444446, 0.044444444444444446, 0.044444444444444446, 0.044444444444444446, 0.044444444444444446, 0.044444444444444446], [0.05555555555555556, 0.05555555555555556, 0.05555555555555556, 0.05555555555555556, 0.05555555555555556, 0.05555555555555556, 0.05555555555555556, 0.05555555555555556, 0.05555555555555556, 0.05555555555555556, 0.05555555555555556, 0.05555555555555556, 0.05555555555555556, 0.05555555555555556, 0.05555555555555556, 0.05555555555555556, 0.05555555555555556, 0.05555555555555556, 0.05555555555555556, 0.05555555555555556, 0.05555555555555556, 0.05555555555555556, 0.05555555555555556, 0.05555555555555556, 0.05555555555555556, 0.05555555555555556, 0.05555555555555556, 0.05555555555555556, 0.05555555555555556, 0.05555555555555556, 0.05555555555555556, 0.05555555555555556, 0.05555555555555556, 0.05555555555555556, 0.05555555555555556, 0.05555555555555556, 0.05555555555555556, 0.05555555555555556, 0.05555555555555556, 0.05555555555555556], [0.06666666666666667, 0.06666666666666667, 0.06666666666666667, 0.06666666666666667, 0.06666666666666667, 0.06666666666666667, 0.06666666666666667, 0.06666666666666667, 0.06666666666666667, 0.06666666666666667, 0.06666666666666667, 0.06666666666666667, 0.06666666666666667, 0.06666666666666667, 0.06666666666666667, 0.06666666666666667, 0.06666666666666667, 0.06666666666666667, 0.06666666666666667, 0.06666666666666667, 0.06666666666666667, 0.06666666666666667, 0.06666666666666667, 0.06666666666666667, 0.06666666666666667, 0.06666666666666667, 0.06666666666666667, 0.06666666666666667, 0.06666666666666667, 0.06666666666666667, 0.06666666666666667, 0.06666666666666667, 0.06666666666666667, 0.06666666666666667, 0.06666666666666667, 0.06666666666666667, 0.06666666666666667, 0.06666666666666667, 0.06666666666666667, 0.06666666666666667], [0.07777777777777778, 0.07777777777777778, 0.07777777777777778, 0.07777777777777778, 0.07777777777777778, 0.07777777777777778, 0.07777777777777778, 0.07777777777777778, 0.07777777777777778, 0.07777777777777778, 0.07777777777777778, 0.07777777777777778, 0.07777777777777778, 0.07777777777777778, 0.07777777777777778, 0.07777777777777778, 0.07777777777777778, 0.07777777777777778, 0.07777777777777778, 0.07777777777777778, 0.07777777777777778, 0.07777777777777778, 0.07777777777777778, 0.07777777777777778, 0.07777777777777778, 0.07777777777777778, 0.07777777777777778, 0.07777777777777778, 0.07777777777777778, 0.07777777777777778, 0.07777777777777778, 0.07777777777777778, 0.07777777777777778, 0.07777777777777778, 0.07777777777777778, 0.07777777777777778, 0.07777777777777778, 0.07777777777777778, 0.07777777777777778, 0.07777777777777778], [0.08888888888888889, 0.08888888888888889, 0.08888888888888889, 0.08888888888888889, 0.08888888888888889, 0.08888888888888889, 0.08888888888888889, 0.08888888888888889, 0.08888888888888889, 0.08888888888888889, 0.08888888888888889, 0.08888888888888889, 0.08888888888888889, 0.08888888888888889, 0.08888888888888889, 0.08888888888888889, 0.08888888888888889, 0.08888888888888889, 0.08888888888888889, 0.08888888888888889, 0.08888888888888889, 0.08888888888888889, 0.08888888888888889, 0.08888888888888889, 0.08888888888888889, 0.08888888888888889, 0.08888888888888889, 0.08888888888888889, 0.08888888888888889, 0.08888888888888889, 0.08888888888888889, 0.08888888888888889, 0.08888888888888889, 0.08888888888888889, 0.08888888888888889, 0.08888888888888889, 0.08888888888888889, 0.08888888888888889, 0.08888888888888889, 0.08888888888888889], [0.1, 0.1, 0.1, 0.1, 0.1, 0.1, 0.1, 0.1, 0.1, 0.1, 0.1, 0.1, 0.1, 0.1, 0.1, 0.1, 0.1, 0.1, 0.1, 0.1, 0.1, 0.1, 0.1, 0.1, 0.1, 0.1, 0.1, 0.1, 0.1, 0.1, 0.1, 0.1, 0.1, 0.1, 0.1, 0.1, 0.1, 0.1, 0.1, 0.1]], \"z\": [[0.0, 0.0, 0.0, 0.0, 0.0, 0.0, 0.0, 0.0, 0.0, 0.0, 0.0, 0.0, 0.0, 0.0, 0.0, 0.0, 0.0, 0.0, 0.0, 0.0, 0.0, 0.0, 0.0, 0.0, 0.0, 0.0, 0.0, 0.0, 0.0, 0.0, 0.0, 0.0, 0.0, 0.0, 0.0, 0.0, 0.0, 0.0, 0.0, 0.0], [0.0, 0.0, 0.0, 0.0, 0.0, 0.0, 0.0, 0.0, 0.0, 0.0, 0.0, 0.0, 0.0, 0.0, 0.0, 0.0, 0.0, 0.0, 0.0, 0.0, 0.0, 0.0, 0.0, 0.0, 0.0, 0.0, 0.0, 0.0, 0.0, 0.0, 0.0, 0.0, 0.0, 0.0, 0.0, 0.0, 0.0, 0.0, 0.0, 0.0], [0.0, 0.0, 0.0, 0.0, 0.0, 0.0, 0.0, 0.0, 0.0, 0.0, 0.0, 0.0, 0.0, 0.0, 0.0, 0.0, 0.0, 0.0, 0.0, 0.0, 0.0, 0.0, 0.0, 0.0, 0.0, 0.0, 0.0, 0.0, 0.0, 0.0, 0.0, 0.0, 0.0, 0.0, 0.0, 0.0, 0.0, 0.0, 0.0, 0.0], [0.0, 0.0, 0.0, 0.0, 0.0, 0.0, 0.0, 0.0, 0.0, 0.0, 0.0, 0.0, 0.0, 0.0, 0.0, 0.0, 0.0, 0.0, 0.0, 0.0, 0.0, 0.0, 0.0, 0.0, 0.0, 0.0, 0.0, 0.0, 0.0, 0.0, 0.0, 0.0, 0.0, 0.0, 0.0, 0.0, 0.0, 0.0, 0.0, 0.0], [0.0, 0.0, 0.0, 0.0, 0.0, 0.0, 0.0, 0.0, 0.0, 0.0, 0.0, 0.0, 0.0, 0.0, 0.0, 0.0, 0.0, 0.0, 0.0, 0.0, 0.0, 0.0, 0.0, 0.0, 0.0, 0.0, 0.0, 0.0, 0.0, 0.0, 0.0, 0.0, 0.0, 0.0, 0.0, 0.0, 0.0, 0.0, 0.0, 0.0], [0.0, 0.0, 0.0, 0.0, 0.0, 0.0, 0.0, 0.0, 0.0, 0.0, 0.0, 0.0, 0.0, 0.0, 0.0, 0.0, 0.0, 0.0, 0.0, 0.0, 0.0, 0.0, 0.0, 0.0, 0.0, 0.0, 0.0, 0.0, 0.0, 0.0, 0.0, 0.0, 0.0, 0.0, 0.0, 0.0, 0.0, 0.0, 0.0, 0.0], [0.0, 0.0, 0.0, 0.0, 0.0, 0.0, 0.0, 0.0, 0.0, 0.0, 0.0, 0.0, 0.0, 0.0, 0.0, 0.0, 0.0, 0.0, 0.0, 0.0, 0.0, 0.0, 0.0, 0.0, 0.0, 0.0, 0.0, 0.0, 0.0, 0.0, 0.0, 0.0, 0.0, 0.0, 0.0, 0.0, 0.0, 0.0, 0.0, 0.0], [0.0, 0.0, 0.0, 0.0, 0.0, 0.0, 0.0, 0.0, 0.0, 0.0, 0.0, 0.0, 0.0, 0.0, 0.0, 0.0, 0.0, 0.0, 0.0, 0.0, 0.0, 0.0, 0.0, 0.0, 0.0, 0.0, 0.0, 0.0, 0.0, 0.0, 0.0, 0.0, 0.0, 0.0, 0.0, 0.0, 0.0, 0.0, 0.0, 0.0], [0.0, 0.0, 0.0, 0.0, 0.0, 0.0, 0.0, 0.0, 0.0, 0.0, 0.0, 0.0, 0.0, 0.0, 0.0, 0.0, 0.0, 0.0, 0.0, 0.0, 0.0, 0.0, 0.0, 0.0, 0.0, 0.0, 0.0, 0.0, 0.0, 0.0, 0.0, 0.0, 0.0, 0.0, 0.0, 0.0, 0.0, 0.0, 0.0, 0.0], [0.0, 0.0, 0.0, 0.0, 0.0, 0.0, 0.0, 0.0, 0.0, 0.0, 0.0, 0.0, 0.0, 0.0, 0.0, 0.0, 0.0, 0.0, 0.0, 0.0, 0.0, 0.0, 0.0, 0.0, 0.0, 0.0, 0.0, 0.0, 0.0, 0.0, 0.0, 0.0, 0.0, 0.0, 0.0, 0.0, 0.0, 0.0, 0.0, 0.0]]}, {\"cmax\": 1.0, \"cmin\": 0.2554598552276816, \"colorscale\": [[0.0, \"rgb(150,0,90)\"], [0.125, \"rgb(0,0,200)\"], [0.25, \"rgb(0,25,255)\"], [0.375, \"rgb(0,152,255)\"], [0.5, \"rgb(44,255,150)\"], [0.625, \"rgb(151,255,0)\"], [0.75, \"rgb(255,234,0)\"], [0.875, \"rgb(255,111,0)\"], [1.0, \"rgb(255,0,0)\"]], \"scene\": \"scene2\", \"surfacecolor\": [[1.0, 0.9571232898818021, 0.9163043354710259, 0.8774553785474944, 0.840492896263439, 0.8053374215745566, 0.7719133723907935, 0.7401488890795404, 0.7099756799718783, 0.6813288745397271, 0.6541468839282334, 0.6283712685435525, 0.6039466124113468, 0.5808204040358779, 0.5589429235035474, 0.5382671355881673, 0.5187485886281409, 0.500345318958147, 0.48301776068986296, 0.46672866064775814, 0.4514429982770779, 0.4371279103518224, 0.4237526203208497, 0.41128837214019887, 0.39970836844937996, 0.3889877129587103, 0.37910335692383657, 0.3700340495923634, 0.36176029251605435, 0.35426429763037753, 0.3475299490112696, 0.3415427682268993, 0.3362898832099365, 0.33176000058340654, 0.3279433813806295, 0.3248318201070462, 0.322418627098914, 0.32069861414094414, 0.31966808331196117, 0.319324819034602], [1.0, 0.9571232898818021, 0.9163043354710259, 0.8774553785474944, 0.840492896263439, 0.8053374215745566, 0.7719133723907935, 0.7401488890795404, 0.7099756799718783, 0.6813288745397271, 0.6541468839282334, 0.6283712685435525, 0.6039466124113468, 0.5808204040358779, 0.5589429235035474, 0.5382671355881673, 0.5187485886281409, 0.500345318958147, 0.48301776068986296, 0.46672866064775814, 0.4514429982770779, 0.4371279103518224, 0.4237526203208497, 0.41128837214019887, 0.39970836844937996, 0.3889877129587103, 0.37910335692383657, 0.3700340495923634, 0.36176029251605435, 0.35426429763037753, 0.3475299490112696, 0.3415427682268993, 0.3362898832099365, 0.33176000058340654, 0.3279433813806295, 0.3248318201070462, 0.322418627098914, 0.32069861414094414, 0.31966808331196117, 0.319324819034602], [1.0, 0.9571232898818021, 0.9163043354710259, 0.8774553785474944, 0.840492896263439, 0.8053374215745566, 0.7719133723907935, 0.7401488890795404, 0.7099756799718783, 0.6813288745397271, 0.6541468839282334, 0.6283712685435525, 0.6039466124113468, 0.5808204040358779, 0.5589429235035474, 0.5382671355881673, 0.5187485886281409, 0.500345318958147, 0.48301776068986296, 0.46672866064775814, 0.4514429982770779, 0.4371279103518224, 0.4237526203208497, 0.41128837214019887, 0.39970836844937996, 0.3889877129587103, 0.37910335692383657, 0.3700340495923634, 0.36176029251605435, 0.35426429763037753, 0.3475299490112696, 0.3415427682268993, 0.3362898832099365, 0.33176000058340654, 0.3279433813806295, 0.3248318201070462, 0.322418627098914, 0.32069861414094414, 0.31966808331196117, 0.319324819034602], [1.0, 0.9571232898818021, 0.9163043354710259, 0.8774553785474944, 0.840492896263439, 0.8053374215745566, 0.7719133723907935, 0.7401488890795404, 0.7099756799718783, 0.6813288745397271, 0.6541468839282334, 0.6283712685435525, 0.6039466124113468, 0.5808204040358779, 0.5589429235035474, 0.5382671355881673, 0.5187485886281409, 0.500345318958147, 0.48301776068986296, 0.46672866064775814, 0.4514429982770779, 0.4371279103518224, 0.4237526203208497, 0.41128837214019887, 0.39970836844937996, 0.3889877129587103, 0.37910335692383657, 0.3700340495923634, 0.36176029251605435, 0.35426429763037753, 0.3475299490112696, 0.3415427682268993, 0.3362898832099365, 0.33176000058340654, 0.3279433813806295, 0.3248318201070462, 0.322418627098914, 0.32069861414094414, 0.31966808331196117, 0.319324819034602], [1.0, 0.9571232898818021, 0.9163043354710259, 0.8774553785474944, 0.840492896263439, 0.8053374215745566, 0.7719133723907935, 0.7401488890795404, 0.7099756799718783, 0.6813288745397271, 0.6541468839282334, 0.6283712685435525, 0.6039466124113468, 0.5808204040358779, 0.5589429235035474, 0.5382671355881673, 0.5187485886281409, 0.500345318958147, 0.48301776068986296, 0.46672866064775814, 0.4514429982770779, 0.4371279103518224, 0.4237526203208497, 0.41128837214019887, 0.39970836844937996, 0.3889877129587103, 0.37910335692383657, 0.3700340495923634, 0.36176029251605435, 0.35426429763037753, 0.3475299490112696, 0.3415427682268993, 0.3362898832099365, 0.33176000058340654, 0.3279433813806295, 0.3248318201070462, 0.322418627098914, 0.32069861414094414, 0.31966808331196117, 0.319324819034602], [1.0, 0.9571232898818021, 0.9163043354710259, 0.8774553785474944, 0.840492896263439, 0.8053374215745566, 0.7719133723907935, 0.7401488890795404, 0.7099756799718783, 0.6813288745397271, 0.6541468839282334, 0.6283712685435525, 0.6039466124113468, 0.5808204040358779, 0.5589429235035474, 0.5382671355881673, 0.5187485886281409, 0.500345318958147, 0.48301776068986296, 0.46672866064775814, 0.4514429982770779, 0.4371279103518224, 0.4237526203208497, 0.41128837214019887, 0.39970836844937996, 0.3889877129587103, 0.37910335692383657, 0.3700340495923634, 0.36176029251605435, 0.35426429763037753, 0.3475299490112696, 0.3415427682268993, 0.3362898832099365, 0.33176000058340654, 0.3279433813806295, 0.3248318201070462, 0.322418627098914, 0.32069861414094414, 0.31966808331196117, 0.319324819034602], [1.0, 0.9571232898818021, 0.9163043354710259, 0.8774553785474944, 0.840492896263439, 0.8053374215745566, 0.7719133723907935, 0.7401488890795404, 0.7099756799718783, 0.6813288745397271, 0.6541468839282334, 0.6283712685435525, 0.6039466124113468, 0.5808204040358779, 0.5589429235035474, 0.5382671355881673, 0.5187485886281409, 0.500345318958147, 0.48301776068986296, 0.46672866064775814, 0.4514429982770779, 0.4371279103518224, 0.4237526203208497, 0.41128837214019887, 0.39970836844937996, 0.3889877129587103, 0.37910335692383657, 0.3700340495923634, 0.36176029251605435, 0.35426429763037753, 0.3475299490112696, 0.3415427682268993, 0.3362898832099365, 0.33176000058340654, 0.3279433813806295, 0.3248318201070462, 0.322418627098914, 0.32069861414094414, 0.31966808331196117, 0.319324819034602], [1.0, 0.9571232898818021, 0.9163043354710259, 0.8774553785474944, 0.840492896263439, 0.8053374215745566, 0.7719133723907935, 0.7401488890795404, 0.7099756799718783, 0.6813288745397271, 0.6541468839282334, 0.6283712685435525, 0.6039466124113468, 0.5808204040358779, 0.5589429235035474, 0.5382671355881673, 0.5187485886281409, 0.500345318958147, 0.48301776068986296, 0.46672866064775814, 0.4514429982770779, 0.4371279103518224, 0.4237526203208497, 0.41128837214019887, 0.39970836844937996, 0.3889877129587103, 0.37910335692383657, 0.3700340495923634, 0.36176029251605435, 0.35426429763037753, 0.3475299490112696, 0.3415427682268993, 0.3362898832099365, 0.33176000058340654, 0.3279433813806295, 0.3248318201070462, 0.322418627098914, 0.32069861414094414, 0.31966808331196117, 0.319324819034602], [1.0, 0.9571232898818021, 0.9163043354710259, 0.8774553785474944, 0.840492896263439, 0.8053374215745566, 0.7719133723907935, 0.7401488890795404, 0.7099756799718783, 0.6813288745397271, 0.6541468839282334, 0.6283712685435525, 0.6039466124113468, 0.5808204040358779, 0.5589429235035474, 0.5382671355881673, 0.5187485886281409, 0.500345318958147, 0.48301776068986296, 0.46672866064775814, 0.4514429982770779, 0.4371279103518224, 0.4237526203208497, 0.41128837214019887, 0.39970836844937996, 0.3889877129587103, 0.37910335692383657, 0.3700340495923634, 0.36176029251605435, 0.35426429763037753, 0.3475299490112696, 0.3415427682268993, 0.3362898832099365, 0.33176000058340654, 0.3279433813806295, 0.3248318201070462, 0.322418627098914, 0.32069861414094414, 0.31966808331196117, 0.319324819034602], [1.0, 0.9571232898818021, 0.9163043354710259, 0.8774553785474944, 0.840492896263439, 0.8053374215745566, 0.7719133723907935, 0.7401488890795404, 0.7099756799718783, 0.6813288745397271, 0.6541468839282334, 0.6283712685435525, 0.6039466124113468, 0.5808204040358779, 0.5589429235035474, 0.5382671355881673, 0.5187485886281409, 0.500345318958147, 0.48301776068986296, 0.46672866064775814, 0.4514429982770779, 0.4371279103518224, 0.4237526203208497, 0.41128837214019887, 0.39970836844937996, 0.3889877129587103, 0.37910335692383657, 0.3700340495923634, 0.36176029251605435, 0.35426429763037753, 0.3475299490112696, 0.3415427682268993, 0.3362898832099365, 0.33176000058340654, 0.3279433813806295, 0.3248318201070462, 0.322418627098914, 0.32069861414094414, 0.31966808331196117, 0.319324819034602]], \"type\": \"surface\", \"x\": [[0.0, 0.02564102564102564, 0.05128205128205128, 0.07692307692307693, 0.10256410256410256, 0.1282051282051282, 0.15384615384615385, 0.1794871794871795, 0.20512820512820512, 0.23076923076923078, 0.2564102564102564, 0.28205128205128205, 0.3076923076923077, 0.3333333333333333, 0.358974358974359, 0.38461538461538464, 0.41025641025641024, 0.4358974358974359, 0.46153846153846156, 0.48717948717948717, 0.5128205128205128, 0.5384615384615384, 0.5641025641025641, 0.5897435897435898, 0.6153846153846154, 0.6410256410256411, 0.6666666666666666, 0.6923076923076923, 0.717948717948718, 0.7435897435897436, 0.7692307692307693, 0.7948717948717948, 0.8205128205128205, 0.8461538461538461, 0.8717948717948718, 0.8974358974358975, 0.9230769230769231, 0.9487179487179487, 0.9743589743589743, 1.0], [0.0, 0.02564102564102564, 0.05128205128205128, 0.07692307692307693, 0.10256410256410256, 0.1282051282051282, 0.15384615384615385, 0.1794871794871795, 0.20512820512820512, 0.23076923076923078, 0.2564102564102564, 0.28205128205128205, 0.3076923076923077, 0.3333333333333333, 0.358974358974359, 0.38461538461538464, 0.41025641025641024, 0.4358974358974359, 0.46153846153846156, 0.48717948717948717, 0.5128205128205128, 0.5384615384615384, 0.5641025641025641, 0.5897435897435898, 0.6153846153846154, 0.6410256410256411, 0.6666666666666666, 0.6923076923076923, 0.717948717948718, 0.7435897435897436, 0.7692307692307693, 0.7948717948717948, 0.8205128205128205, 0.8461538461538461, 0.8717948717948718, 0.8974358974358975, 0.9230769230769231, 0.9487179487179487, 0.9743589743589743, 1.0], [0.0, 0.02564102564102564, 0.05128205128205128, 0.07692307692307693, 0.10256410256410256, 0.1282051282051282, 0.15384615384615385, 0.1794871794871795, 0.20512820512820512, 0.23076923076923078, 0.2564102564102564, 0.28205128205128205, 0.3076923076923077, 0.3333333333333333, 0.358974358974359, 0.38461538461538464, 0.41025641025641024, 0.4358974358974359, 0.46153846153846156, 0.48717948717948717, 0.5128205128205128, 0.5384615384615384, 0.5641025641025641, 0.5897435897435898, 0.6153846153846154, 0.6410256410256411, 0.6666666666666666, 0.6923076923076923, 0.717948717948718, 0.7435897435897436, 0.7692307692307693, 0.7948717948717948, 0.8205128205128205, 0.8461538461538461, 0.8717948717948718, 0.8974358974358975, 0.9230769230769231, 0.9487179487179487, 0.9743589743589743, 1.0], [0.0, 0.02564102564102564, 0.05128205128205128, 0.07692307692307693, 0.10256410256410256, 0.1282051282051282, 0.15384615384615385, 0.1794871794871795, 0.20512820512820512, 0.23076923076923078, 0.2564102564102564, 0.28205128205128205, 0.3076923076923077, 0.3333333333333333, 0.358974358974359, 0.38461538461538464, 0.41025641025641024, 0.4358974358974359, 0.46153846153846156, 0.48717948717948717, 0.5128205128205128, 0.5384615384615384, 0.5641025641025641, 0.5897435897435898, 0.6153846153846154, 0.6410256410256411, 0.6666666666666666, 0.6923076923076923, 0.717948717948718, 0.7435897435897436, 0.7692307692307693, 0.7948717948717948, 0.8205128205128205, 0.8461538461538461, 0.8717948717948718, 0.8974358974358975, 0.9230769230769231, 0.9487179487179487, 0.9743589743589743, 1.0], [0.0, 0.02564102564102564, 0.05128205128205128, 0.07692307692307693, 0.10256410256410256, 0.1282051282051282, 0.15384615384615385, 0.1794871794871795, 0.20512820512820512, 0.23076923076923078, 0.2564102564102564, 0.28205128205128205, 0.3076923076923077, 0.3333333333333333, 0.358974358974359, 0.38461538461538464, 0.41025641025641024, 0.4358974358974359, 0.46153846153846156, 0.48717948717948717, 0.5128205128205128, 0.5384615384615384, 0.5641025641025641, 0.5897435897435898, 0.6153846153846154, 0.6410256410256411, 0.6666666666666666, 0.6923076923076923, 0.717948717948718, 0.7435897435897436, 0.7692307692307693, 0.7948717948717948, 0.8205128205128205, 0.8461538461538461, 0.8717948717948718, 0.8974358974358975, 0.9230769230769231, 0.9487179487179487, 0.9743589743589743, 1.0], [0.0, 0.02564102564102564, 0.05128205128205128, 0.07692307692307693, 0.10256410256410256, 0.1282051282051282, 0.15384615384615385, 0.1794871794871795, 0.20512820512820512, 0.23076923076923078, 0.2564102564102564, 0.28205128205128205, 0.3076923076923077, 0.3333333333333333, 0.358974358974359, 0.38461538461538464, 0.41025641025641024, 0.4358974358974359, 0.46153846153846156, 0.48717948717948717, 0.5128205128205128, 0.5384615384615384, 0.5641025641025641, 0.5897435897435898, 0.6153846153846154, 0.6410256410256411, 0.6666666666666666, 0.6923076923076923, 0.717948717948718, 0.7435897435897436, 0.7692307692307693, 0.7948717948717948, 0.8205128205128205, 0.8461538461538461, 0.8717948717948718, 0.8974358974358975, 0.9230769230769231, 0.9487179487179487, 0.9743589743589743, 1.0], [0.0, 0.02564102564102564, 0.05128205128205128, 0.07692307692307693, 0.10256410256410256, 0.1282051282051282, 0.15384615384615385, 0.1794871794871795, 0.20512820512820512, 0.23076923076923078, 0.2564102564102564, 0.28205128205128205, 0.3076923076923077, 0.3333333333333333, 0.358974358974359, 0.38461538461538464, 0.41025641025641024, 0.4358974358974359, 0.46153846153846156, 0.48717948717948717, 0.5128205128205128, 0.5384615384615384, 0.5641025641025641, 0.5897435897435898, 0.6153846153846154, 0.6410256410256411, 0.6666666666666666, 0.6923076923076923, 0.717948717948718, 0.7435897435897436, 0.7692307692307693, 0.7948717948717948, 0.8205128205128205, 0.8461538461538461, 0.8717948717948718, 0.8974358974358975, 0.9230769230769231, 0.9487179487179487, 0.9743589743589743, 1.0], [0.0, 0.02564102564102564, 0.05128205128205128, 0.07692307692307693, 0.10256410256410256, 0.1282051282051282, 0.15384615384615385, 0.1794871794871795, 0.20512820512820512, 0.23076923076923078, 0.2564102564102564, 0.28205128205128205, 0.3076923076923077, 0.3333333333333333, 0.358974358974359, 0.38461538461538464, 0.41025641025641024, 0.4358974358974359, 0.46153846153846156, 0.48717948717948717, 0.5128205128205128, 0.5384615384615384, 0.5641025641025641, 0.5897435897435898, 0.6153846153846154, 0.6410256410256411, 0.6666666666666666, 0.6923076923076923, 0.717948717948718, 0.7435897435897436, 0.7692307692307693, 0.7948717948717948, 0.8205128205128205, 0.8461538461538461, 0.8717948717948718, 0.8974358974358975, 0.9230769230769231, 0.9487179487179487, 0.9743589743589743, 1.0], [0.0, 0.02564102564102564, 0.05128205128205128, 0.07692307692307693, 0.10256410256410256, 0.1282051282051282, 0.15384615384615385, 0.1794871794871795, 0.20512820512820512, 0.23076923076923078, 0.2564102564102564, 0.28205128205128205, 0.3076923076923077, 0.3333333333333333, 0.358974358974359, 0.38461538461538464, 0.41025641025641024, 0.4358974358974359, 0.46153846153846156, 0.48717948717948717, 0.5128205128205128, 0.5384615384615384, 0.5641025641025641, 0.5897435897435898, 0.6153846153846154, 0.6410256410256411, 0.6666666666666666, 0.6923076923076923, 0.717948717948718, 0.7435897435897436, 0.7692307692307693, 0.7948717948717948, 0.8205128205128205, 0.8461538461538461, 0.8717948717948718, 0.8974358974358975, 0.9230769230769231, 0.9487179487179487, 0.9743589743589743, 1.0], [0.0, 0.02564102564102564, 0.05128205128205128, 0.07692307692307693, 0.10256410256410256, 0.1282051282051282, 0.15384615384615385, 0.1794871794871795, 0.20512820512820512, 0.23076923076923078, 0.2564102564102564, 0.28205128205128205, 0.3076923076923077, 0.3333333333333333, 0.358974358974359, 0.38461538461538464, 0.41025641025641024, 0.4358974358974359, 0.46153846153846156, 0.48717948717948717, 0.5128205128205128, 0.5384615384615384, 0.5641025641025641, 0.5897435897435898, 0.6153846153846154, 0.6410256410256411, 0.6666666666666666, 0.6923076923076923, 0.717948717948718, 0.7435897435897436, 0.7692307692307693, 0.7948717948717948, 0.8205128205128205, 0.8461538461538461, 0.8717948717948718, 0.8974358974358975, 0.9230769230769231, 0.9487179487179487, 0.9743589743589743, 1.0]], \"y\": [[0.0, 0.0, 0.0, 0.0, 0.0, 0.0, 0.0, 0.0, 0.0, 0.0, 0.0, 0.0, 0.0, 0.0, 0.0, 0.0, 0.0, 0.0, 0.0, 0.0, 0.0, 0.0, 0.0, 0.0, 0.0, 0.0, 0.0, 0.0, 0.0, 0.0, 0.0, 0.0, 0.0, 0.0, 0.0, 0.0, 0.0, 0.0, 0.0, 0.0], [0.011111111111111112, 0.011111111111111112, 0.011111111111111112, 0.011111111111111112, 0.011111111111111112, 0.011111111111111112, 0.011111111111111112, 0.011111111111111112, 0.011111111111111112, 0.011111111111111112, 0.011111111111111112, 0.011111111111111112, 0.011111111111111112, 0.011111111111111112, 0.011111111111111112, 0.011111111111111112, 0.011111111111111112, 0.011111111111111112, 0.011111111111111112, 0.011111111111111112, 0.011111111111111112, 0.011111111111111112, 0.011111111111111112, 0.011111111111111112, 0.011111111111111112, 0.011111111111111112, 0.011111111111111112, 0.011111111111111112, 0.011111111111111112, 0.011111111111111112, 0.011111111111111112, 0.011111111111111112, 0.011111111111111112, 0.011111111111111112, 0.011111111111111112, 0.011111111111111112, 0.011111111111111112, 0.011111111111111112, 0.011111111111111112, 0.011111111111111112], [0.022222222222222223, 0.022222222222222223, 0.022222222222222223, 0.022222222222222223, 0.022222222222222223, 0.022222222222222223, 0.022222222222222223, 0.022222222222222223, 0.022222222222222223, 0.022222222222222223, 0.022222222222222223, 0.022222222222222223, 0.022222222222222223, 0.022222222222222223, 0.022222222222222223, 0.022222222222222223, 0.022222222222222223, 0.022222222222222223, 0.022222222222222223, 0.022222222222222223, 0.022222222222222223, 0.022222222222222223, 0.022222222222222223, 0.022222222222222223, 0.022222222222222223, 0.022222222222222223, 0.022222222222222223, 0.022222222222222223, 0.022222222222222223, 0.022222222222222223, 0.022222222222222223, 0.022222222222222223, 0.022222222222222223, 0.022222222222222223, 0.022222222222222223, 0.022222222222222223, 0.022222222222222223, 0.022222222222222223, 0.022222222222222223, 0.022222222222222223], [0.03333333333333333, 0.03333333333333333, 0.03333333333333333, 0.03333333333333333, 0.03333333333333333, 0.03333333333333333, 0.03333333333333333, 0.03333333333333333, 0.03333333333333333, 0.03333333333333333, 0.03333333333333333, 0.03333333333333333, 0.03333333333333333, 0.03333333333333333, 0.03333333333333333, 0.03333333333333333, 0.03333333333333333, 0.03333333333333333, 0.03333333333333333, 0.03333333333333333, 0.03333333333333333, 0.03333333333333333, 0.03333333333333333, 0.03333333333333333, 0.03333333333333333, 0.03333333333333333, 0.03333333333333333, 0.03333333333333333, 0.03333333333333333, 0.03333333333333333, 0.03333333333333333, 0.03333333333333333, 0.03333333333333333, 0.03333333333333333, 0.03333333333333333, 0.03333333333333333, 0.03333333333333333, 0.03333333333333333, 0.03333333333333333, 0.03333333333333333], [0.044444444444444446, 0.044444444444444446, 0.044444444444444446, 0.044444444444444446, 0.044444444444444446, 0.044444444444444446, 0.044444444444444446, 0.044444444444444446, 0.044444444444444446, 0.044444444444444446, 0.044444444444444446, 0.044444444444444446, 0.044444444444444446, 0.044444444444444446, 0.044444444444444446, 0.044444444444444446, 0.044444444444444446, 0.044444444444444446, 0.044444444444444446, 0.044444444444444446, 0.044444444444444446, 0.044444444444444446, 0.044444444444444446, 0.044444444444444446, 0.044444444444444446, 0.044444444444444446, 0.044444444444444446, 0.044444444444444446, 0.044444444444444446, 0.044444444444444446, 0.044444444444444446, 0.044444444444444446, 0.044444444444444446, 0.044444444444444446, 0.044444444444444446, 0.044444444444444446, 0.044444444444444446, 0.044444444444444446, 0.044444444444444446, 0.044444444444444446], [0.05555555555555556, 0.05555555555555556, 0.05555555555555556, 0.05555555555555556, 0.05555555555555556, 0.05555555555555556, 0.05555555555555556, 0.05555555555555556, 0.05555555555555556, 0.05555555555555556, 0.05555555555555556, 0.05555555555555556, 0.05555555555555556, 0.05555555555555556, 0.05555555555555556, 0.05555555555555556, 0.05555555555555556, 0.05555555555555556, 0.05555555555555556, 0.05555555555555556, 0.05555555555555556, 0.05555555555555556, 0.05555555555555556, 0.05555555555555556, 0.05555555555555556, 0.05555555555555556, 0.05555555555555556, 0.05555555555555556, 0.05555555555555556, 0.05555555555555556, 0.05555555555555556, 0.05555555555555556, 0.05555555555555556, 0.05555555555555556, 0.05555555555555556, 0.05555555555555556, 0.05555555555555556, 0.05555555555555556, 0.05555555555555556, 0.05555555555555556], [0.06666666666666667, 0.06666666666666667, 0.06666666666666667, 0.06666666666666667, 0.06666666666666667, 0.06666666666666667, 0.06666666666666667, 0.06666666666666667, 0.06666666666666667, 0.06666666666666667, 0.06666666666666667, 0.06666666666666667, 0.06666666666666667, 0.06666666666666667, 0.06666666666666667, 0.06666666666666667, 0.06666666666666667, 0.06666666666666667, 0.06666666666666667, 0.06666666666666667, 0.06666666666666667, 0.06666666666666667, 0.06666666666666667, 0.06666666666666667, 0.06666666666666667, 0.06666666666666667, 0.06666666666666667, 0.06666666666666667, 0.06666666666666667, 0.06666666666666667, 0.06666666666666667, 0.06666666666666667, 0.06666666666666667, 0.06666666666666667, 0.06666666666666667, 0.06666666666666667, 0.06666666666666667, 0.06666666666666667, 0.06666666666666667, 0.06666666666666667], [0.07777777777777778, 0.07777777777777778, 0.07777777777777778, 0.07777777777777778, 0.07777777777777778, 0.07777777777777778, 0.07777777777777778, 0.07777777777777778, 0.07777777777777778, 0.07777777777777778, 0.07777777777777778, 0.07777777777777778, 0.07777777777777778, 0.07777777777777778, 0.07777777777777778, 0.07777777777777778, 0.07777777777777778, 0.07777777777777778, 0.07777777777777778, 0.07777777777777778, 0.07777777777777778, 0.07777777777777778, 0.07777777777777778, 0.07777777777777778, 0.07777777777777778, 0.07777777777777778, 0.07777777777777778, 0.07777777777777778, 0.07777777777777778, 0.07777777777777778, 0.07777777777777778, 0.07777777777777778, 0.07777777777777778, 0.07777777777777778, 0.07777777777777778, 0.07777777777777778, 0.07777777777777778, 0.07777777777777778, 0.07777777777777778, 0.07777777777777778], [0.08888888888888889, 0.08888888888888889, 0.08888888888888889, 0.08888888888888889, 0.08888888888888889, 0.08888888888888889, 0.08888888888888889, 0.08888888888888889, 0.08888888888888889, 0.08888888888888889, 0.08888888888888889, 0.08888888888888889, 0.08888888888888889, 0.08888888888888889, 0.08888888888888889, 0.08888888888888889, 0.08888888888888889, 0.08888888888888889, 0.08888888888888889, 0.08888888888888889, 0.08888888888888889, 0.08888888888888889, 0.08888888888888889, 0.08888888888888889, 0.08888888888888889, 0.08888888888888889, 0.08888888888888889, 0.08888888888888889, 0.08888888888888889, 0.08888888888888889, 0.08888888888888889, 0.08888888888888889, 0.08888888888888889, 0.08888888888888889, 0.08888888888888889, 0.08888888888888889, 0.08888888888888889, 0.08888888888888889, 0.08888888888888889, 0.08888888888888889], [0.1, 0.1, 0.1, 0.1, 0.1, 0.1, 0.1, 0.1, 0.1, 0.1, 0.1, 0.1, 0.1, 0.1, 0.1, 0.1, 0.1, 0.1, 0.1, 0.1, 0.1, 0.1, 0.1, 0.1, 0.1, 0.1, 0.1, 0.1, 0.1, 0.1, 0.1, 0.1, 0.1, 0.1, 0.1, 0.1, 0.1, 0.1, 0.1, 0.1]], \"z\": [[0.0, 0.0, 0.0, 0.0, 0.0, 0.0, 0.0, 0.0, 0.0, 0.0, 0.0, 0.0, 0.0, 0.0, 0.0, 0.0, 0.0, 0.0, 0.0, 0.0, 0.0, 0.0, 0.0, 0.0, 0.0, 0.0, 0.0, 0.0, 0.0, 0.0, 0.0, 0.0, 0.0, 0.0, 0.0, 0.0, 0.0, 0.0, 0.0, 0.0], [0.0, 0.0, 0.0, 0.0, 0.0, 0.0, 0.0, 0.0, 0.0, 0.0, 0.0, 0.0, 0.0, 0.0, 0.0, 0.0, 0.0, 0.0, 0.0, 0.0, 0.0, 0.0, 0.0, 0.0, 0.0, 0.0, 0.0, 0.0, 0.0, 0.0, 0.0, 0.0, 0.0, 0.0, 0.0, 0.0, 0.0, 0.0, 0.0, 0.0], [0.0, 0.0, 0.0, 0.0, 0.0, 0.0, 0.0, 0.0, 0.0, 0.0, 0.0, 0.0, 0.0, 0.0, 0.0, 0.0, 0.0, 0.0, 0.0, 0.0, 0.0, 0.0, 0.0, 0.0, 0.0, 0.0, 0.0, 0.0, 0.0, 0.0, 0.0, 0.0, 0.0, 0.0, 0.0, 0.0, 0.0, 0.0, 0.0, 0.0], [0.0, 0.0, 0.0, 0.0, 0.0, 0.0, 0.0, 0.0, 0.0, 0.0, 0.0, 0.0, 0.0, 0.0, 0.0, 0.0, 0.0, 0.0, 0.0, 0.0, 0.0, 0.0, 0.0, 0.0, 0.0, 0.0, 0.0, 0.0, 0.0, 0.0, 0.0, 0.0, 0.0, 0.0, 0.0, 0.0, 0.0, 0.0, 0.0, 0.0], [0.0, 0.0, 0.0, 0.0, 0.0, 0.0, 0.0, 0.0, 0.0, 0.0, 0.0, 0.0, 0.0, 0.0, 0.0, 0.0, 0.0, 0.0, 0.0, 0.0, 0.0, 0.0, 0.0, 0.0, 0.0, 0.0, 0.0, 0.0, 0.0, 0.0, 0.0, 0.0, 0.0, 0.0, 0.0, 0.0, 0.0, 0.0, 0.0, 0.0], [0.0, 0.0, 0.0, 0.0, 0.0, 0.0, 0.0, 0.0, 0.0, 0.0, 0.0, 0.0, 0.0, 0.0, 0.0, 0.0, 0.0, 0.0, 0.0, 0.0, 0.0, 0.0, 0.0, 0.0, 0.0, 0.0, 0.0, 0.0, 0.0, 0.0, 0.0, 0.0, 0.0, 0.0, 0.0, 0.0, 0.0, 0.0, 0.0, 0.0], [0.0, 0.0, 0.0, 0.0, 0.0, 0.0, 0.0, 0.0, 0.0, 0.0, 0.0, 0.0, 0.0, 0.0, 0.0, 0.0, 0.0, 0.0, 0.0, 0.0, 0.0, 0.0, 0.0, 0.0, 0.0, 0.0, 0.0, 0.0, 0.0, 0.0, 0.0, 0.0, 0.0, 0.0, 0.0, 0.0, 0.0, 0.0, 0.0, 0.0], [0.0, 0.0, 0.0, 0.0, 0.0, 0.0, 0.0, 0.0, 0.0, 0.0, 0.0, 0.0, 0.0, 0.0, 0.0, 0.0, 0.0, 0.0, 0.0, 0.0, 0.0, 0.0, 0.0, 0.0, 0.0, 0.0, 0.0, 0.0, 0.0, 0.0, 0.0, 0.0, 0.0, 0.0, 0.0, 0.0, 0.0, 0.0, 0.0, 0.0], [0.0, 0.0, 0.0, 0.0, 0.0, 0.0, 0.0, 0.0, 0.0, 0.0, 0.0, 0.0, 0.0, 0.0, 0.0, 0.0, 0.0, 0.0, 0.0, 0.0, 0.0, 0.0, 0.0, 0.0, 0.0, 0.0, 0.0, 0.0, 0.0, 0.0, 0.0, 0.0, 0.0, 0.0, 0.0, 0.0, 0.0, 0.0, 0.0, 0.0], [0.0, 0.0, 0.0, 0.0, 0.0, 0.0, 0.0, 0.0, 0.0, 0.0, 0.0, 0.0, 0.0, 0.0, 0.0, 0.0, 0.0, 0.0, 0.0, 0.0, 0.0, 0.0, 0.0, 0.0, 0.0, 0.0, 0.0, 0.0, 0.0, 0.0, 0.0, 0.0, 0.0, 0.0, 0.0, 0.0, 0.0, 0.0, 0.0, 0.0]]}],\n",
              "                        {\"annotations\": [{\"font\": {\"size\": 16}, \"showarrow\": false, \"text\": \"Temperatura Analitica\", \"x\": 0.225, \"xanchor\": \"center\", \"xref\": \"paper\", \"y\": 1.0, \"yanchor\": \"bottom\", \"yref\": \"paper\"}, {\"font\": {\"size\": 16}, \"showarrow\": false, \"text\": \"Temperatura Numerica\", \"x\": 0.775, \"xanchor\": \"center\", \"xref\": \"paper\", \"y\": 1.0, \"yanchor\": \"bottom\", \"yref\": \"paper\"}], \"scene\": {\"domain\": {\"x\": [0.0, 0.45], \"y\": [0.0, 1.0]}, \"xaxis\": {\"nticks\": 4, \"range\": [0, 1.1]}, \"yaxis\": {\"nticks\": 4, \"range\": [0, 0.11000000000000001]}, \"zaxis\": {\"nticks\": 4, \"range\": [-0.1, 0.1]}}, \"scene2\": {\"domain\": {\"x\": [0.55, 1.0], \"y\": [0.0, 1.0]}, \"xaxis\": {\"nticks\": 4, \"range\": [0, 1.1]}, \"yaxis\": {\"nticks\": 4, \"range\": [0, 0.11000000000000001]}, \"zaxis\": {\"nticks\": 4, \"range\": [-0.1, 0.1]}}, \"template\": {\"data\": {\"bar\": [{\"error_x\": {\"color\": \"#2a3f5f\"}, \"error_y\": {\"color\": \"#2a3f5f\"}, \"marker\": {\"line\": {\"color\": \"#E5ECF6\", \"width\": 0.5}}, \"type\": \"bar\"}], \"barpolar\": [{\"marker\": {\"line\": {\"color\": \"#E5ECF6\", \"width\": 0.5}}, \"type\": \"barpolar\"}], \"carpet\": [{\"aaxis\": {\"endlinecolor\": \"#2a3f5f\", \"gridcolor\": \"white\", \"linecolor\": \"white\", \"minorgridcolor\": \"white\", \"startlinecolor\": \"#2a3f5f\"}, \"baxis\": {\"endlinecolor\": \"#2a3f5f\", \"gridcolor\": \"white\", \"linecolor\": \"white\", \"minorgridcolor\": \"white\", \"startlinecolor\": \"#2a3f5f\"}, \"type\": \"carpet\"}], \"choropleth\": [{\"colorbar\": {\"outlinewidth\": 0, \"ticks\": \"\"}, \"type\": \"choropleth\"}], \"contour\": [{\"colorbar\": {\"outlinewidth\": 0, \"ticks\": \"\"}, \"colorscale\": [[0.0, \"#0d0887\"], [0.1111111111111111, \"#46039f\"], [0.2222222222222222, \"#7201a8\"], [0.3333333333333333, \"#9c179e\"], [0.4444444444444444, \"#bd3786\"], [0.5555555555555556, \"#d8576b\"], [0.6666666666666666, \"#ed7953\"], [0.7777777777777778, \"#fb9f3a\"], [0.8888888888888888, \"#fdca26\"], [1.0, \"#f0f921\"]], \"type\": \"contour\"}], \"contourcarpet\": [{\"colorbar\": {\"outlinewidth\": 0, \"ticks\": \"\"}, \"type\": \"contourcarpet\"}], \"heatmap\": [{\"colorbar\": {\"outlinewidth\": 0, \"ticks\": \"\"}, \"colorscale\": [[0.0, \"#0d0887\"], [0.1111111111111111, \"#46039f\"], [0.2222222222222222, \"#7201a8\"], [0.3333333333333333, \"#9c179e\"], [0.4444444444444444, \"#bd3786\"], [0.5555555555555556, \"#d8576b\"], [0.6666666666666666, \"#ed7953\"], [0.7777777777777778, \"#fb9f3a\"], [0.8888888888888888, \"#fdca26\"], [1.0, \"#f0f921\"]], \"type\": \"heatmap\"}], \"heatmapgl\": [{\"colorbar\": {\"outlinewidth\": 0, \"ticks\": \"\"}, \"colorscale\": [[0.0, \"#0d0887\"], [0.1111111111111111, \"#46039f\"], [0.2222222222222222, \"#7201a8\"], [0.3333333333333333, \"#9c179e\"], [0.4444444444444444, \"#bd3786\"], [0.5555555555555556, \"#d8576b\"], [0.6666666666666666, \"#ed7953\"], [0.7777777777777778, \"#fb9f3a\"], [0.8888888888888888, \"#fdca26\"], [1.0, \"#f0f921\"]], \"type\": \"heatmapgl\"}], \"histogram\": [{\"marker\": {\"colorbar\": {\"outlinewidth\": 0, \"ticks\": \"\"}}, \"type\": \"histogram\"}], \"histogram2d\": [{\"colorbar\": {\"outlinewidth\": 0, \"ticks\": \"\"}, \"colorscale\": [[0.0, \"#0d0887\"], [0.1111111111111111, \"#46039f\"], [0.2222222222222222, \"#7201a8\"], [0.3333333333333333, \"#9c179e\"], [0.4444444444444444, \"#bd3786\"], [0.5555555555555556, \"#d8576b\"], [0.6666666666666666, \"#ed7953\"], [0.7777777777777778, \"#fb9f3a\"], [0.8888888888888888, \"#fdca26\"], [1.0, \"#f0f921\"]], \"type\": \"histogram2d\"}], \"histogram2dcontour\": [{\"colorbar\": {\"outlinewidth\": 0, \"ticks\": \"\"}, \"colorscale\": [[0.0, \"#0d0887\"], [0.1111111111111111, \"#46039f\"], [0.2222222222222222, \"#7201a8\"], [0.3333333333333333, \"#9c179e\"], [0.4444444444444444, \"#bd3786\"], [0.5555555555555556, \"#d8576b\"], [0.6666666666666666, \"#ed7953\"], [0.7777777777777778, \"#fb9f3a\"], [0.8888888888888888, \"#fdca26\"], [1.0, \"#f0f921\"]], \"type\": \"histogram2dcontour\"}], \"mesh3d\": [{\"colorbar\": {\"outlinewidth\": 0, \"ticks\": \"\"}, \"type\": \"mesh3d\"}], \"parcoords\": [{\"line\": {\"colorbar\": {\"outlinewidth\": 0, \"ticks\": \"\"}}, \"type\": \"parcoords\"}], \"pie\": [{\"automargin\": true, \"type\": \"pie\"}], \"scatter\": [{\"marker\": {\"colorbar\": {\"outlinewidth\": 0, \"ticks\": \"\"}}, \"type\": \"scatter\"}], \"scatter3d\": [{\"line\": {\"colorbar\": {\"outlinewidth\": 0, \"ticks\": \"\"}}, \"marker\": {\"colorbar\": {\"outlinewidth\": 0, \"ticks\": \"\"}}, \"type\": \"scatter3d\"}], \"scattercarpet\": [{\"marker\": {\"colorbar\": {\"outlinewidth\": 0, \"ticks\": \"\"}}, \"type\": \"scattercarpet\"}], \"scattergeo\": [{\"marker\": {\"colorbar\": {\"outlinewidth\": 0, \"ticks\": \"\"}}, \"type\": \"scattergeo\"}], \"scattergl\": [{\"marker\": {\"colorbar\": {\"outlinewidth\": 0, \"ticks\": \"\"}}, \"type\": \"scattergl\"}], \"scattermapbox\": [{\"marker\": {\"colorbar\": {\"outlinewidth\": 0, \"ticks\": \"\"}}, \"type\": \"scattermapbox\"}], \"scatterpolar\": [{\"marker\": {\"colorbar\": {\"outlinewidth\": 0, \"ticks\": \"\"}}, \"type\": \"scatterpolar\"}], \"scatterpolargl\": [{\"marker\": {\"colorbar\": {\"outlinewidth\": 0, \"ticks\": \"\"}}, \"type\": \"scatterpolargl\"}], \"scatterternary\": [{\"marker\": {\"colorbar\": {\"outlinewidth\": 0, \"ticks\": \"\"}}, \"type\": \"scatterternary\"}], \"surface\": [{\"colorbar\": {\"outlinewidth\": 0, \"ticks\": \"\"}, \"colorscale\": [[0.0, \"#0d0887\"], [0.1111111111111111, \"#46039f\"], [0.2222222222222222, \"#7201a8\"], [0.3333333333333333, \"#9c179e\"], [0.4444444444444444, \"#bd3786\"], [0.5555555555555556, \"#d8576b\"], [0.6666666666666666, \"#ed7953\"], [0.7777777777777778, \"#fb9f3a\"], [0.8888888888888888, \"#fdca26\"], [1.0, \"#f0f921\"]], \"type\": \"surface\"}], \"table\": [{\"cells\": {\"fill\": {\"color\": \"#EBF0F8\"}, \"line\": {\"color\": \"white\"}}, \"header\": {\"fill\": {\"color\": \"#C8D4E3\"}, \"line\": {\"color\": \"white\"}}, \"type\": \"table\"}]}, \"layout\": {\"annotationdefaults\": {\"arrowcolor\": \"#2a3f5f\", \"arrowhead\": 0, \"arrowwidth\": 1}, \"coloraxis\": {\"colorbar\": {\"outlinewidth\": 0, \"ticks\": \"\"}}, \"colorscale\": {\"diverging\": [[0, \"#8e0152\"], [0.1, \"#c51b7d\"], [0.2, \"#de77ae\"], [0.3, \"#f1b6da\"], [0.4, \"#fde0ef\"], [0.5, \"#f7f7f7\"], [0.6, \"#e6f5d0\"], [0.7, \"#b8e186\"], [0.8, \"#7fbc41\"], [0.9, \"#4d9221\"], [1, \"#276419\"]], \"sequential\": [[0.0, \"#0d0887\"], [0.1111111111111111, \"#46039f\"], [0.2222222222222222, \"#7201a8\"], [0.3333333333333333, \"#9c179e\"], [0.4444444444444444, \"#bd3786\"], [0.5555555555555556, \"#d8576b\"], [0.6666666666666666, \"#ed7953\"], [0.7777777777777778, \"#fb9f3a\"], [0.8888888888888888, \"#fdca26\"], [1.0, \"#f0f921\"]], \"sequentialminus\": [[0.0, \"#0d0887\"], [0.1111111111111111, \"#46039f\"], [0.2222222222222222, \"#7201a8\"], [0.3333333333333333, \"#9c179e\"], [0.4444444444444444, \"#bd3786\"], [0.5555555555555556, \"#d8576b\"], [0.6666666666666666, \"#ed7953\"], [0.7777777777777778, \"#fb9f3a\"], [0.8888888888888888, \"#fdca26\"], [1.0, \"#f0f921\"]]}, \"colorway\": [\"#636efa\", \"#EF553B\", \"#00cc96\", \"#ab63fa\", \"#FFA15A\", \"#19d3f3\", \"#FF6692\", \"#B6E880\", \"#FF97FF\", \"#FECB52\"], \"font\": {\"color\": \"#2a3f5f\"}, \"geo\": {\"bgcolor\": \"white\", \"lakecolor\": \"white\", \"landcolor\": \"#E5ECF6\", \"showlakes\": true, \"showland\": true, \"subunitcolor\": \"white\"}, \"hoverlabel\": {\"align\": \"left\"}, \"hovermode\": \"closest\", \"mapbox\": {\"style\": \"light\"}, \"paper_bgcolor\": \"white\", \"plot_bgcolor\": \"#E5ECF6\", \"polar\": {\"angularaxis\": {\"gridcolor\": \"white\", \"linecolor\": \"white\", \"ticks\": \"\"}, \"bgcolor\": \"#E5ECF6\", \"radialaxis\": {\"gridcolor\": \"white\", \"linecolor\": \"white\", \"ticks\": \"\"}}, \"scene\": {\"xaxis\": {\"backgroundcolor\": \"#E5ECF6\", \"gridcolor\": \"white\", \"gridwidth\": 2, \"linecolor\": \"white\", \"showbackground\": true, \"ticks\": \"\", \"zerolinecolor\": \"white\"}, \"yaxis\": {\"backgroundcolor\": \"#E5ECF6\", \"gridcolor\": \"white\", \"gridwidth\": 2, \"linecolor\": \"white\", \"showbackground\": true, \"ticks\": \"\", \"zerolinecolor\": \"white\"}, \"zaxis\": {\"backgroundcolor\": \"#E5ECF6\", \"gridcolor\": \"white\", \"gridwidth\": 2, \"linecolor\": \"white\", \"showbackground\": true, \"ticks\": \"\", \"zerolinecolor\": \"white\"}}, \"shapedefaults\": {\"line\": {\"color\": \"#2a3f5f\"}}, \"ternary\": {\"aaxis\": {\"gridcolor\": \"white\", \"linecolor\": \"white\", \"ticks\": \"\"}, \"baxis\": {\"gridcolor\": \"white\", \"linecolor\": \"white\", \"ticks\": \"\"}, \"bgcolor\": \"#E5ECF6\", \"caxis\": {\"gridcolor\": \"white\", \"linecolor\": \"white\", \"ticks\": \"\"}}, \"title\": {\"x\": 0.05}, \"xaxis\": {\"automargin\": true, \"gridcolor\": \"white\", \"linecolor\": \"white\", \"ticks\": \"\", \"title\": {\"standoff\": 15}, \"zerolinecolor\": \"white\", \"zerolinewidth\": 2}, \"yaxis\": {\"automargin\": true, \"gridcolor\": \"white\", \"linecolor\": \"white\", \"ticks\": \"\", \"title\": {\"standoff\": 15}, \"zerolinecolor\": \"white\", \"zerolinewidth\": 2}}}, \"title\": {\"text\": \"Datos\"}},\n",
              "                        {\"responsive\": true}\n",
              "                    ).then(function(){\n",
              "                            \n",
              "var gd = document.getElementById('99c8ec6d-74f3-4590-b498-72f040aa7cba');\n",
              "var x = new MutationObserver(function (mutations, observer) {{\n",
              "        var display = window.getComputedStyle(gd).display;\n",
              "        if (!display || display === 'none') {{\n",
              "            console.log([gd, 'removed!']);\n",
              "            Plotly.purge(gd);\n",
              "            observer.disconnect();\n",
              "        }}\n",
              "}});\n",
              "\n",
              "// Listen for the removal of the full notebook cells\n",
              "var notebookContainer = gd.closest('#notebook-container');\n",
              "if (notebookContainer) {{\n",
              "    x.observe(notebookContainer, {childList: true});\n",
              "}}\n",
              "\n",
              "// Listen for the clearing of the current output cell\n",
              "var outputEl = gd.closest('.output');\n",
              "if (outputEl) {{\n",
              "    x.observe(outputEl, {childList: true});\n",
              "}}\n",
              "\n",
              "                        })\n",
              "                };\n",
              "                \n",
              "            </script>\n",
              "        </div>\n",
              "</body>\n",
              "</html>"
            ]
          },
          "metadata": {},
          "output_type": "display_data"
        }
      ],
      "source": [
        "#@title\n",
        "import plotly.graph_objects as go\n",
        "from plotly.subplots import make_subplots\n",
        "import plotly.express as px\n",
        "\n",
        "y = np.linspace(0,W,num=10)\n",
        "X, Y = np.meshgrid(x,y)\n",
        "Z = Y*0\n",
        "Tan = Tnum = Z.copy()\n",
        "for i in range(len(x)):\n",
        "  Tan[:,i]=T1[i]\n",
        "\n",
        "for i in range(len(x)):\n",
        "  Tnum[:,i]=T2[i]\n",
        "\n",
        "fig = make_subplots(rows=1, cols=2,\n",
        "                    specs=[[{'is_3d': True}, {'is_3d': True}]],\n",
        "                    subplot_titles=['Temperatura Analitica', 'Temperatura Numerica'],)\n",
        "\n",
        "fig.add_trace(go.Surface(x=X, y=Y, z=Z, surfacecolor=Tan,colorbar_x=-0.07,colorscale='Rainbow',cmin=np.min(T1)*0.8,cmax=np.max(T1)), 1, 1)\n",
        "fig.add_trace(go.Surface(x=X, y=Y, z=Z, surfacecolor=Tnum,colorscale='Rainbow',cmin=np.min(T2)*0.8,cmax=np.max(T2)), 1, 2)\n",
        "fig.update_layout(title_text=\"Datos\")\n",
        "fig.update_layout(\n",
        "    scene = dict(\n",
        "        xaxis = dict(nticks=4, range=[0,1.1],),\n",
        "        yaxis = dict(nticks=4, range=[0,W*1.1],),\n",
        "        zaxis = dict(nticks=4, range=[-0.1,0.1],),))\n",
        "fig.update_layout(\n",
        "    scene2 = dict(\n",
        "        xaxis = dict(nticks=4, range=[0,1.1],),\n",
        "        yaxis = dict(nticks=4, range=[0,W*1.1],),\n",
        "        zaxis = dict(nticks=4, range=[-0.1,0.1],),))\n",
        "fig.show()"
      ]
    },
    {
      "cell_type": "code",
      "execution_count": null,
      "metadata": {
        "cellView": "form",
        "colab": {
          "base_uri": "https://localhost:8080/",
          "height": 542
        },
        "id": "iqZFvklavzGI",
        "outputId": "283d0b69-d947-492e-a640-984614249490"
      },
      "outputs": [
        {
          "data": {
            "text/html": [
              "<html>\n",
              "<head><meta charset=\"utf-8\" /></head>\n",
              "<body>\n",
              "    <div>\n",
              "            <script src=\"https://cdnjs.cloudflare.com/ajax/libs/mathjax/2.7.5/MathJax.js?config=TeX-AMS-MML_SVG\"></script><script type=\"text/javascript\">if (window.MathJax) {MathJax.Hub.Config({SVG: {font: \"STIX-Web\"}});}</script>\n",
              "                <script type=\"text/javascript\">window.PlotlyConfig = {MathJaxConfig: 'local'};</script>\n",
              "        <script src=\"https://cdn.plot.ly/plotly-latest.min.js\"></script>    \n",
              "            <div id=\"48dbdbe6-c16c-4f4b-84c0-dcd2a4d01a20\" class=\"plotly-graph-div\" style=\"height:525px; width:100%;\"></div>\n",
              "            <script type=\"text/javascript\">\n",
              "                \n",
              "                    window.PLOTLYENV=window.PLOTLYENV || {};\n",
              "                    \n",
              "                if (document.getElementById(\"48dbdbe6-c16c-4f4b-84c0-dcd2a4d01a20\")) {\n",
              "                    Plotly.newPlot(\n",
              "                        '48dbdbe6-c16c-4f4b-84c0-dcd2a4d01a20',\n",
              "                        [{\"line\": {\"color\": \"gold\"}, \"mode\": \"lines+markers\", \"name\": \"T analitica\", \"type\": \"scatter\", \"x\": [0.0, 0.02564102564102564, 0.05128205128205128, 0.07692307692307693, 0.10256410256410256, 0.1282051282051282, 0.15384615384615385, 0.1794871794871795, 0.20512820512820512, 0.23076923076923078, 0.2564102564102564, 0.28205128205128205, 0.3076923076923077, 0.3333333333333333, 0.358974358974359, 0.38461538461538464, 0.41025641025641024, 0.4358974358974359, 0.46153846153846156, 0.48717948717948717, 0.5128205128205128, 0.5384615384615384, 0.5641025641025641, 0.5897435897435898, 0.6153846153846154, 0.6410256410256411, 0.6666666666666666, 0.6923076923076923, 0.717948717948718, 0.7435897435897436, 0.7692307692307693, 0.7948717948717948, 0.8205128205128205, 0.8461538461538461, 0.8717948717948718, 0.8974358974358975, 0.9230769230769231, 0.9487179487179487, 0.9743589743589743, 1.0], \"y\": [1.0, 0.957118777174078, 0.9162956690488143, 0.8774428927481828, 0.8404769022463678, 0.8053182087168098, 0.7718912096055365, 0.7401240260612387, 0.7099483483725091, 0.6812992890798866, 0.6541152434468471, 0.6283377569897098, 0.6039113997816061, 0.5807836472602221, 0.558904767283014, 0.5382277131870299, 0.5187080226233782, 0.5003037219488085, 0.48297523596881303, 0.46668530283816845, 0.4513988939359255, 0.43708313854255354, 0.4237072531572702, 0.4112424753035653, 0.3996620016805811, 0.388940930527353, 0.37905620807597523, 0.3699865789785489, 0.3617125406013155, 0.35421630108769026, 0.3474817411000207, 0.34149437915780156, 0.3362413404978107, 0.3317113293892078, 0.32789460484406197, 0.3247829596710799, 0.322369702827492, 0.3206496450311477, 0.3196190876018821, 0.3192758145081581]}, {\"line\": {\"color\": \"ghostwhite\"}, \"mode\": \"lines+markers\", \"name\": \"T numerica\", \"type\": \"scatter\", \"visible\": \"legendonly\", \"x\": [0.0, 0.02564102564102564, 0.05128205128205128, 0.07692307692307693, 0.10256410256410256, 0.1282051282051282, 0.15384615384615385, 0.1794871794871795, 0.20512820512820512, 0.23076923076923078, 0.2564102564102564, 0.28205128205128205, 0.3076923076923077, 0.3333333333333333, 0.358974358974359, 0.38461538461538464, 0.41025641025641024, 0.4358974358974359, 0.46153846153846156, 0.48717948717948717, 0.5128205128205128, 0.5384615384615384, 0.5641025641025641, 0.5897435897435898, 0.6153846153846154, 0.6410256410256411, 0.6666666666666666, 0.6923076923076923, 0.717948717948718, 0.7435897435897436, 0.7692307692307693, 0.7948717948717948, 0.8205128205128205, 0.8461538461538461, 0.8717948717948718, 0.8974358974358975, 0.9230769230769231, 0.9487179487179487, 0.9743589743589743, 1.0], \"y\": [1.0, 0.9571232898818021, 0.9163043354710259, 0.8774553785474944, 0.840492896263439, 0.8053374215745566, 0.7719133723907935, 0.7401488890795404, 0.7099756799718783, 0.6813288745397271, 0.6541468839282334, 0.6283712685435525, 0.6039466124113468, 0.5808204040358779, 0.5589429235035474, 0.5382671355881673, 0.5187485886281409, 0.500345318958147, 0.48301776068986296, 0.46672866064775814, 0.4514429982770779, 0.4371279103518224, 0.4237526203208497, 0.41128837214019887, 0.39970836844937996, 0.3889877129587103, 0.37910335692383657, 0.3700340495923634, 0.36176029251605435, 0.35426429763037753, 0.3475299490112696, 0.3415427682268993, 0.3362898832099365, 0.33176000058340654, 0.3279433813806295, 0.3248318201070462, 0.322418627098914, 0.32069861414094414, 0.31966808331196117, 0.319324819034602]}, {\"line\": {\"color\": \"limegreen\"}, \"mode\": \"lines+markers\", \"name\": \"T extrapolada\", \"type\": \"scatter\", \"visible\": \"legendonly\", \"x\": [0.0, 0.02564102564102564, 0.05128205128205128, 0.07692307692307693, 0.10256410256410256, 0.1282051282051282, 0.15384615384615385, 0.1794871794871795, 0.20512820512820512, 0.23076923076923078, 0.2564102564102564, 0.28205128205128205, 0.3076923076923077, 0.3333333333333333, 0.358974358974359, 0.38461538461538464, 0.41025641025641024, 0.4358974358974359, 0.46153846153846156, 0.48717948717948717, 0.5128205128205128, 0.5384615384615384, 0.5641025641025641, 0.5897435897435898, 0.6153846153846154, 0.6410256410256411, 0.6666666666666666, 0.6923076923076923, 0.717948717948718, 0.7435897435897436, 0.7692307692307693, 0.7948717948717948, 0.8205128205128205, 0.8461538461538461, 0.8717948717948718, 0.8974358974358975, 0.9230769230769231, 0.9487179487179487, 0.9743589743589743, 1.0], \"y\": [1.0, 0.9571187771741161, 0.9162956690488869, 0.877442892748286, 0.840476902246499, 0.8053182087169657, 0.771891209605715, 0.740124026061438, 0.7099483483727277, 0.6812992890801234, 0.6541152434471001, 0.6283377569899783, 0.6039113997818889, 0.5807836472605175, 0.5589047672833212, 0.5382277131873473, 0.5187080226237053, 0.5003037219491447, 0.4829752359691574, 0.46668530283852033, 0.4513988939362842, 0.4370831385429182, 0.42370725315763963, 0.4112424753039386, 0.3996620016809576, 0.3889409305277323, 0.37905620807635704, 0.3699865789789332, 0.3617125406017017, 0.35421630108807806, 0.34748174110040964, 0.34149437915819075, 0.33624134049819976, 0.3317113293895968, 0.32789460484445093, 0.3247829596714689, 0.32236970282788086, 0.32064964503153653, 0.31961908760227103, 0.319275814508547]}],\n",
              "                        {\"paper_bgcolor\": \"rgba(25,25,25,1)\", \"plot_bgcolor\": \"rgba(15,15,15,0)\", \"template\": {\"data\": {\"bar\": [{\"error_x\": {\"color\": \"#f2f5fa\"}, \"error_y\": {\"color\": \"#f2f5fa\"}, \"marker\": {\"line\": {\"color\": \"rgb(17,17,17)\", \"width\": 0.5}}, \"type\": \"bar\"}], \"barpolar\": [{\"marker\": {\"line\": {\"color\": \"rgb(17,17,17)\", \"width\": 0.5}}, \"type\": \"barpolar\"}], \"carpet\": [{\"aaxis\": {\"endlinecolor\": \"#A2B1C6\", \"gridcolor\": \"#506784\", \"linecolor\": \"#506784\", \"minorgridcolor\": \"#506784\", \"startlinecolor\": \"#A2B1C6\"}, \"baxis\": {\"endlinecolor\": \"#A2B1C6\", \"gridcolor\": \"#506784\", \"linecolor\": \"#506784\", \"minorgridcolor\": \"#506784\", \"startlinecolor\": \"#A2B1C6\"}, \"type\": \"carpet\"}], \"choropleth\": [{\"colorbar\": {\"outlinewidth\": 0, \"ticks\": \"\"}, \"type\": \"choropleth\"}], \"contour\": [{\"colorbar\": {\"outlinewidth\": 0, \"ticks\": \"\"}, \"colorscale\": [[0.0, \"#0d0887\"], [0.1111111111111111, \"#46039f\"], [0.2222222222222222, \"#7201a8\"], [0.3333333333333333, \"#9c179e\"], [0.4444444444444444, \"#bd3786\"], [0.5555555555555556, \"#d8576b\"], [0.6666666666666666, \"#ed7953\"], [0.7777777777777778, \"#fb9f3a\"], [0.8888888888888888, \"#fdca26\"], [1.0, \"#f0f921\"]], \"type\": \"contour\"}], \"contourcarpet\": [{\"colorbar\": {\"outlinewidth\": 0, \"ticks\": \"\"}, \"type\": \"contourcarpet\"}], \"heatmap\": [{\"colorbar\": {\"outlinewidth\": 0, \"ticks\": \"\"}, \"colorscale\": [[0.0, \"#0d0887\"], [0.1111111111111111, \"#46039f\"], [0.2222222222222222, \"#7201a8\"], [0.3333333333333333, \"#9c179e\"], [0.4444444444444444, \"#bd3786\"], [0.5555555555555556, \"#d8576b\"], [0.6666666666666666, \"#ed7953\"], [0.7777777777777778, \"#fb9f3a\"], [0.8888888888888888, \"#fdca26\"], [1.0, \"#f0f921\"]], \"type\": \"heatmap\"}], \"heatmapgl\": [{\"colorbar\": {\"outlinewidth\": 0, \"ticks\": \"\"}, \"colorscale\": [[0.0, \"#0d0887\"], [0.1111111111111111, \"#46039f\"], [0.2222222222222222, \"#7201a8\"], [0.3333333333333333, \"#9c179e\"], [0.4444444444444444, \"#bd3786\"], [0.5555555555555556, \"#d8576b\"], [0.6666666666666666, \"#ed7953\"], [0.7777777777777778, \"#fb9f3a\"], [0.8888888888888888, \"#fdca26\"], [1.0, \"#f0f921\"]], \"type\": \"heatmapgl\"}], \"histogram\": [{\"marker\": {\"colorbar\": {\"outlinewidth\": 0, \"ticks\": \"\"}}, \"type\": \"histogram\"}], \"histogram2d\": [{\"colorbar\": {\"outlinewidth\": 0, \"ticks\": \"\"}, \"colorscale\": [[0.0, \"#0d0887\"], [0.1111111111111111, \"#46039f\"], [0.2222222222222222, \"#7201a8\"], [0.3333333333333333, \"#9c179e\"], [0.4444444444444444, \"#bd3786\"], [0.5555555555555556, \"#d8576b\"], [0.6666666666666666, \"#ed7953\"], [0.7777777777777778, \"#fb9f3a\"], [0.8888888888888888, \"#fdca26\"], [1.0, \"#f0f921\"]], \"type\": \"histogram2d\"}], \"histogram2dcontour\": [{\"colorbar\": {\"outlinewidth\": 0, \"ticks\": \"\"}, \"colorscale\": [[0.0, \"#0d0887\"], [0.1111111111111111, \"#46039f\"], [0.2222222222222222, \"#7201a8\"], [0.3333333333333333, \"#9c179e\"], [0.4444444444444444, \"#bd3786\"], [0.5555555555555556, \"#d8576b\"], [0.6666666666666666, \"#ed7953\"], [0.7777777777777778, \"#fb9f3a\"], [0.8888888888888888, \"#fdca26\"], [1.0, \"#f0f921\"]], \"type\": \"histogram2dcontour\"}], \"mesh3d\": [{\"colorbar\": {\"outlinewidth\": 0, \"ticks\": \"\"}, \"type\": \"mesh3d\"}], \"parcoords\": [{\"line\": {\"colorbar\": {\"outlinewidth\": 0, \"ticks\": \"\"}}, \"type\": \"parcoords\"}], \"pie\": [{\"automargin\": true, \"type\": \"pie\"}], \"scatter\": [{\"marker\": {\"line\": {\"color\": \"#283442\"}}, \"type\": \"scatter\"}], \"scatter3d\": [{\"line\": {\"colorbar\": {\"outlinewidth\": 0, \"ticks\": \"\"}}, \"marker\": {\"colorbar\": {\"outlinewidth\": 0, \"ticks\": \"\"}}, \"type\": \"scatter3d\"}], \"scattercarpet\": [{\"marker\": {\"colorbar\": {\"outlinewidth\": 0, \"ticks\": \"\"}}, \"type\": \"scattercarpet\"}], \"scattergeo\": [{\"marker\": {\"colorbar\": {\"outlinewidth\": 0, \"ticks\": \"\"}}, \"type\": \"scattergeo\"}], \"scattergl\": [{\"marker\": {\"line\": {\"color\": \"#283442\"}}, \"type\": \"scattergl\"}], \"scattermapbox\": [{\"marker\": {\"colorbar\": {\"outlinewidth\": 0, \"ticks\": \"\"}}, \"type\": \"scattermapbox\"}], \"scatterpolar\": [{\"marker\": {\"colorbar\": {\"outlinewidth\": 0, \"ticks\": \"\"}}, \"type\": \"scatterpolar\"}], \"scatterpolargl\": [{\"marker\": {\"colorbar\": {\"outlinewidth\": 0, \"ticks\": \"\"}}, \"type\": \"scatterpolargl\"}], \"scatterternary\": [{\"marker\": {\"colorbar\": {\"outlinewidth\": 0, \"ticks\": \"\"}}, \"type\": \"scatterternary\"}], \"surface\": [{\"colorbar\": {\"outlinewidth\": 0, \"ticks\": \"\"}, \"colorscale\": [[0.0, \"#0d0887\"], [0.1111111111111111, \"#46039f\"], [0.2222222222222222, \"#7201a8\"], [0.3333333333333333, \"#9c179e\"], [0.4444444444444444, \"#bd3786\"], [0.5555555555555556, \"#d8576b\"], [0.6666666666666666, \"#ed7953\"], [0.7777777777777778, \"#fb9f3a\"], [0.8888888888888888, \"#fdca26\"], [1.0, \"#f0f921\"]], \"type\": \"surface\"}], \"table\": [{\"cells\": {\"fill\": {\"color\": \"#506784\"}, \"line\": {\"color\": \"rgb(17,17,17)\"}}, \"header\": {\"fill\": {\"color\": \"#2a3f5f\"}, \"line\": {\"color\": \"rgb(17,17,17)\"}}, \"type\": \"table\"}]}, \"layout\": {\"annotationdefaults\": {\"arrowcolor\": \"#f2f5fa\", \"arrowhead\": 0, \"arrowwidth\": 1}, \"coloraxis\": {\"colorbar\": {\"outlinewidth\": 0, \"ticks\": \"\"}}, \"colorscale\": {\"diverging\": [[0, \"#8e0152\"], [0.1, \"#c51b7d\"], [0.2, \"#de77ae\"], [0.3, \"#f1b6da\"], [0.4, \"#fde0ef\"], [0.5, \"#f7f7f7\"], [0.6, \"#e6f5d0\"], [0.7, \"#b8e186\"], [0.8, \"#7fbc41\"], [0.9, \"#4d9221\"], [1, \"#276419\"]], \"sequential\": [[0.0, \"#0d0887\"], [0.1111111111111111, \"#46039f\"], [0.2222222222222222, \"#7201a8\"], [0.3333333333333333, \"#9c179e\"], [0.4444444444444444, \"#bd3786\"], [0.5555555555555556, \"#d8576b\"], [0.6666666666666666, \"#ed7953\"], [0.7777777777777778, \"#fb9f3a\"], [0.8888888888888888, \"#fdca26\"], [1.0, \"#f0f921\"]], \"sequentialminus\": [[0.0, \"#0d0887\"], [0.1111111111111111, \"#46039f\"], [0.2222222222222222, \"#7201a8\"], [0.3333333333333333, \"#9c179e\"], [0.4444444444444444, \"#bd3786\"], [0.5555555555555556, \"#d8576b\"], [0.6666666666666666, \"#ed7953\"], [0.7777777777777778, \"#fb9f3a\"], [0.8888888888888888, \"#fdca26\"], [1.0, \"#f0f921\"]]}, \"colorway\": [\"#636efa\", \"#EF553B\", \"#00cc96\", \"#ab63fa\", \"#FFA15A\", \"#19d3f3\", \"#FF6692\", \"#B6E880\", \"#FF97FF\", \"#FECB52\"], \"font\": {\"color\": \"#f2f5fa\"}, \"geo\": {\"bgcolor\": \"rgb(17,17,17)\", \"lakecolor\": \"rgb(17,17,17)\", \"landcolor\": \"rgb(17,17,17)\", \"showlakes\": true, \"showland\": true, \"subunitcolor\": \"#506784\"}, \"hoverlabel\": {\"align\": \"left\"}, \"hovermode\": \"closest\", \"mapbox\": {\"style\": \"dark\"}, \"paper_bgcolor\": \"rgb(17,17,17)\", \"plot_bgcolor\": \"rgb(17,17,17)\", \"polar\": {\"angularaxis\": {\"gridcolor\": \"#506784\", \"linecolor\": \"#506784\", \"ticks\": \"\"}, \"bgcolor\": \"rgb(17,17,17)\", \"radialaxis\": {\"gridcolor\": \"#506784\", \"linecolor\": \"#506784\", \"ticks\": \"\"}}, \"scene\": {\"xaxis\": {\"backgroundcolor\": \"rgb(17,17,17)\", \"gridcolor\": \"#506784\", \"gridwidth\": 2, \"linecolor\": \"#506784\", \"showbackground\": true, \"ticks\": \"\", \"zerolinecolor\": \"#C8D4E3\"}, \"yaxis\": {\"backgroundcolor\": \"rgb(17,17,17)\", \"gridcolor\": \"#506784\", \"gridwidth\": 2, \"linecolor\": \"#506784\", \"showbackground\": true, \"ticks\": \"\", \"zerolinecolor\": \"#C8D4E3\"}, \"zaxis\": {\"backgroundcolor\": \"rgb(17,17,17)\", \"gridcolor\": \"#506784\", \"gridwidth\": 2, \"linecolor\": \"#506784\", \"showbackground\": true, \"ticks\": \"\", \"zerolinecolor\": \"#C8D4E3\"}}, \"shapedefaults\": {\"line\": {\"color\": \"#f2f5fa\"}}, \"sliderdefaults\": {\"bgcolor\": \"#C8D4E3\", \"bordercolor\": \"rgb(17,17,17)\", \"borderwidth\": 1, \"tickwidth\": 0}, \"ternary\": {\"aaxis\": {\"gridcolor\": \"#506784\", \"linecolor\": \"#506784\", \"ticks\": \"\"}, \"baxis\": {\"gridcolor\": \"#506784\", \"linecolor\": \"#506784\", \"ticks\": \"\"}, \"bgcolor\": \"rgb(17,17,17)\", \"caxis\": {\"gridcolor\": \"#506784\", \"linecolor\": \"#506784\", \"ticks\": \"\"}}, \"title\": {\"x\": 0.05}, \"updatemenudefaults\": {\"bgcolor\": \"#506784\", \"borderwidth\": 0}, \"xaxis\": {\"automargin\": true, \"gridcolor\": \"#283442\", \"linecolor\": \"#506784\", \"ticks\": \"\", \"title\": {\"standoff\": 15}, \"zerolinecolor\": \"#283442\", \"zerolinewidth\": 2}, \"yaxis\": {\"automargin\": true, \"gridcolor\": \"#283442\", \"linecolor\": \"#506784\", \"ticks\": \"\", \"title\": {\"standoff\": 15}, \"zerolinecolor\": \"#283442\", \"zerolinewidth\": 2}}}, \"title\": {\"text\": \"Temperatura\"}},\n",
              "                        {\"responsive\": true}\n",
              "                    ).then(function(){\n",
              "                            \n",
              "var gd = document.getElementById('48dbdbe6-c16c-4f4b-84c0-dcd2a4d01a20');\n",
              "var x = new MutationObserver(function (mutations, observer) {{\n",
              "        var display = window.getComputedStyle(gd).display;\n",
              "        if (!display || display === 'none') {{\n",
              "            console.log([gd, 'removed!']);\n",
              "            Plotly.purge(gd);\n",
              "            observer.disconnect();\n",
              "        }}\n",
              "}});\n",
              "\n",
              "// Listen for the removal of the full notebook cells\n",
              "var notebookContainer = gd.closest('#notebook-container');\n",
              "if (notebookContainer) {{\n",
              "    x.observe(notebookContainer, {childList: true});\n",
              "}}\n",
              "\n",
              "// Listen for the clearing of the current output cell\n",
              "var outputEl = gd.closest('.output');\n",
              "if (outputEl) {{\n",
              "    x.observe(outputEl, {childList: true});\n",
              "}}\n",
              "\n",
              "                        })\n",
              "                };\n",
              "                \n",
              "            </script>\n",
              "        </div>\n",
              "</body>\n",
              "</html>"
            ]
          },
          "metadata": {},
          "output_type": "display_data"
        }
      ],
      "source": [
        "#@title\n",
        "import plotly.graph_objects as go\n",
        "\n",
        "graphs = [T1,T2,Tr]\n",
        "titles = ['T analitica','T numerica','T extrapolada']\n",
        "colors = ['gold','ghostwhite','limegreen']\n",
        "fig = go.Figure(layout={'template':'plotly_dark'})\n",
        "fig.update_layout(\n",
        "  plot_bgcolor='rgba(15,15,15,0)',\n",
        "  paper_bgcolor ='rgba(25,25,25,1)')\n",
        "  \n",
        "for graph,title,color in list(zip(graphs,titles,colors)):\n",
        "  fig.add_trace(go.Scatter(x=x, y=graph,\n",
        "                  mode='lines+markers',\n",
        "                  name=title,\n",
        "                  line=dict(color=color)))\n",
        "\n",
        "fig.for_each_trace(lambda trace: trace.update(visible=\"legendonly\") \n",
        "                  if trace.name != 'T analitica' else ())\n",
        "  \n",
        "fig.update_layout(title_text=\"Temperatura\")\n",
        "fig.show()"
      ]
    },
    {
      "cell_type": "code",
      "execution_count": null,
      "metadata": {
        "cellView": "form",
        "colab": {
          "base_uri": "https://localhost:8080/",
          "height": 542
        },
        "id": "nPYO4sgWEz-e",
        "outputId": "3a48fbe2-ec80-480d-dd9e-1859c512f874"
      },
      "outputs": [
        {
          "data": {
            "text/html": [
              "<html>\n",
              "<head><meta charset=\"utf-8\" /></head>\n",
              "<body>\n",
              "    <div>\n",
              "            <script src=\"https://cdnjs.cloudflare.com/ajax/libs/mathjax/2.7.5/MathJax.js?config=TeX-AMS-MML_SVG\"></script><script type=\"text/javascript\">if (window.MathJax) {MathJax.Hub.Config({SVG: {font: \"STIX-Web\"}});}</script>\n",
              "                <script type=\"text/javascript\">window.PlotlyConfig = {MathJaxConfig: 'local'};</script>\n",
              "        <script src=\"https://cdn.plot.ly/plotly-latest.min.js\"></script>    \n",
              "            <div id=\"f83f246b-4c16-4f6f-818a-4e1e0f368066\" class=\"plotly-graph-div\" style=\"height:525px; width:100%;\"></div>\n",
              "            <script type=\"text/javascript\">\n",
              "                \n",
              "                    window.PLOTLYENV=window.PLOTLYENV || {};\n",
              "                    \n",
              "                if (document.getElementById(\"f83f246b-4c16-4f6f-818a-4e1e0f368066\")) {\n",
              "                    Plotly.newPlot(\n",
              "                        'f83f246b-4c16-4f6f-818a-4e1e0f368066',\n",
              "                        [{\"line\": {\"color\": \"gold\"}, \"mode\": \"lines+markers\", \"name\": \"error T numerica\", \"type\": \"scatter\", \"x\": [0.0, 0.02564102564102564, 0.05128205128205128, 0.07692307692307693, 0.10256410256410256, 0.1282051282051282, 0.15384615384615385, 0.1794871794871795, 0.20512820512820512, 0.23076923076923078, 0.2564102564102564, 0.28205128205128205, 0.3076923076923077, 0.3333333333333333, 0.358974358974359, 0.38461538461538464, 0.41025641025641024, 0.4358974358974359, 0.46153846153846156, 0.48717948717948717, 0.5128205128205128, 0.5384615384615384, 0.5641025641025641, 0.5897435897435898, 0.6153846153846154, 0.6410256410256411, 0.6666666666666666, 0.6923076923076923, 0.717948717948718, 0.7435897435897436, 0.7692307692307693, 0.7948717948717948, 0.8205128205128205, 0.8461538461538461, 0.8717948717948718, 0.8974358974358975, 0.9230769230769231, 0.9487179487179487, 0.9743589743589743, 1.0], \"y\": [0.0, 0.0004714887881922034, 0.0009458106705372115, 0.0014229757189750494, 0.0019029692581020697, 0.0023857473404664304, 0.0028712317203799065, 0.0033593043092978686, 0.0038498011062128514, 0.0043425056087331515, 0.004837141727432425, 0.005333366246082332, 0.005830760895297677, 0.006328824137719564, 0.006826962797055458, 0.007324483702999751, 0.007820585569024137, 0.008314351365718209, 0.008804741502869962, 0.009290588181374508, 0.009770591320641082, 0.010243316504535955, 0.010707195414156016, 0.011160529222986017, 0.011601495414601655, 0.012028158438834232, 0.012438484545775699, 0.012830361021621108, 0.013201619899448777, 0.013550066030246449, 0.013873509179580197, 0.014169799578267554, 0.014436866107532996, 0.014672756064252723, 0.014875675246543813, 0.015044026945189904, 0.015176448342660265, 0.0152718428213768, 0.015329406778132208, 0.015348649730766082]}, {\"line\": {\"color\": \"ghostwhite\"}, \"mode\": \"lines+markers\", \"name\": \"error T extrapolada\", \"type\": \"scatter\", \"visible\": \"legendonly\", \"x\": [0.0, 0.02564102564102564, 0.05128205128205128, 0.07692307692307693, 0.10256410256410256, 0.1282051282051282, 0.15384615384615385, 0.1794871794871795, 0.20512820512820512, 0.23076923076923078, 0.2564102564102564, 0.28205128205128205, 0.3076923076923077, 0.3333333333333333, 0.358974358974359, 0.38461538461538464, 0.41025641025641024, 0.4358974358974359, 0.46153846153846156, 0.48717948717948717, 0.5128205128205128, 0.5384615384615384, 0.5641025641025641, 0.5897435897435898, 0.6153846153846154, 0.6410256410256411, 0.6666666666666666, 0.6923076923076923, 0.717948717948718, 0.7435897435897436, 0.7692307692307693, 0.7948717948717948, 0.8205128205128205, 0.8461538461538461, 0.8717948717948718, 0.8974358974358975, 0.9230769230769231, 0.9487179487179487, 0.9743589743589743, 1.0], \"y\": [0.0, 3.9786754426735975e-12, 7.92414373035928e-12, 1.176723204934221e-11, 1.560035009383241e-11, 1.935574173912483e-11, 2.312811185542029e-11, 2.6925896998745252e-11, 3.0791382788595856e-11, 3.475866993379152e-11, 3.868123084531562e-11, 4.272414388090946e-11, 4.682372355850337e-11, 5.084842280656927e-11, 5.4964410557304094e-11, 5.8973693654833e-11, 6.305506928549094e-11, 6.721648059083779e-11, 7.130617816209562e-11, 7.540095767210521e-11, 7.945468031121649e-11, 8.342869360141899e-11, 8.718914030647908e-11, 9.077673500400031e-11, 9.421264398874598e-11, 9.752321409034866e-11, 1.0072535155315674e-10, 1.0386963252423248e-10, 1.0676740111743202e-10, 1.0948138222626933e-10, 1.1192275147897523e-10, 1.1396635055668309e-10, 1.1571380794635497e-10, 1.1727731716157407e-10, 1.1862550677294792e-10, 1.1977911286436717e-10, 1.206241191291625e-10, 1.2127118192729885e-10, 1.2167956815226895e-10, 1.217930067687683e-10]}],\n",
              "                        {\"paper_bgcolor\": \"rgba(25,25,25,1)\", \"plot_bgcolor\": \"rgba(15,15,15,0)\", \"template\": {\"data\": {\"bar\": [{\"error_x\": {\"color\": \"#f2f5fa\"}, \"error_y\": {\"color\": \"#f2f5fa\"}, \"marker\": {\"line\": {\"color\": \"rgb(17,17,17)\", \"width\": 0.5}}, \"type\": \"bar\"}], \"barpolar\": [{\"marker\": {\"line\": {\"color\": \"rgb(17,17,17)\", \"width\": 0.5}}, \"type\": \"barpolar\"}], \"carpet\": [{\"aaxis\": {\"endlinecolor\": \"#A2B1C6\", \"gridcolor\": \"#506784\", \"linecolor\": \"#506784\", \"minorgridcolor\": \"#506784\", \"startlinecolor\": \"#A2B1C6\"}, \"baxis\": {\"endlinecolor\": \"#A2B1C6\", \"gridcolor\": \"#506784\", \"linecolor\": \"#506784\", \"minorgridcolor\": \"#506784\", \"startlinecolor\": \"#A2B1C6\"}, \"type\": \"carpet\"}], \"choropleth\": [{\"colorbar\": {\"outlinewidth\": 0, \"ticks\": \"\"}, \"type\": \"choropleth\"}], \"contour\": [{\"colorbar\": {\"outlinewidth\": 0, \"ticks\": \"\"}, \"colorscale\": [[0.0, \"#0d0887\"], [0.1111111111111111, \"#46039f\"], [0.2222222222222222, \"#7201a8\"], [0.3333333333333333, \"#9c179e\"], [0.4444444444444444, \"#bd3786\"], [0.5555555555555556, \"#d8576b\"], [0.6666666666666666, \"#ed7953\"], [0.7777777777777778, \"#fb9f3a\"], [0.8888888888888888, \"#fdca26\"], [1.0, \"#f0f921\"]], \"type\": \"contour\"}], \"contourcarpet\": [{\"colorbar\": {\"outlinewidth\": 0, \"ticks\": \"\"}, \"type\": \"contourcarpet\"}], \"heatmap\": [{\"colorbar\": {\"outlinewidth\": 0, \"ticks\": \"\"}, \"colorscale\": [[0.0, \"#0d0887\"], [0.1111111111111111, \"#46039f\"], [0.2222222222222222, \"#7201a8\"], [0.3333333333333333, \"#9c179e\"], [0.4444444444444444, \"#bd3786\"], [0.5555555555555556, \"#d8576b\"], [0.6666666666666666, \"#ed7953\"], [0.7777777777777778, \"#fb9f3a\"], [0.8888888888888888, \"#fdca26\"], [1.0, \"#f0f921\"]], \"type\": \"heatmap\"}], \"heatmapgl\": [{\"colorbar\": {\"outlinewidth\": 0, \"ticks\": \"\"}, \"colorscale\": [[0.0, \"#0d0887\"], [0.1111111111111111, \"#46039f\"], [0.2222222222222222, \"#7201a8\"], [0.3333333333333333, \"#9c179e\"], [0.4444444444444444, \"#bd3786\"], [0.5555555555555556, \"#d8576b\"], [0.6666666666666666, \"#ed7953\"], [0.7777777777777778, \"#fb9f3a\"], [0.8888888888888888, \"#fdca26\"], [1.0, \"#f0f921\"]], \"type\": \"heatmapgl\"}], \"histogram\": [{\"marker\": {\"colorbar\": {\"outlinewidth\": 0, \"ticks\": \"\"}}, \"type\": \"histogram\"}], \"histogram2d\": [{\"colorbar\": {\"outlinewidth\": 0, \"ticks\": \"\"}, \"colorscale\": [[0.0, \"#0d0887\"], [0.1111111111111111, \"#46039f\"], [0.2222222222222222, \"#7201a8\"], [0.3333333333333333, \"#9c179e\"], [0.4444444444444444, \"#bd3786\"], [0.5555555555555556, \"#d8576b\"], [0.6666666666666666, \"#ed7953\"], [0.7777777777777778, \"#fb9f3a\"], [0.8888888888888888, \"#fdca26\"], [1.0, \"#f0f921\"]], \"type\": \"histogram2d\"}], \"histogram2dcontour\": [{\"colorbar\": {\"outlinewidth\": 0, \"ticks\": \"\"}, \"colorscale\": [[0.0, \"#0d0887\"], [0.1111111111111111, \"#46039f\"], [0.2222222222222222, \"#7201a8\"], [0.3333333333333333, \"#9c179e\"], [0.4444444444444444, \"#bd3786\"], [0.5555555555555556, \"#d8576b\"], [0.6666666666666666, \"#ed7953\"], [0.7777777777777778, \"#fb9f3a\"], [0.8888888888888888, \"#fdca26\"], [1.0, \"#f0f921\"]], \"type\": \"histogram2dcontour\"}], \"mesh3d\": [{\"colorbar\": {\"outlinewidth\": 0, \"ticks\": \"\"}, \"type\": \"mesh3d\"}], \"parcoords\": [{\"line\": {\"colorbar\": {\"outlinewidth\": 0, \"ticks\": \"\"}}, \"type\": \"parcoords\"}], \"pie\": [{\"automargin\": true, \"type\": \"pie\"}], \"scatter\": [{\"marker\": {\"line\": {\"color\": \"#283442\"}}, \"type\": \"scatter\"}], \"scatter3d\": [{\"line\": {\"colorbar\": {\"outlinewidth\": 0, \"ticks\": \"\"}}, \"marker\": {\"colorbar\": {\"outlinewidth\": 0, \"ticks\": \"\"}}, \"type\": \"scatter3d\"}], \"scattercarpet\": [{\"marker\": {\"colorbar\": {\"outlinewidth\": 0, \"ticks\": \"\"}}, \"type\": \"scattercarpet\"}], \"scattergeo\": [{\"marker\": {\"colorbar\": {\"outlinewidth\": 0, \"ticks\": \"\"}}, \"type\": \"scattergeo\"}], \"scattergl\": [{\"marker\": {\"line\": {\"color\": \"#283442\"}}, \"type\": \"scattergl\"}], \"scattermapbox\": [{\"marker\": {\"colorbar\": {\"outlinewidth\": 0, \"ticks\": \"\"}}, \"type\": \"scattermapbox\"}], \"scatterpolar\": [{\"marker\": {\"colorbar\": {\"outlinewidth\": 0, \"ticks\": \"\"}}, \"type\": \"scatterpolar\"}], \"scatterpolargl\": [{\"marker\": {\"colorbar\": {\"outlinewidth\": 0, \"ticks\": \"\"}}, \"type\": \"scatterpolargl\"}], \"scatterternary\": [{\"marker\": {\"colorbar\": {\"outlinewidth\": 0, \"ticks\": \"\"}}, \"type\": \"scatterternary\"}], \"surface\": [{\"colorbar\": {\"outlinewidth\": 0, \"ticks\": \"\"}, \"colorscale\": [[0.0, \"#0d0887\"], [0.1111111111111111, \"#46039f\"], [0.2222222222222222, \"#7201a8\"], [0.3333333333333333, \"#9c179e\"], [0.4444444444444444, \"#bd3786\"], [0.5555555555555556, \"#d8576b\"], [0.6666666666666666, \"#ed7953\"], [0.7777777777777778, \"#fb9f3a\"], [0.8888888888888888, \"#fdca26\"], [1.0, \"#f0f921\"]], \"type\": \"surface\"}], \"table\": [{\"cells\": {\"fill\": {\"color\": \"#506784\"}, \"line\": {\"color\": \"rgb(17,17,17)\"}}, \"header\": {\"fill\": {\"color\": \"#2a3f5f\"}, \"line\": {\"color\": \"rgb(17,17,17)\"}}, \"type\": \"table\"}]}, \"layout\": {\"annotationdefaults\": {\"arrowcolor\": \"#f2f5fa\", \"arrowhead\": 0, \"arrowwidth\": 1}, \"coloraxis\": {\"colorbar\": {\"outlinewidth\": 0, \"ticks\": \"\"}}, \"colorscale\": {\"diverging\": [[0, \"#8e0152\"], [0.1, \"#c51b7d\"], [0.2, \"#de77ae\"], [0.3, \"#f1b6da\"], [0.4, \"#fde0ef\"], [0.5, \"#f7f7f7\"], [0.6, \"#e6f5d0\"], [0.7, \"#b8e186\"], [0.8, \"#7fbc41\"], [0.9, \"#4d9221\"], [1, \"#276419\"]], \"sequential\": [[0.0, \"#0d0887\"], [0.1111111111111111, \"#46039f\"], [0.2222222222222222, \"#7201a8\"], [0.3333333333333333, \"#9c179e\"], [0.4444444444444444, \"#bd3786\"], [0.5555555555555556, \"#d8576b\"], [0.6666666666666666, \"#ed7953\"], [0.7777777777777778, \"#fb9f3a\"], [0.8888888888888888, \"#fdca26\"], [1.0, \"#f0f921\"]], \"sequentialminus\": [[0.0, \"#0d0887\"], [0.1111111111111111, \"#46039f\"], [0.2222222222222222, \"#7201a8\"], [0.3333333333333333, \"#9c179e\"], [0.4444444444444444, \"#bd3786\"], [0.5555555555555556, \"#d8576b\"], [0.6666666666666666, \"#ed7953\"], [0.7777777777777778, \"#fb9f3a\"], [0.8888888888888888, \"#fdca26\"], [1.0, \"#f0f921\"]]}, \"colorway\": [\"#636efa\", \"#EF553B\", \"#00cc96\", \"#ab63fa\", \"#FFA15A\", \"#19d3f3\", \"#FF6692\", \"#B6E880\", \"#FF97FF\", \"#FECB52\"], \"font\": {\"color\": \"#f2f5fa\"}, \"geo\": {\"bgcolor\": \"rgb(17,17,17)\", \"lakecolor\": \"rgb(17,17,17)\", \"landcolor\": \"rgb(17,17,17)\", \"showlakes\": true, \"showland\": true, \"subunitcolor\": \"#506784\"}, \"hoverlabel\": {\"align\": \"left\"}, \"hovermode\": \"closest\", \"mapbox\": {\"style\": \"dark\"}, \"paper_bgcolor\": \"rgb(17,17,17)\", \"plot_bgcolor\": \"rgb(17,17,17)\", \"polar\": {\"angularaxis\": {\"gridcolor\": \"#506784\", \"linecolor\": \"#506784\", \"ticks\": \"\"}, \"bgcolor\": \"rgb(17,17,17)\", \"radialaxis\": {\"gridcolor\": \"#506784\", \"linecolor\": \"#506784\", \"ticks\": \"\"}}, \"scene\": {\"xaxis\": {\"backgroundcolor\": \"rgb(17,17,17)\", \"gridcolor\": \"#506784\", \"gridwidth\": 2, \"linecolor\": \"#506784\", \"showbackground\": true, \"ticks\": \"\", \"zerolinecolor\": \"#C8D4E3\"}, \"yaxis\": {\"backgroundcolor\": \"rgb(17,17,17)\", \"gridcolor\": \"#506784\", \"gridwidth\": 2, \"linecolor\": \"#506784\", \"showbackground\": true, \"ticks\": \"\", \"zerolinecolor\": \"#C8D4E3\"}, \"zaxis\": {\"backgroundcolor\": \"rgb(17,17,17)\", \"gridcolor\": \"#506784\", \"gridwidth\": 2, \"linecolor\": \"#506784\", \"showbackground\": true, \"ticks\": \"\", \"zerolinecolor\": \"#C8D4E3\"}}, \"shapedefaults\": {\"line\": {\"color\": \"#f2f5fa\"}}, \"sliderdefaults\": {\"bgcolor\": \"#C8D4E3\", \"bordercolor\": \"rgb(17,17,17)\", \"borderwidth\": 1, \"tickwidth\": 0}, \"ternary\": {\"aaxis\": {\"gridcolor\": \"#506784\", \"linecolor\": \"#506784\", \"ticks\": \"\"}, \"baxis\": {\"gridcolor\": \"#506784\", \"linecolor\": \"#506784\", \"ticks\": \"\"}, \"bgcolor\": \"rgb(17,17,17)\", \"caxis\": {\"gridcolor\": \"#506784\", \"linecolor\": \"#506784\", \"ticks\": \"\"}}, \"title\": {\"x\": 0.05}, \"updatemenudefaults\": {\"bgcolor\": \"#506784\", \"borderwidth\": 0}, \"xaxis\": {\"automargin\": true, \"gridcolor\": \"#283442\", \"linecolor\": \"#506784\", \"ticks\": \"\", \"title\": {\"standoff\": 15}, \"zerolinecolor\": \"#283442\", \"zerolinewidth\": 2}, \"yaxis\": {\"automargin\": true, \"gridcolor\": \"#283442\", \"linecolor\": \"#506784\", \"ticks\": \"\", \"title\": {\"standoff\": 15}, \"zerolinecolor\": \"#283442\", \"zerolinewidth\": 2}}}, \"title\": {\"text\": \"Error \\ud835\\udf00 de Temperatura\"}},\n",
              "                        {\"responsive\": true}\n",
              "                    ).then(function(){\n",
              "                            \n",
              "var gd = document.getElementById('f83f246b-4c16-4f6f-818a-4e1e0f368066');\n",
              "var x = new MutationObserver(function (mutations, observer) {{\n",
              "        var display = window.getComputedStyle(gd).display;\n",
              "        if (!display || display === 'none') {{\n",
              "            console.log([gd, 'removed!']);\n",
              "            Plotly.purge(gd);\n",
              "            observer.disconnect();\n",
              "        }}\n",
              "}});\n",
              "\n",
              "// Listen for the removal of the full notebook cells\n",
              "var notebookContainer = gd.closest('#notebook-container');\n",
              "if (notebookContainer) {{\n",
              "    x.observe(notebookContainer, {childList: true});\n",
              "}}\n",
              "\n",
              "// Listen for the clearing of the current output cell\n",
              "var outputEl = gd.closest('.output');\n",
              "if (outputEl) {{\n",
              "    x.observe(outputEl, {childList: true});\n",
              "}}\n",
              "\n",
              "                        })\n",
              "                };\n",
              "                \n",
              "            </script>\n",
              "        </div>\n",
              "</body>\n",
              "</html>"
            ]
          },
          "metadata": {},
          "output_type": "display_data"
        }
      ],
      "source": [
        "#@title\n",
        "import plotly.graph_objects as go\n",
        "\n",
        "graphs = [en,ex]\n",
        "titles = ['error T numerica','error T extrapolada']\n",
        "colors = ['gold','ghostwhite']\n",
        "fig = go.Figure(layout={'template':'plotly_dark'})\n",
        "fig.update_layout(\n",
        "  plot_bgcolor='rgba(15,15,15,0)',\n",
        "  paper_bgcolor ='rgba(25,25,25,1)')\n",
        "  \n",
        "for graph,title,color in list(zip(graphs,titles,colors)):\n",
        "  fig.add_trace(go.Scatter(x=x, y=graph,\n",
        "                  mode='lines+markers',\n",
        "                  name=title,\n",
        "                  line=dict(color=color)))\n",
        "\n",
        "fig.for_each_trace(lambda trace: trace.update(visible=\"legendonly\") \n",
        "                  if trace.name != 'error T numerica' else ())\n",
        "  \n",
        "fig.update_layout(title_text=\"Error 𝜀 de Temperatura\")\n",
        "fig.show()"
      ]
    },
    {
      "cell_type": "code",
      "execution_count": null,
      "metadata": {
        "cellView": "form",
        "colab": {
          "base_uri": "https://localhost:8080/",
          "height": 542
        },
        "id": "Q1NWLOmaxVEP",
        "outputId": "4ecefbe5-b733-4852-83a9-2456557c7609"
      },
      "outputs": [
        {
          "data": {
            "text/html": [
              "<html>\n",
              "<head><meta charset=\"utf-8\" /></head>\n",
              "<body>\n",
              "    <div>\n",
              "            <script src=\"https://cdnjs.cloudflare.com/ajax/libs/mathjax/2.7.5/MathJax.js?config=TeX-AMS-MML_SVG\"></script><script type=\"text/javascript\">if (window.MathJax) {MathJax.Hub.Config({SVG: {font: \"STIX-Web\"}});}</script>\n",
              "                <script type=\"text/javascript\">window.PlotlyConfig = {MathJaxConfig: 'local'};</script>\n",
              "        <script src=\"https://cdn.plot.ly/plotly-latest.min.js\"></script>    \n",
              "            <div id=\"20bbc7e1-5f94-493d-a27b-82ae3f1efe14\" class=\"plotly-graph-div\" style=\"height:525px; width:100%;\"></div>\n",
              "            <script type=\"text/javascript\">\n",
              "                \n",
              "                    window.PLOTLYENV=window.PLOTLYENV || {};\n",
              "                    \n",
              "                if (document.getElementById(\"20bbc7e1-5f94-493d-a27b-82ae3f1efe14\")) {\n",
              "                    Plotly.newPlot(\n",
              "                        '20bbc7e1-5f94-493d-a27b-82ae3f1efe14',\n",
              "                        [{\"line\": {\"color\": \"gold\"}, \"mode\": \"lines+markers\", \"name\": \"Q analitica\", \"type\": \"scatter\", \"x\": [0.0, 0.02564102564102564, 0.05128205128205128, 0.07692307692307693, 0.10256410256410256, 0.1282051282051282, 0.15384615384615385, 0.1794871794871795, 0.20512820512820512, 0.23076923076923078, 0.2564102564102564, 0.28205128205128205, 0.3076923076923077, 0.3333333333333333, 0.358974358974359, 0.38461538461538464, 0.41025641025641024, 0.4358974358974359, 0.46153846153846156, 0.48717948717948717, 0.5128205128205128, 0.5384615384615384, 0.5641025641025641, 0.5897435897435898, 0.6153846153846154, 0.6410256410256411, 0.6666666666666666, 0.6923076923076923, 0.717948717948718, 0.7435897435897436, 0.7692307692307693, 0.7948717948717948, 0.8205128205128205, 0.8461538461538461, 0.8717948717948718, 0.8974358974358975, 0.9230769230769231, 0.9487179487179487, 0.9743589743589743, 1.0], \"y\": [508.01323376742766, 483.69433027527344, 460.41552591763195, 438.12676374169354, 416.7801157053093, 396.329679616211, 376.7314804274623, 357.94337567689587, 339.9249648671996, 322.63750259179005, 306.04381521966735, 290.10822096009315, 274.79645313520933, 260.075586495606, 245.91396642039368, 232.281140849539, 219.14779480209262, 206.48568733950682, 194.26759083849015, 182.4672324428178, 171.05923756819956, 160.01907533872276, 149.32300583754107, 138.9480290583809, 128.87183544809437, 119.07275793391001, 109.52972533222359, 100.2222170387436, 91.13021890255988, 82.2341801892508, 73.51497154048586, 64.95384383972271, 56.532387895547004, 48.23249485596156, 40.03631726850166, 31.926230702444368, 23.884795850586336, 15.894721029097242, 7.938824994810927, 0.0]}, {\"line\": {\"color\": \"ghostwhite\"}, \"mode\": \"lines+markers\", \"name\": \"Q numerica\", \"type\": \"scatter\", \"visible\": \"legendonly\", \"x\": [0.0, 0.02564102564102564, 0.05128205128205128, 0.07692307692307693, 0.10256410256410256, 0.1282051282051282, 0.15384615384615385, 0.1794871794871795, 0.20512820512820512, 0.23076923076923078, 0.2564102564102564, 0.28205128205128205, 0.3076923076923077, 0.3333333333333333, 0.358974358974359, 0.38461538461538464, 0.41025641025641024, 0.4358974358974359, 0.46153846153846156, 0.48717948717948717, 0.5128205128205128, 0.5384615384615384, 0.5641025641025641, 0.5897435897435898, 0.6153846153846154, 0.6410256410256411, 0.6666666666666666, 0.6923076923076923, 0.717948717948718, 0.7435897435897436, 0.7692307692307693, 0.7948717948717948, 0.8205128205128205, 0.8461538461538461, 0.8717948717948718, 0.8974358974358975, 0.9230769230769231, 0.9487179487179487, 0.9743589743589743, 1.0], \"y\": [507.6080104802738, 483.81756992480035, 460.5344312596485, 438.2414130569305, 416.89058671024816, 396.4360492672457, 376.83382474111494, 358.0417695649623, 340.0194819857382, 322.7282152029848, 306.1307940656163, 290.191535147644, 274.87617003103276, 260.15177163072315, 245.98668340343679, 232.35045128807909, 219.2137582313934, 206.5483611581128, 194.32703025010593, 182.52349040395288, 171.1123647410883, 160.06912004914818, 149.37001403697414, 138.99204429026523, 128.91289881776174, 119.11090808186114, 109.56499841045101, 100.25464668982627, 91.15983624126179, 82.26101378640284, 73.53904740892563, 64.97518542209866, 56.55101605382559, 48.24842786247606, 40.04957079841001, 31.936817827474233, 23.892727033977927, 15.900004121654057, 7.941465231988267, -0.0]}, {\"line\": {\"color\": \"limegreen\"}, \"mode\": \"lines+markers\", \"name\": \"Q extrapolada\", \"type\": \"scatter\", \"visible\": \"legendonly\", \"x\": [0.0, 0.02564102564102564, 0.05128205128205128, 0.07692307692307693, 0.10256410256410256, 0.1282051282051282, 0.15384615384615385, 0.1794871794871795, 0.20512820512820512, 0.23076923076923078, 0.2564102564102564, 0.28205128205128205, 0.3076923076923077, 0.3333333333333333, 0.358974358974359, 0.38461538461538464, 0.41025641025641024, 0.4358974358974359, 0.46153846153846156, 0.48717948717948717, 0.5128205128205128, 0.5384615384615384, 0.5641025641025641, 0.5897435897435898, 0.6153846153846154, 0.6410256410256411, 0.6666666666666666, 0.6923076923076923, 0.717948717948718, 0.7435897435897436, 0.7692307692307693, 0.7948717948717948, 0.8205128205128205, 0.8461538461538461, 0.8717948717948718, 0.8974358974358975, 0.9230769230769231, 0.9487179487179487, 0.9743589743589743, 1.0], \"y\": [508.01308532502054, 483.6943302749918, 460.4155259173744, 438.1267637414658, 416.7801157051114, 396.32967961592766, 376.7314804272954, 357.943375676744, 339.9249648670564, 322.6375025916598, 306.04381521956725, 290.1082209599754, 274.79645313510997, 260.07558649551015, 245.91396642030986, 232.28114084946557, 219.14779480201975, 206.48568733944344, 194.26759083843004, 182.4672324427609, 171.05923756814803, 160.019075338685, 149.32300583751007, 138.94802905835925, 128.87183544807596, 119.07275793389427, 109.52972533220824, 100.22221703872899, 91.13021890254927, 82.23418018924535, 73.51497154048499, 64.95384383972767, 56.53238789555169, 48.23249485596732, 40.036317268508746, 31.926230702446194, 23.884795850591104, 15.894721029096988, 7.938824994811906, 0.0]}],\n",
              "                        {\"paper_bgcolor\": \"rgba(25,25,25,1)\", \"plot_bgcolor\": \"rgba(15,15,15,0)\", \"template\": {\"data\": {\"bar\": [{\"error_x\": {\"color\": \"#f2f5fa\"}, \"error_y\": {\"color\": \"#f2f5fa\"}, \"marker\": {\"line\": {\"color\": \"rgb(17,17,17)\", \"width\": 0.5}}, \"type\": \"bar\"}], \"barpolar\": [{\"marker\": {\"line\": {\"color\": \"rgb(17,17,17)\", \"width\": 0.5}}, \"type\": \"barpolar\"}], \"carpet\": [{\"aaxis\": {\"endlinecolor\": \"#A2B1C6\", \"gridcolor\": \"#506784\", \"linecolor\": \"#506784\", \"minorgridcolor\": \"#506784\", \"startlinecolor\": \"#A2B1C6\"}, \"baxis\": {\"endlinecolor\": \"#A2B1C6\", \"gridcolor\": \"#506784\", \"linecolor\": \"#506784\", \"minorgridcolor\": \"#506784\", \"startlinecolor\": \"#A2B1C6\"}, \"type\": \"carpet\"}], \"choropleth\": [{\"colorbar\": {\"outlinewidth\": 0, \"ticks\": \"\"}, \"type\": \"choropleth\"}], \"contour\": [{\"colorbar\": {\"outlinewidth\": 0, \"ticks\": \"\"}, \"colorscale\": [[0.0, \"#0d0887\"], [0.1111111111111111, \"#46039f\"], [0.2222222222222222, \"#7201a8\"], [0.3333333333333333, \"#9c179e\"], [0.4444444444444444, \"#bd3786\"], [0.5555555555555556, \"#d8576b\"], [0.6666666666666666, \"#ed7953\"], [0.7777777777777778, \"#fb9f3a\"], [0.8888888888888888, \"#fdca26\"], [1.0, \"#f0f921\"]], \"type\": \"contour\"}], \"contourcarpet\": [{\"colorbar\": {\"outlinewidth\": 0, \"ticks\": \"\"}, \"type\": \"contourcarpet\"}], \"heatmap\": [{\"colorbar\": {\"outlinewidth\": 0, \"ticks\": \"\"}, \"colorscale\": [[0.0, \"#0d0887\"], [0.1111111111111111, \"#46039f\"], [0.2222222222222222, \"#7201a8\"], [0.3333333333333333, \"#9c179e\"], [0.4444444444444444, \"#bd3786\"], [0.5555555555555556, \"#d8576b\"], [0.6666666666666666, \"#ed7953\"], [0.7777777777777778, \"#fb9f3a\"], [0.8888888888888888, \"#fdca26\"], [1.0, \"#f0f921\"]], \"type\": \"heatmap\"}], \"heatmapgl\": [{\"colorbar\": {\"outlinewidth\": 0, \"ticks\": \"\"}, \"colorscale\": [[0.0, \"#0d0887\"], [0.1111111111111111, \"#46039f\"], [0.2222222222222222, \"#7201a8\"], [0.3333333333333333, \"#9c179e\"], [0.4444444444444444, \"#bd3786\"], [0.5555555555555556, \"#d8576b\"], [0.6666666666666666, \"#ed7953\"], [0.7777777777777778, \"#fb9f3a\"], [0.8888888888888888, \"#fdca26\"], [1.0, \"#f0f921\"]], \"type\": \"heatmapgl\"}], \"histogram\": [{\"marker\": {\"colorbar\": {\"outlinewidth\": 0, \"ticks\": \"\"}}, \"type\": \"histogram\"}], \"histogram2d\": [{\"colorbar\": {\"outlinewidth\": 0, \"ticks\": \"\"}, \"colorscale\": [[0.0, \"#0d0887\"], [0.1111111111111111, \"#46039f\"], [0.2222222222222222, \"#7201a8\"], [0.3333333333333333, \"#9c179e\"], [0.4444444444444444, \"#bd3786\"], [0.5555555555555556, \"#d8576b\"], [0.6666666666666666, \"#ed7953\"], [0.7777777777777778, \"#fb9f3a\"], [0.8888888888888888, \"#fdca26\"], [1.0, \"#f0f921\"]], \"type\": \"histogram2d\"}], \"histogram2dcontour\": [{\"colorbar\": {\"outlinewidth\": 0, \"ticks\": \"\"}, \"colorscale\": [[0.0, \"#0d0887\"], [0.1111111111111111, \"#46039f\"], [0.2222222222222222, \"#7201a8\"], [0.3333333333333333, \"#9c179e\"], [0.4444444444444444, \"#bd3786\"], [0.5555555555555556, \"#d8576b\"], [0.6666666666666666, \"#ed7953\"], [0.7777777777777778, \"#fb9f3a\"], [0.8888888888888888, \"#fdca26\"], [1.0, \"#f0f921\"]], \"type\": \"histogram2dcontour\"}], \"mesh3d\": [{\"colorbar\": {\"outlinewidth\": 0, \"ticks\": \"\"}, \"type\": \"mesh3d\"}], \"parcoords\": [{\"line\": {\"colorbar\": {\"outlinewidth\": 0, \"ticks\": \"\"}}, \"type\": \"parcoords\"}], \"pie\": [{\"automargin\": true, \"type\": \"pie\"}], \"scatter\": [{\"marker\": {\"line\": {\"color\": \"#283442\"}}, \"type\": \"scatter\"}], \"scatter3d\": [{\"line\": {\"colorbar\": {\"outlinewidth\": 0, \"ticks\": \"\"}}, \"marker\": {\"colorbar\": {\"outlinewidth\": 0, \"ticks\": \"\"}}, \"type\": \"scatter3d\"}], \"scattercarpet\": [{\"marker\": {\"colorbar\": {\"outlinewidth\": 0, \"ticks\": \"\"}}, \"type\": \"scattercarpet\"}], \"scattergeo\": [{\"marker\": {\"colorbar\": {\"outlinewidth\": 0, \"ticks\": \"\"}}, \"type\": \"scattergeo\"}], \"scattergl\": [{\"marker\": {\"line\": {\"color\": \"#283442\"}}, \"type\": \"scattergl\"}], \"scattermapbox\": [{\"marker\": {\"colorbar\": {\"outlinewidth\": 0, \"ticks\": \"\"}}, \"type\": \"scattermapbox\"}], \"scatterpolar\": [{\"marker\": {\"colorbar\": {\"outlinewidth\": 0, \"ticks\": \"\"}}, \"type\": \"scatterpolar\"}], \"scatterpolargl\": [{\"marker\": {\"colorbar\": {\"outlinewidth\": 0, \"ticks\": \"\"}}, \"type\": \"scatterpolargl\"}], \"scatterternary\": [{\"marker\": {\"colorbar\": {\"outlinewidth\": 0, \"ticks\": \"\"}}, \"type\": \"scatterternary\"}], \"surface\": [{\"colorbar\": {\"outlinewidth\": 0, \"ticks\": \"\"}, \"colorscale\": [[0.0, \"#0d0887\"], [0.1111111111111111, \"#46039f\"], [0.2222222222222222, \"#7201a8\"], [0.3333333333333333, \"#9c179e\"], [0.4444444444444444, \"#bd3786\"], [0.5555555555555556, \"#d8576b\"], [0.6666666666666666, \"#ed7953\"], [0.7777777777777778, \"#fb9f3a\"], [0.8888888888888888, \"#fdca26\"], [1.0, \"#f0f921\"]], \"type\": \"surface\"}], \"table\": [{\"cells\": {\"fill\": {\"color\": \"#506784\"}, \"line\": {\"color\": \"rgb(17,17,17)\"}}, \"header\": {\"fill\": {\"color\": \"#2a3f5f\"}, \"line\": {\"color\": \"rgb(17,17,17)\"}}, \"type\": \"table\"}]}, \"layout\": {\"annotationdefaults\": {\"arrowcolor\": \"#f2f5fa\", \"arrowhead\": 0, \"arrowwidth\": 1}, \"coloraxis\": {\"colorbar\": {\"outlinewidth\": 0, \"ticks\": \"\"}}, \"colorscale\": {\"diverging\": [[0, \"#8e0152\"], [0.1, \"#c51b7d\"], [0.2, \"#de77ae\"], [0.3, \"#f1b6da\"], [0.4, \"#fde0ef\"], [0.5, \"#f7f7f7\"], [0.6, \"#e6f5d0\"], [0.7, \"#b8e186\"], [0.8, \"#7fbc41\"], [0.9, \"#4d9221\"], [1, \"#276419\"]], \"sequential\": [[0.0, \"#0d0887\"], [0.1111111111111111, \"#46039f\"], [0.2222222222222222, \"#7201a8\"], [0.3333333333333333, \"#9c179e\"], [0.4444444444444444, \"#bd3786\"], [0.5555555555555556, \"#d8576b\"], [0.6666666666666666, \"#ed7953\"], [0.7777777777777778, \"#fb9f3a\"], [0.8888888888888888, \"#fdca26\"], [1.0, \"#f0f921\"]], \"sequentialminus\": [[0.0, \"#0d0887\"], [0.1111111111111111, \"#46039f\"], [0.2222222222222222, \"#7201a8\"], [0.3333333333333333, \"#9c179e\"], [0.4444444444444444, \"#bd3786\"], [0.5555555555555556, \"#d8576b\"], [0.6666666666666666, \"#ed7953\"], [0.7777777777777778, \"#fb9f3a\"], [0.8888888888888888, \"#fdca26\"], [1.0, \"#f0f921\"]]}, \"colorway\": [\"#636efa\", \"#EF553B\", \"#00cc96\", \"#ab63fa\", \"#FFA15A\", \"#19d3f3\", \"#FF6692\", \"#B6E880\", \"#FF97FF\", \"#FECB52\"], \"font\": {\"color\": \"#f2f5fa\"}, \"geo\": {\"bgcolor\": \"rgb(17,17,17)\", \"lakecolor\": \"rgb(17,17,17)\", \"landcolor\": \"rgb(17,17,17)\", \"showlakes\": true, \"showland\": true, \"subunitcolor\": \"#506784\"}, \"hoverlabel\": {\"align\": \"left\"}, \"hovermode\": \"closest\", \"mapbox\": {\"style\": \"dark\"}, \"paper_bgcolor\": \"rgb(17,17,17)\", \"plot_bgcolor\": \"rgb(17,17,17)\", \"polar\": {\"angularaxis\": {\"gridcolor\": \"#506784\", \"linecolor\": \"#506784\", \"ticks\": \"\"}, \"bgcolor\": \"rgb(17,17,17)\", \"radialaxis\": {\"gridcolor\": \"#506784\", \"linecolor\": \"#506784\", \"ticks\": \"\"}}, \"scene\": {\"xaxis\": {\"backgroundcolor\": \"rgb(17,17,17)\", \"gridcolor\": \"#506784\", \"gridwidth\": 2, \"linecolor\": \"#506784\", \"showbackground\": true, \"ticks\": \"\", \"zerolinecolor\": \"#C8D4E3\"}, \"yaxis\": {\"backgroundcolor\": \"rgb(17,17,17)\", \"gridcolor\": \"#506784\", \"gridwidth\": 2, \"linecolor\": \"#506784\", \"showbackground\": true, \"ticks\": \"\", \"zerolinecolor\": \"#C8D4E3\"}, \"zaxis\": {\"backgroundcolor\": \"rgb(17,17,17)\", \"gridcolor\": \"#506784\", \"gridwidth\": 2, \"linecolor\": \"#506784\", \"showbackground\": true, \"ticks\": \"\", \"zerolinecolor\": \"#C8D4E3\"}}, \"shapedefaults\": {\"line\": {\"color\": \"#f2f5fa\"}}, \"sliderdefaults\": {\"bgcolor\": \"#C8D4E3\", \"bordercolor\": \"rgb(17,17,17)\", \"borderwidth\": 1, \"tickwidth\": 0}, \"ternary\": {\"aaxis\": {\"gridcolor\": \"#506784\", \"linecolor\": \"#506784\", \"ticks\": \"\"}, \"baxis\": {\"gridcolor\": \"#506784\", \"linecolor\": \"#506784\", \"ticks\": \"\"}, \"bgcolor\": \"rgb(17,17,17)\", \"caxis\": {\"gridcolor\": \"#506784\", \"linecolor\": \"#506784\", \"ticks\": \"\"}}, \"title\": {\"x\": 0.05}, \"updatemenudefaults\": {\"bgcolor\": \"#506784\", \"borderwidth\": 0}, \"xaxis\": {\"automargin\": true, \"gridcolor\": \"#283442\", \"linecolor\": \"#506784\", \"ticks\": \"\", \"title\": {\"standoff\": 15}, \"zerolinecolor\": \"#283442\", \"zerolinewidth\": 2}, \"yaxis\": {\"automargin\": true, \"gridcolor\": \"#283442\", \"linecolor\": \"#506784\", \"ticks\": \"\", \"title\": {\"standoff\": 15}, \"zerolinecolor\": \"#283442\", \"zerolinewidth\": 2}}}, \"title\": {\"text\": \"Tasa de transferencia de Calor\"}},\n",
              "                        {\"responsive\": true}\n",
              "                    ).then(function(){\n",
              "                            \n",
              "var gd = document.getElementById('20bbc7e1-5f94-493d-a27b-82ae3f1efe14');\n",
              "var x = new MutationObserver(function (mutations, observer) {{\n",
              "        var display = window.getComputedStyle(gd).display;\n",
              "        if (!display || display === 'none') {{\n",
              "            console.log([gd, 'removed!']);\n",
              "            Plotly.purge(gd);\n",
              "            observer.disconnect();\n",
              "        }}\n",
              "}});\n",
              "\n",
              "// Listen for the removal of the full notebook cells\n",
              "var notebookContainer = gd.closest('#notebook-container');\n",
              "if (notebookContainer) {{\n",
              "    x.observe(notebookContainer, {childList: true});\n",
              "}}\n",
              "\n",
              "// Listen for the clearing of the current output cell\n",
              "var outputEl = gd.closest('.output');\n",
              "if (outputEl) {{\n",
              "    x.observe(outputEl, {childList: true});\n",
              "}}\n",
              "\n",
              "                        })\n",
              "                };\n",
              "                \n",
              "            </script>\n",
              "        </div>\n",
              "</body>\n",
              "</html>"
            ]
          },
          "metadata": {},
          "output_type": "display_data"
        }
      ],
      "source": [
        "#@title \n",
        "import plotly.graph_objects as go\n",
        "\n",
        "graphs = [dQ1,dQ2,dQr]\n",
        "titles = ['Q analitica','Q numerica','Q extrapolada']\n",
        "colors = ['gold','ghostwhite','limegreen']\n",
        "fig = go.Figure(layout={'template':'plotly_dark'})\n",
        "fig.update_layout(\n",
        "  plot_bgcolor='rgba(15,15,15,0)',\n",
        "  paper_bgcolor ='rgba(25,25,25,1)')\n",
        "  \n",
        "for graph,title,color in list(zip(graphs,titles,colors)):\n",
        "  fig.add_trace(go.Scatter(x=x, y=graph,\n",
        "                  mode='lines+markers',\n",
        "                  name=title,\n",
        "                  line=dict(color=color)))\n",
        "\n",
        "fig.for_each_trace(lambda trace: trace.update(visible=\"legendonly\") \n",
        "                  if trace.name != 'Q analitica' else ())\n",
        "  \n",
        "fig.update_layout(title_text=\"Tasa de transferencia de Calor\")\n",
        "fig.show()"
      ]
    },
    {
      "cell_type": "code",
      "execution_count": null,
      "metadata": {
        "cellView": "form",
        "colab": {
          "base_uri": "https://localhost:8080/",
          "height": 542
        },
        "id": "VChgvgzCZ6Bx",
        "outputId": "b65ddf2b-99ba-4b3e-8e2a-d5bfc6ade35e"
      },
      "outputs": [
        {
          "data": {
            "text/html": [
              "<html>\n",
              "<head><meta charset=\"utf-8\" /></head>\n",
              "<body>\n",
              "    <div>\n",
              "            <script src=\"https://cdnjs.cloudflare.com/ajax/libs/mathjax/2.7.5/MathJax.js?config=TeX-AMS-MML_SVG\"></script><script type=\"text/javascript\">if (window.MathJax) {MathJax.Hub.Config({SVG: {font: \"STIX-Web\"}});}</script>\n",
              "                <script type=\"text/javascript\">window.PlotlyConfig = {MathJaxConfig: 'local'};</script>\n",
              "        <script src=\"https://cdn.plot.ly/plotly-latest.min.js\"></script>    \n",
              "            <div id=\"b6c9e4e7-c16e-419e-a99b-819d53fc648e\" class=\"plotly-graph-div\" style=\"height:525px; width:100%;\"></div>\n",
              "            <script type=\"text/javascript\">\n",
              "                \n",
              "                    window.PLOTLYENV=window.PLOTLYENV || {};\n",
              "                    \n",
              "                if (document.getElementById(\"b6c9e4e7-c16e-419e-a99b-819d53fc648e\")) {\n",
              "                    Plotly.newPlot(\n",
              "                        'b6c9e4e7-c16e-419e-a99b-819d53fc648e',\n",
              "                        [{\"line\": {\"color\": \"gold\"}, \"mode\": \"lines+markers\", \"name\": \"error dQ numerica\", \"type\": \"scatter\", \"x\": [0.0, 0.02564102564102564, 0.05128205128205128, 0.07692307692307693, 0.10256410256410256, 0.1282051282051282, 0.15384615384615385, 0.1794871794871795, 0.20512820512820512, 0.23076923076923078, 0.2564102564102564, 0.28205128205128205, 0.3076923076923077, 0.3333333333333333, 0.358974358974359, 0.38461538461538464, 0.41025641025641024, 0.4358974358974359, 0.46153846153846156, 0.48717948717948717, 0.5128205128205128, 0.5384615384615384, 0.5641025641025641, 0.5897435897435898, 0.6153846153846154, 0.6410256410256411, 0.6666666666666666, 0.6923076923076923, 0.717948717948718, 0.7435897435897436, 0.7692307692307693, 0.7948717948717948, 0.8205128205128205, 0.8461538461538461, 0.8717948717948718, 0.8974358974358975, 0.9230769230769231, 0.9487179487179487, 0.9743589743589743, 1.0], \"y\": [-0.07976628564353541, 0.025478828634764465, 0.025825658632940746, 0.026168069318080356, 0.026505824240657595, 0.02683867913644547, 0.027166382150091754, 0.02748867411789805, 0.02780528890413088, 0.028115953807618145, 0.028420390030279342, 0.028718313212611472, 0.029009434042513032, 0.02929345893004238, 0.029570090752306943, 0.029839029671792285, 0.030099974019975825, 0.030352621246303398, 0.030596668934449803, 0.03083181587286842, 0.031057763172570484, 0.03127421547680614, 0.03148088211150066, 0.03167747839433009, 0.03186372687607834, 0.03203935863508209, 0.032204114563813294, 0.032357746656256126, 0.03250001926757032, 0.032630710357049474, 0.03274961267788454, 0.032856534909026874, 0.03295130273464961, 0.033033759837807826, 0.03310376880936124, 0.03316121194680907, 0.03320599196746426, 0.03323803259675202, 0.03325727899362017, 0.0]}, {\"line\": {\"color\": \"ghostwhite\"}, \"mode\": \"lines+markers\", \"name\": \"error dQ extrapolada\", \"type\": \"scatter\", \"visible\": \"legendonly\", \"x\": [0.0, 0.02564102564102564, 0.05128205128205128, 0.07692307692307693, 0.10256410256410256, 0.1282051282051282, 0.15384615384615385, 0.1794871794871795, 0.20512820512820512, 0.23076923076923078, 0.2564102564102564, 0.28205128205128205, 0.3076923076923077, 0.3333333333333333, 0.358974358974359, 0.38461538461538464, 0.41025641025641024, 0.4358974358974359, 0.46153846153846156, 0.48717948717948717, 0.5128205128205128, 0.5384615384615384, 0.5641025641025641, 0.5897435897435898, 0.6153846153846154, 0.6410256410256411, 0.6666666666666666, 0.6923076923076923, 0.717948717948718, 0.7435897435897436, 0.7692307692307693, 0.7948717948717948, 0.8205128205128205, 0.8461538461538461, 0.8717948717948718, 0.8974358974358975, 0.9230769230769231, 0.9487179487179487, 0.9743589743589743, 1.0], \"y\": [-2.9220185077225184e-05, -5.823081289685776e-11, -5.594023580004077e-11, -5.1974623511165076e-11, -4.747633910500209e-11, -7.149715441334753e-11, -4.430006156798106e-11, -4.24328610381049e-11, -4.212358223418973e-11, -4.03636500915021e-11, -3.270814688479615e-11, -4.057889847834652e-11, -3.6158507518946296e-11, -3.6850057896895874e-11, -3.4083310651407794e-11, -3.161758931420786e-11, -3.32530213435942e-11, -3.069482095656825e-11, -3.094284290336426e-11, -3.118382490812449e-11, -3.012322510602712e-11, -2.3587206739997268e-11, -2.07657787322515e-11, -1.5586649722730667e-11, -1.4291150309812813e-11, -1.3223534331155118e-11, -1.4012381612266192e-11, -1.4576367475068178e-11, -1.1633130859562658e-11, -6.618607181827071e-12, -1.1791640797275253e-12, 7.635557809086041e-12, 8.295390006665639e-12, 1.1932611358471832e-11, 1.769421255211598e-11, 5.719731990672003e-12, 1.9961408867697027e-11, -1.5981345477484174e-12, 1.2328935568541887e-11, 0.0]}],\n",
              "                        {\"paper_bgcolor\": \"rgba(25,25,25,1)\", \"plot_bgcolor\": \"rgba(15,15,15,0)\", \"template\": {\"data\": {\"bar\": [{\"error_x\": {\"color\": \"#f2f5fa\"}, \"error_y\": {\"color\": \"#f2f5fa\"}, \"marker\": {\"line\": {\"color\": \"rgb(17,17,17)\", \"width\": 0.5}}, \"type\": \"bar\"}], \"barpolar\": [{\"marker\": {\"line\": {\"color\": \"rgb(17,17,17)\", \"width\": 0.5}}, \"type\": \"barpolar\"}], \"carpet\": [{\"aaxis\": {\"endlinecolor\": \"#A2B1C6\", \"gridcolor\": \"#506784\", \"linecolor\": \"#506784\", \"minorgridcolor\": \"#506784\", \"startlinecolor\": \"#A2B1C6\"}, \"baxis\": {\"endlinecolor\": \"#A2B1C6\", \"gridcolor\": \"#506784\", \"linecolor\": \"#506784\", \"minorgridcolor\": \"#506784\", \"startlinecolor\": \"#A2B1C6\"}, \"type\": \"carpet\"}], \"choropleth\": [{\"colorbar\": {\"outlinewidth\": 0, \"ticks\": \"\"}, \"type\": \"choropleth\"}], \"contour\": [{\"colorbar\": {\"outlinewidth\": 0, \"ticks\": \"\"}, \"colorscale\": [[0.0, \"#0d0887\"], [0.1111111111111111, \"#46039f\"], [0.2222222222222222, \"#7201a8\"], [0.3333333333333333, \"#9c179e\"], [0.4444444444444444, \"#bd3786\"], [0.5555555555555556, \"#d8576b\"], [0.6666666666666666, \"#ed7953\"], [0.7777777777777778, \"#fb9f3a\"], [0.8888888888888888, \"#fdca26\"], [1.0, \"#f0f921\"]], \"type\": \"contour\"}], \"contourcarpet\": [{\"colorbar\": {\"outlinewidth\": 0, \"ticks\": \"\"}, \"type\": \"contourcarpet\"}], \"heatmap\": [{\"colorbar\": {\"outlinewidth\": 0, \"ticks\": \"\"}, \"colorscale\": [[0.0, \"#0d0887\"], [0.1111111111111111, \"#46039f\"], [0.2222222222222222, \"#7201a8\"], [0.3333333333333333, \"#9c179e\"], [0.4444444444444444, \"#bd3786\"], [0.5555555555555556, \"#d8576b\"], [0.6666666666666666, \"#ed7953\"], [0.7777777777777778, \"#fb9f3a\"], [0.8888888888888888, \"#fdca26\"], [1.0, \"#f0f921\"]], \"type\": \"heatmap\"}], \"heatmapgl\": [{\"colorbar\": {\"outlinewidth\": 0, \"ticks\": \"\"}, \"colorscale\": [[0.0, \"#0d0887\"], [0.1111111111111111, \"#46039f\"], [0.2222222222222222, \"#7201a8\"], [0.3333333333333333, \"#9c179e\"], [0.4444444444444444, \"#bd3786\"], [0.5555555555555556, \"#d8576b\"], [0.6666666666666666, \"#ed7953\"], [0.7777777777777778, \"#fb9f3a\"], [0.8888888888888888, \"#fdca26\"], [1.0, \"#f0f921\"]], \"type\": \"heatmapgl\"}], \"histogram\": [{\"marker\": {\"colorbar\": {\"outlinewidth\": 0, \"ticks\": \"\"}}, \"type\": \"histogram\"}], \"histogram2d\": [{\"colorbar\": {\"outlinewidth\": 0, \"ticks\": \"\"}, \"colorscale\": [[0.0, \"#0d0887\"], [0.1111111111111111, \"#46039f\"], [0.2222222222222222, \"#7201a8\"], [0.3333333333333333, \"#9c179e\"], [0.4444444444444444, \"#bd3786\"], [0.5555555555555556, \"#d8576b\"], [0.6666666666666666, \"#ed7953\"], [0.7777777777777778, \"#fb9f3a\"], [0.8888888888888888, \"#fdca26\"], [1.0, \"#f0f921\"]], \"type\": \"histogram2d\"}], \"histogram2dcontour\": [{\"colorbar\": {\"outlinewidth\": 0, \"ticks\": \"\"}, \"colorscale\": [[0.0, \"#0d0887\"], [0.1111111111111111, \"#46039f\"], [0.2222222222222222, \"#7201a8\"], [0.3333333333333333, \"#9c179e\"], [0.4444444444444444, \"#bd3786\"], [0.5555555555555556, \"#d8576b\"], [0.6666666666666666, \"#ed7953\"], [0.7777777777777778, \"#fb9f3a\"], [0.8888888888888888, \"#fdca26\"], [1.0, \"#f0f921\"]], \"type\": \"histogram2dcontour\"}], \"mesh3d\": [{\"colorbar\": {\"outlinewidth\": 0, \"ticks\": \"\"}, \"type\": \"mesh3d\"}], \"parcoords\": [{\"line\": {\"colorbar\": {\"outlinewidth\": 0, \"ticks\": \"\"}}, \"type\": \"parcoords\"}], \"pie\": [{\"automargin\": true, \"type\": \"pie\"}], \"scatter\": [{\"marker\": {\"line\": {\"color\": \"#283442\"}}, \"type\": \"scatter\"}], \"scatter3d\": [{\"line\": {\"colorbar\": {\"outlinewidth\": 0, \"ticks\": \"\"}}, \"marker\": {\"colorbar\": {\"outlinewidth\": 0, \"ticks\": \"\"}}, \"type\": \"scatter3d\"}], \"scattercarpet\": [{\"marker\": {\"colorbar\": {\"outlinewidth\": 0, \"ticks\": \"\"}}, \"type\": \"scattercarpet\"}], \"scattergeo\": [{\"marker\": {\"colorbar\": {\"outlinewidth\": 0, \"ticks\": \"\"}}, \"type\": \"scattergeo\"}], \"scattergl\": [{\"marker\": {\"line\": {\"color\": \"#283442\"}}, \"type\": \"scattergl\"}], \"scattermapbox\": [{\"marker\": {\"colorbar\": {\"outlinewidth\": 0, \"ticks\": \"\"}}, \"type\": \"scattermapbox\"}], \"scatterpolar\": [{\"marker\": {\"colorbar\": {\"outlinewidth\": 0, \"ticks\": \"\"}}, \"type\": \"scatterpolar\"}], \"scatterpolargl\": [{\"marker\": {\"colorbar\": {\"outlinewidth\": 0, \"ticks\": \"\"}}, \"type\": \"scatterpolargl\"}], \"scatterternary\": [{\"marker\": {\"colorbar\": {\"outlinewidth\": 0, \"ticks\": \"\"}}, \"type\": \"scatterternary\"}], \"surface\": [{\"colorbar\": {\"outlinewidth\": 0, \"ticks\": \"\"}, \"colorscale\": [[0.0, \"#0d0887\"], [0.1111111111111111, \"#46039f\"], [0.2222222222222222, \"#7201a8\"], [0.3333333333333333, \"#9c179e\"], [0.4444444444444444, \"#bd3786\"], [0.5555555555555556, \"#d8576b\"], [0.6666666666666666, \"#ed7953\"], [0.7777777777777778, \"#fb9f3a\"], [0.8888888888888888, \"#fdca26\"], [1.0, \"#f0f921\"]], \"type\": \"surface\"}], \"table\": [{\"cells\": {\"fill\": {\"color\": \"#506784\"}, \"line\": {\"color\": \"rgb(17,17,17)\"}}, \"header\": {\"fill\": {\"color\": \"#2a3f5f\"}, \"line\": {\"color\": \"rgb(17,17,17)\"}}, \"type\": \"table\"}]}, \"layout\": {\"annotationdefaults\": {\"arrowcolor\": \"#f2f5fa\", \"arrowhead\": 0, \"arrowwidth\": 1}, \"coloraxis\": {\"colorbar\": {\"outlinewidth\": 0, \"ticks\": \"\"}}, \"colorscale\": {\"diverging\": [[0, \"#8e0152\"], [0.1, \"#c51b7d\"], [0.2, \"#de77ae\"], [0.3, \"#f1b6da\"], [0.4, \"#fde0ef\"], [0.5, \"#f7f7f7\"], [0.6, \"#e6f5d0\"], [0.7, \"#b8e186\"], [0.8, \"#7fbc41\"], [0.9, \"#4d9221\"], [1, \"#276419\"]], \"sequential\": [[0.0, \"#0d0887\"], [0.1111111111111111, \"#46039f\"], [0.2222222222222222, \"#7201a8\"], [0.3333333333333333, \"#9c179e\"], [0.4444444444444444, \"#bd3786\"], [0.5555555555555556, \"#d8576b\"], [0.6666666666666666, \"#ed7953\"], [0.7777777777777778, \"#fb9f3a\"], [0.8888888888888888, \"#fdca26\"], [1.0, \"#f0f921\"]], \"sequentialminus\": [[0.0, \"#0d0887\"], [0.1111111111111111, \"#46039f\"], [0.2222222222222222, \"#7201a8\"], [0.3333333333333333, \"#9c179e\"], [0.4444444444444444, \"#bd3786\"], [0.5555555555555556, \"#d8576b\"], [0.6666666666666666, \"#ed7953\"], [0.7777777777777778, \"#fb9f3a\"], [0.8888888888888888, \"#fdca26\"], [1.0, \"#f0f921\"]]}, \"colorway\": [\"#636efa\", \"#EF553B\", \"#00cc96\", \"#ab63fa\", \"#FFA15A\", \"#19d3f3\", \"#FF6692\", \"#B6E880\", \"#FF97FF\", \"#FECB52\"], \"font\": {\"color\": \"#f2f5fa\"}, \"geo\": {\"bgcolor\": \"rgb(17,17,17)\", \"lakecolor\": \"rgb(17,17,17)\", \"landcolor\": \"rgb(17,17,17)\", \"showlakes\": true, \"showland\": true, \"subunitcolor\": \"#506784\"}, \"hoverlabel\": {\"align\": \"left\"}, \"hovermode\": \"closest\", \"mapbox\": {\"style\": \"dark\"}, \"paper_bgcolor\": \"rgb(17,17,17)\", \"plot_bgcolor\": \"rgb(17,17,17)\", \"polar\": {\"angularaxis\": {\"gridcolor\": \"#506784\", \"linecolor\": \"#506784\", \"ticks\": \"\"}, \"bgcolor\": \"rgb(17,17,17)\", \"radialaxis\": {\"gridcolor\": \"#506784\", \"linecolor\": \"#506784\", \"ticks\": \"\"}}, \"scene\": {\"xaxis\": {\"backgroundcolor\": \"rgb(17,17,17)\", \"gridcolor\": \"#506784\", \"gridwidth\": 2, \"linecolor\": \"#506784\", \"showbackground\": true, \"ticks\": \"\", \"zerolinecolor\": \"#C8D4E3\"}, \"yaxis\": {\"backgroundcolor\": \"rgb(17,17,17)\", \"gridcolor\": \"#506784\", \"gridwidth\": 2, \"linecolor\": \"#506784\", \"showbackground\": true, \"ticks\": \"\", \"zerolinecolor\": \"#C8D4E3\"}, \"zaxis\": {\"backgroundcolor\": \"rgb(17,17,17)\", \"gridcolor\": \"#506784\", \"gridwidth\": 2, \"linecolor\": \"#506784\", \"showbackground\": true, \"ticks\": \"\", \"zerolinecolor\": \"#C8D4E3\"}}, \"shapedefaults\": {\"line\": {\"color\": \"#f2f5fa\"}}, \"sliderdefaults\": {\"bgcolor\": \"#C8D4E3\", \"bordercolor\": \"rgb(17,17,17)\", \"borderwidth\": 1, \"tickwidth\": 0}, \"ternary\": {\"aaxis\": {\"gridcolor\": \"#506784\", \"linecolor\": \"#506784\", \"ticks\": \"\"}, \"baxis\": {\"gridcolor\": \"#506784\", \"linecolor\": \"#506784\", \"ticks\": \"\"}, \"bgcolor\": \"rgb(17,17,17)\", \"caxis\": {\"gridcolor\": \"#506784\", \"linecolor\": \"#506784\", \"ticks\": \"\"}}, \"title\": {\"x\": 0.05}, \"updatemenudefaults\": {\"bgcolor\": \"#506784\", \"borderwidth\": 0}, \"xaxis\": {\"automargin\": true, \"gridcolor\": \"#283442\", \"linecolor\": \"#506784\", \"ticks\": \"\", \"title\": {\"standoff\": 15}, \"zerolinecolor\": \"#283442\", \"zerolinewidth\": 2}, \"yaxis\": {\"automargin\": true, \"gridcolor\": \"#283442\", \"linecolor\": \"#506784\", \"ticks\": \"\", \"title\": {\"standoff\": 15}, \"zerolinecolor\": \"#283442\", \"zerolinewidth\": 2}}}, \"title\": {\"text\": \"Error \\ud835\\udf00 de Tasa de transferencia de Calor\"}},\n",
              "                        {\"responsive\": true}\n",
              "                    ).then(function(){\n",
              "                            \n",
              "var gd = document.getElementById('b6c9e4e7-c16e-419e-a99b-819d53fc648e');\n",
              "var x = new MutationObserver(function (mutations, observer) {{\n",
              "        var display = window.getComputedStyle(gd).display;\n",
              "        if (!display || display === 'none') {{\n",
              "            console.log([gd, 'removed!']);\n",
              "            Plotly.purge(gd);\n",
              "            observer.disconnect();\n",
              "        }}\n",
              "}});\n",
              "\n",
              "// Listen for the removal of the full notebook cells\n",
              "var notebookContainer = gd.closest('#notebook-container');\n",
              "if (notebookContainer) {{\n",
              "    x.observe(notebookContainer, {childList: true});\n",
              "}}\n",
              "\n",
              "// Listen for the clearing of the current output cell\n",
              "var outputEl = gd.closest('.output');\n",
              "if (outputEl) {{\n",
              "    x.observe(outputEl, {childList: true});\n",
              "}}\n",
              "\n",
              "                        })\n",
              "                };\n",
              "                \n",
              "            </script>\n",
              "        </div>\n",
              "</body>\n",
              "</html>"
            ]
          },
          "metadata": {},
          "output_type": "display_data"
        }
      ],
      "source": [
        "#@title\n",
        "import plotly.graph_objects as go\n",
        "\n",
        "enQ = np.concatenate((100*(dQ2[:-1]-dQ1[:-1])/dQ1[:-1],[0]),axis=0)\n",
        "exQ = np.concatenate((100*(dQr[:-1]-dQ1[:-1])/dQ1[:-1],[0]),axis=0)\n",
        "\n",
        "graphs = [enQ,exQ]\n",
        "titles = ['error dQ numerica','error dQ extrapolada']\n",
        "colors = ['gold','ghostwhite']\n",
        "fig = go.Figure(layout={'template':'plotly_dark'})\n",
        "fig.update_layout(\n",
        "  plot_bgcolor='rgba(15,15,15,0)',\n",
        "  paper_bgcolor ='rgba(25,25,25,1)')\n",
        "  \n",
        "for graph,title,color in list(zip(graphs,titles,colors)):\n",
        "  fig.add_trace(go.Scatter(x=x, y=graph,\n",
        "                  mode='lines+markers',\n",
        "                  name=title,\n",
        "                  line=dict(color=color)))\n",
        "\n",
        "fig.for_each_trace(lambda trace: trace.update(visible=\"legendonly\") \n",
        "                  if trace.name != 'error dQ numerica' else ())\n",
        "  \n",
        "fig.update_layout(title_text=\"Error 𝜀 de Tasa de transferencia de Calor\")\n",
        "fig.show()"
      ]
    }
  ],
  "metadata": {
    "colab": {
      "provenance": []
    },
    "kernelspec": {
      "display_name": "Python 3",
      "name": "python3"
    },
    "language_info": {
      "name": "python"
    }
  },
  "nbformat": 4,
  "nbformat_minor": 0
}